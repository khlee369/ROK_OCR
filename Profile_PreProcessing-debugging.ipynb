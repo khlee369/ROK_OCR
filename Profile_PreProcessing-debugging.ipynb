{
 "cells": [
  {
   "cell_type": "markdown",
   "metadata": {},
   "source": [
    "# Profile PreProcessing\n",
    "\n",
    "## 1. Gray Filter\n",
    "## 2. Cropping\n",
    "## 3. Binary Inversion\n",
    "## 4. Integration or Individuall OCR"
   ]
  },
  {
   "cell_type": "markdown",
   "metadata": {},
   "source": [
    "스크린샷 위치 : C:\\Users\\KH_Home\\Nox_share\\ImageShare\\Screenshots"
   ]
  },
  {
   "cell_type": "markdown",
   "metadata": {},
   "source": [
    "tesseract_path : C:\\Program Files\\Tesseract-OCR\\tesseract.exe"
   ]
  },
  {
   "cell_type": "code",
   "execution_count": null,
   "metadata": {},
   "outputs": [],
   "source": [
    "import numpy as np\n",
    "import matplotlib.pyplot as plt\n",
    "import glob\n",
    "import cv2\n",
    "import pandas as pd"
   ]
  },
  {
   "cell_type": "code",
   "execution_count": null,
   "metadata": {},
   "outputs": [],
   "source": [
    "import pytesseract\n",
    "pytesseract.pytesseract.tesseract_cmd = r'C:\\Program Files\\Tesseract-OCR\\tesseract.exe'"
   ]
  },
  {
   "cell_type": "code",
   "execution_count": null,
   "metadata": {
    "scrolled": true
   },
   "outputs": [],
   "source": [
    "profile_path = './Screenshots/'\n",
    "profile_list = glob.glob(profile_path + '*.png')\n",
    "for fn in profile_list:\n",
    "    print(fn)"
   ]
  },
  {
   "cell_type": "code",
   "execution_count": null,
   "metadata": {},
   "outputs": [],
   "source": [
    "crop_dict = {\n",
    "    'ID' : np.array([185, 216, 595, 672], dtype=int),\n",
    "    'power' : np.array([290, 320, 690, 880], dtype=int),\n",
    "    'kill' : np.array([290, 320, 880, 1050], dtype=int),\n",
    "}"
   ]
  },
  {
   "cell_type": "code",
   "execution_count": null,
   "metadata": {},
   "outputs": [],
   "source": [
    "def bin_inv(img, thr=140, show=False):\n",
    "    ret,thresh2 = cv2.threshold(img,thr,255,cv2.THRESH_BINARY_INV)\n",
    "    ocr_result = pytesseract.image_to_string(thresh2)\n",
    "    if show:\n",
    "        plt.imshow(thresh2, 'gray')\n",
    "        plt.show()\n",
    "        print(ocr_result)\n",
    "    return thresh2, ocr_result"
   ]
  },
  {
   "cell_type": "code",
   "execution_count": null,
   "metadata": {},
   "outputs": [],
   "source": [
    "def str2num(strnum):\n",
    "    result = strnum.replace(',', '').replace('.', '')\n",
    "    if result.isdigit():\n",
    "        return int(result)\n",
    "    else:\n",
    "        return 0"
   ]
  },
  {
   "cell_type": "code",
   "execution_count": null,
   "metadata": {},
   "outputs": [],
   "source": [
    "class Player():\n",
    "    def __init__(self, ID, power, kill):\n",
    "        self.ID = ID\n",
    "        self.power = power\n",
    "        self.kill = kill\n",
    "        self.name = None\n",
    "        self.path = None"
   ]
  },
  {
   "cell_type": "markdown",
   "metadata": {},
   "source": [
    "# Load id2name.xlsx to dict"
   ]
  },
  {
   "cell_type": "code",
   "execution_count": null,
   "metadata": {},
   "outputs": [],
   "source": [
    "def load_id2name(file_path):\n",
    "    df_id2name = pd.read_excel(file_path)\n",
    "    id2name = dict([])\n",
    "\n",
    "    for i in range(len(df_id2name)):\n",
    "        row = df_id2name.loc[i]\n",
    "        id2name[row['ID']] = row['name']\n",
    "    \n",
    "    return id2name"
   ]
  },
  {
   "cell_type": "code",
   "execution_count": null,
   "metadata": {},
   "outputs": [],
   "source": [
    "id2name = load_id2name('id2name.xlsx')\n",
    "id2name"
   ]
  },
  {
   "cell_type": "markdown",
   "metadata": {},
   "source": [
    "# Let's OCR"
   ]
  },
  {
   "cell_type": "code",
   "execution_count": null,
   "metadata": {
    "scrolled": false
   },
   "outputs": [],
   "source": [
    "Players = dict([])\n",
    "\n",
    "L = len(profile_list)\n",
    "for i, fn in enumerate(profile_list):\n",
    "    print('{}/{}'.format(i,L))\n",
    "    img = cv2.imread(fn,0)\n",
    "\n",
    "    IDp = crop_dict['ID']\n",
    "    powerp = crop_dict['power']\n",
    "    killp = crop_dict['kill']\n",
    "    \n",
    "    img_ID = img[IDp[0]:IDp[1], IDp[2]:IDp[3]]\n",
    "    img_power = img[powerp[0]:powerp[1], powerp[2]:powerp[3]]\n",
    "    img_kill = img[killp[0]:killp[1], killp[2]:killp[3]]\n",
    "    \n",
    "    _, str_ID = bin_inv(img_ID)\n",
    "    _, str_power = bin_inv(img_power)\n",
    "    _, str_kill = bin_inv(img_kill)\n",
    "    \n",
    "    ID, power, kill = str2num(str_ID), str2num(str_power), str2num(str_kill)\n",
    "    \n",
    "    Players[ID] = Player(ID,power,kill)        \n",
    "    Players[ID].path = fn.split('\\\\')[-1]\n",
    "    \n",
    "    try:\n",
    "        Players[ID].name = id2name[ID]\n",
    "    except KeyError:\n",
    "        print('KeyError!! : checkt {}'.format(Players[ID].path))"
   ]
  },
  {
   "cell_type": "code",
   "execution_count": null,
   "metadata": {
    "scrolled": true
   },
   "outputs": [],
   "source": [
    "df = {\n",
    "    'ID' : [],\n",
    "    'name' : [],\n",
    "    'power' : [],\n",
    "    'kill' : [],\n",
    "    'path' : []\n",
    "}\n",
    "df = pd.DataFrame(df, dtype=int)\n",
    "\n",
    "L = len(Players)\n",
    "for ID, p in Players.items():\n",
    "    df = df.append({\n",
    "        'ID' : ID,\n",
    "        'name' : p.name,\n",
    "        'power' : p.power,\n",
    "        'kill' : p.kill,\n",
    "        'path' : p.path\n",
    "    }, ignore_index=True)"
   ]
  },
  {
   "cell_type": "code",
   "execution_count": null,
   "metadata": {},
   "outputs": [],
   "source": [
    "df"
   ]
  },
  {
   "cell_type": "markdown",
   "metadata": {},
   "source": [
    "# save as xlsx"
   ]
  },
  {
   "cell_type": "code",
   "execution_count": null,
   "metadata": {},
   "outputs": [],
   "source": [
    "df.to_excel('tmp.xlsx', index=False)"
   ]
  },
  {
   "cell_type": "markdown",
   "metadata": {},
   "source": [
    "# Matching ID -name"
   ]
  },
  {
   "cell_type": "markdown",
   "metadata": {},
   "source": [
    "# 여긴 이제 안씀"
   ]
  },
  {
   "cell_type": "markdown",
   "metadata": {},
   "source": [
    "# id name matching"
   ]
  },
  {
   "cell_type": "code",
   "execution_count": null,
   "metadata": {},
   "outputs": [],
   "source": [
    "df_id2name = pd.read_excel('id2name_00.xlsx')\n",
    "id2name = dict([])\n",
    "for i in range(len(df_id2name)):\n",
    "    df_row = df_id2name.loc[i]\n",
    "    id2name[df_row['ID']] = df_row['name']"
   ]
  },
  {
   "cell_type": "code",
   "execution_count": null,
   "metadata": {},
   "outputs": [],
   "source": [
    "id2name"
   ]
  },
  {
   "cell_type": "markdown",
   "metadata": {},
   "source": [
    "# dict to xlsx"
   ]
  },
  {
   "cell_type": "code",
   "execution_count": null,
   "metadata": {},
   "outputs": [],
   "source": [
    "df_xlsx = {\n",
    "    'ID' : [],\n",
    "    'name' : [],\n",
    "}\n",
    "df_xlsx = pd.DataFrame(df_xlsx, dtype=int)\n",
    "\n",
    "for ID, name in id2name.items():\n",
    "    df_xlsx = df_xlsx.append({\n",
    "        'ID' : ID,\n",
    "        'name' : name\n",
    "    }, ignore_index=True)\n",
    "    \n",
    "df_xlsx.to_excel('id2name.xlsx', index=False)"
   ]
  },
  {
   "cell_type": "code",
   "execution_count": null,
   "metadata": {},
   "outputs": [],
   "source": []
  },
  {
   "cell_type": "code",
   "execution_count": null,
   "metadata": {},
   "outputs": [],
   "source": []
  },
  {
   "cell_type": "code",
   "execution_count": null,
   "metadata": {},
   "outputs": [],
   "source": []
  },
  {
   "cell_type": "markdown",
   "metadata": {},
   "source": [
    "# ALL"
   ]
  },
  {
   "cell_type": "code",
   "execution_count": null,
   "metadata": {
    "scrolled": false
   },
   "outputs": [],
   "source": [
    "# for fn in profile_list:\n",
    "#     img = cv2.imread(fn,0)\n",
    "#     plt.imshow(img, 'gray')\n",
    "#     plt.show()\n",
    "\n",
    "#     IDp = crop_dict['ID']\n",
    "#     powerp = crop_dict['power']\n",
    "#     killp = crop_dict['kill']\n",
    "    \n",
    "#     img_ID = img[IDp[0]:IDp[1], IDp[2]:IDp[3]]\n",
    "#     img_power = img[powerp[0]:powerp[1], powerp[2]:powerp[3]]\n",
    "#     img_kill = img[killp[0]:killp[1], killp[2]:killp[3]]\n",
    "    \n",
    "#     i1 = bin_inv(img_ID, show=True)\n",
    "#     i2 = bin_inv(img_power, show=True)\n",
    "#     i3 = bin_inv(img_kill, show=True)\n",
    "    \n",
    "\n",
    "#     a = input('y or n')\n",
    "#     if a == 'n':\n",
    "#         break"
   ]
  },
  {
   "cell_type": "code",
   "execution_count": null,
   "metadata": {},
   "outputs": [],
   "source": []
  },
  {
   "cell_type": "code",
   "execution_count": null,
   "metadata": {},
   "outputs": [],
   "source": []
  }
 ],
 "metadata": {
  "kernelspec": {
   "display_name": "Python [conda env:ROKOCR]",
   "language": "python",
   "name": "conda-env-ROKOCR-py"
  },
  "language_info": {
   "codemirror_mode": {
    "name": "ipython",
    "version": 3
   },
   "file_extension": ".py",
   "mimetype": "text/x-python",
   "name": "python",
   "nbconvert_exporter": "python",
   "pygments_lexer": "ipython3",
   "version": "3.6.10"
  }
 },
 "nbformat": 4,
 "nbformat_minor": 4
}
