{
 "cells": [
  {
   "cell_type": "markdown",
   "metadata": {},
   "source": [
    "# Profile PreProcessing\n",
    "\n",
    "## 1. Gray Filter\n",
    "## 2. Cropping\n",
    "## 3. Binary Inversion\n",
    "## 4. Integration or Individuall OCR"
   ]
  },
  {
   "cell_type": "markdown",
   "metadata": {},
   "source": [
    "스크린샷 위치 : C:\\Users\\KH_Home\\Nox_share\\ImageShare\\Screenshots"
   ]
  },
  {
   "cell_type": "markdown",
   "metadata": {},
   "source": [
    "tesseract_path : C:\\Program Files\\Tesseract-OCR\\tesseract.exe"
   ]
  },
  {
   "cell_type": "code",
   "execution_count": 1,
   "metadata": {},
   "outputs": [],
   "source": [
    "import numpy as np\n",
    "import matplotlib.pyplot as plt\n",
    "import glob\n",
    "import cv2\n",
    "import pandas as pd"
   ]
  },
  {
   "cell_type": "code",
   "execution_count": 2,
   "metadata": {},
   "outputs": [],
   "source": [
    "import pytesseract\n",
    "pytesseract.pytesseract.tesseract_cmd = r'C:\\Program Files\\Tesseract-OCR\\tesseract.exe'"
   ]
  },
  {
   "cell_type": "code",
   "execution_count": 3,
   "metadata": {
    "scrolled": true
   },
   "outputs": [
    {
     "name": "stdout",
     "output_type": "stream",
     "text": [
      "./Screenshots\\Screenshot_2020-08-23-14-29-07.png\n",
      "./Screenshots\\Screenshot_2020-08-23-14-29-08.png\n",
      "./Screenshots\\Screenshot_2020-08-23-14-29-31.png\n",
      "./Screenshots\\Screenshot_2020-08-23-14-29-33.png\n",
      "./Screenshots\\Screenshot_2020-08-23-14-29-38.png\n",
      "./Screenshots\\Screenshot_2020-08-23-14-29-39.png\n",
      "./Screenshots\\Screenshot_2020-08-23-14-29-44.png\n",
      "./Screenshots\\Screenshot_2020-08-23-14-29-46.png\n",
      "./Screenshots\\Screenshot_2020-08-23-14-29-50.png\n",
      "./Screenshots\\Screenshot_2020-08-23-14-29-52.png\n",
      "./Screenshots\\Screenshot_2020-08-23-14-29-58.png\n",
      "./Screenshots\\Screenshot_2020-08-23-14-30-00.png\n",
      "./Screenshots\\Screenshot_2020-08-23-14-30-05.png\n",
      "./Screenshots\\Screenshot_2020-08-23-14-30-06.png\n",
      "./Screenshots\\Screenshot_2020-08-23-14-30-11.png\n",
      "./Screenshots\\Screenshot_2020-08-23-14-30-13.png\n",
      "./Screenshots\\Screenshot_2020-08-23-14-30-17.png\n",
      "./Screenshots\\Screenshot_2020-08-23-14-30-19.png\n",
      "./Screenshots\\Screenshot_2020-08-23-14-30-28.png\n",
      "./Screenshots\\Screenshot_2020-08-23-14-30-29.png\n",
      "./Screenshots\\Screenshot_2020-08-23-14-30-34.png\n",
      "./Screenshots\\Screenshot_2020-08-23-14-30-35.png\n",
      "./Screenshots\\Screenshot_2020-08-23-14-30-40.png\n",
      "./Screenshots\\Screenshot_2020-08-23-14-30-41.png\n",
      "./Screenshots\\Screenshot_2020-08-23-14-30-45.png\n",
      "./Screenshots\\Screenshot_2020-08-23-14-30-47.png\n",
      "./Screenshots\\Screenshot_2020-08-23-14-30-52.png\n",
      "./Screenshots\\Screenshot_2020-08-23-14-30-53.png\n",
      "./Screenshots\\Screenshot_2020-08-23-14-30-58.png\n",
      "./Screenshots\\Screenshot_2020-08-23-14-30-59.png\n",
      "./Screenshots\\Screenshot_2020-08-23-14-31-04.png\n",
      "./Screenshots\\Screenshot_2020-08-23-14-31-05.png\n",
      "./Screenshots\\Screenshot_2020-08-23-14-31-10.png\n",
      "./Screenshots\\Screenshot_2020-08-23-14-31-11.png\n",
      "./Screenshots\\Screenshot_2020-08-23-14-31-19.png\n",
      "./Screenshots\\Screenshot_2020-08-23-14-31-21.png\n",
      "./Screenshots\\Screenshot_2020-08-23-14-31-25.png\n",
      "./Screenshots\\Screenshot_2020-08-23-14-31-27.png\n",
      "./Screenshots\\Screenshot_2020-08-23-14-31-31.png\n",
      "./Screenshots\\Screenshot_2020-08-23-14-31-33.png\n",
      "./Screenshots\\Screenshot_2020-08-23-14-31-37.png\n",
      "./Screenshots\\Screenshot_2020-08-23-14-31-39.png\n",
      "./Screenshots\\Screenshot_2020-08-23-14-31-43.png\n",
      "./Screenshots\\Screenshot_2020-08-23-14-31-44.png\n",
      "./Screenshots\\Screenshot_2020-08-23-14-31-49.png\n",
      "./Screenshots\\Screenshot_2020-08-23-14-31-51.png\n",
      "./Screenshots\\Screenshot_2020-08-23-14-31-55.png\n",
      "./Screenshots\\Screenshot_2020-08-23-14-31-56.png\n",
      "./Screenshots\\Screenshot_2020-08-23-14-32-01.png\n",
      "./Screenshots\\Screenshot_2020-08-23-14-32-02.png\n",
      "./Screenshots\\Screenshot_2020-08-23-14-32-10.png\n",
      "./Screenshots\\Screenshot_2020-08-23-14-32-12.png\n",
      "./Screenshots\\Screenshot_2020-08-23-14-32-16.png\n",
      "./Screenshots\\Screenshot_2020-08-23-14-32-18.png\n",
      "./Screenshots\\Screenshot_2020-08-23-14-32-22.png\n",
      "./Screenshots\\Screenshot_2020-08-23-14-32-24.png\n",
      "./Screenshots\\Screenshot_2020-08-23-14-32-28.png\n",
      "./Screenshots\\Screenshot_2020-08-23-14-32-30.png\n",
      "./Screenshots\\Screenshot_2020-08-23-14-32-34.png\n",
      "./Screenshots\\Screenshot_2020-08-23-14-32-36.png\n",
      "./Screenshots\\Screenshot_2020-08-23-14-32-40.png\n",
      "./Screenshots\\Screenshot_2020-08-23-14-32-42.png\n",
      "./Screenshots\\Screenshot_2020-08-23-14-32-46.png\n",
      "./Screenshots\\Screenshot_2020-08-23-14-32-48.png\n",
      "./Screenshots\\Screenshot_2020-08-23-14-32-52.png\n",
      "./Screenshots\\Screenshot_2020-08-23-14-32-54.png\n",
      "./Screenshots\\Screenshot_2020-08-23-14-33-01.png\n",
      "./Screenshots\\Screenshot_2020-08-23-14-33-03.png\n",
      "./Screenshots\\Screenshot_2020-08-23-14-33-07.png\n",
      "./Screenshots\\Screenshot_2020-08-23-14-33-09.png\n",
      "./Screenshots\\Screenshot_2020-08-23-14-33-13.png\n",
      "./Screenshots\\Screenshot_2020-08-23-14-33-15.png\n",
      "./Screenshots\\Screenshot_2020-08-23-14-33-19.png\n",
      "./Screenshots\\Screenshot_2020-08-23-14-33-21.png\n",
      "./Screenshots\\Screenshot_2020-08-23-14-33-25.png\n",
      "./Screenshots\\Screenshot_2020-08-23-14-33-27.png\n",
      "./Screenshots\\Screenshot_2020-08-23-14-33-31.png\n",
      "./Screenshots\\Screenshot_2020-08-23-14-33-33.png\n",
      "./Screenshots\\Screenshot_2020-08-23-14-33-37.png\n",
      "./Screenshots\\Screenshot_2020-08-23-14-33-39.png\n",
      "./Screenshots\\Screenshot_2020-08-23-14-33-43.png\n",
      "./Screenshots\\Screenshot_2020-08-23-14-33-45.png\n",
      "./Screenshots\\Screenshot_2020-08-23-14-33-53.png\n",
      "./Screenshots\\Screenshot_2020-08-23-14-33-54.png\n",
      "./Screenshots\\Screenshot_2020-08-23-14-33-59.png\n",
      "./Screenshots\\Screenshot_2020-08-23-14-34-00.png\n",
      "./Screenshots\\Screenshot_2020-08-23-14-34-05.png\n",
      "./Screenshots\\Screenshot_2020-08-23-14-34-06.png\n",
      "./Screenshots\\Screenshot_2020-08-23-14-34-11.png\n",
      "./Screenshots\\Screenshot_2020-08-23-14-34-12.png\n",
      "./Screenshots\\Screenshot_2020-08-23-14-34-16.png\n",
      "./Screenshots\\Screenshot_2020-08-23-14-34-18.png\n",
      "./Screenshots\\Screenshot_2020-08-23-14-34-22.png\n",
      "./Screenshots\\Screenshot_2020-08-23-14-34-24.png\n",
      "./Screenshots\\Screenshot_2020-08-23-14-34-28.png\n",
      "./Screenshots\\Screenshot_2020-08-23-14-34-30.png\n",
      "./Screenshots\\Screenshot_2020-08-23-14-34-35.png\n",
      "./Screenshots\\Screenshot_2020-08-23-14-34-36.png\n",
      "./Screenshots\\Screenshot_2020-08-23-14-34-44.png\n",
      "./Screenshots\\Screenshot_2020-08-23-14-34-45.png\n",
      "./Screenshots\\Screenshot_2020-08-23-14-34-50.png\n",
      "./Screenshots\\Screenshot_2020-08-23-14-34-51.png\n",
      "./Screenshots\\Screenshot_2020-08-23-14-34-56.png\n",
      "./Screenshots\\Screenshot_2020-08-23-14-34-57.png\n",
      "./Screenshots\\Screenshot_2020-08-23-14-35-02.png\n",
      "./Screenshots\\Screenshot_2020-08-23-14-35-03.png\n",
      "./Screenshots\\Screenshot_2020-08-23-14-35-08.png\n",
      "./Screenshots\\Screenshot_2020-08-23-14-35-09.png\n",
      "./Screenshots\\Screenshot_2020-08-23-14-35-14.png\n",
      "./Screenshots\\Screenshot_2020-08-23-14-35-15.png\n",
      "./Screenshots\\Screenshot_2020-08-23-14-35-20.png\n",
      "./Screenshots\\Screenshot_2020-08-23-14-35-21.png\n",
      "./Screenshots\\Screenshot_2020-08-23-14-35-26.png\n",
      "./Screenshots\\Screenshot_2020-08-23-14-35-27.png\n",
      "./Screenshots\\Screenshot_2020-08-23-14-35-36.png\n",
      "./Screenshots\\Screenshot_2020-08-23-14-35-38.png\n",
      "./Screenshots\\Screenshot_2020-08-23-14-35-42.png\n",
      "./Screenshots\\Screenshot_2020-08-23-14-35-44.png\n",
      "./Screenshots\\Screenshot_2020-08-23-14-35-48.png\n",
      "./Screenshots\\Screenshot_2020-08-23-14-35-50.png\n",
      "./Screenshots\\Screenshot_2020-08-23-14-35-54.png\n",
      "./Screenshots\\Screenshot_2020-08-23-14-35-56.png\n",
      "./Screenshots\\Screenshot_2020-08-23-14-36-00.png\n",
      "./Screenshots\\Screenshot_2020-08-23-14-36-02.png\n",
      "./Screenshots\\Screenshot_2020-08-23-14-36-06.png\n",
      "./Screenshots\\Screenshot_2020-08-23-14-36-08.png\n",
      "./Screenshots\\Screenshot_2020-08-23-14-36-12.png\n",
      "./Screenshots\\Screenshot_2020-08-23-14-36-14.png\n",
      "./Screenshots\\Screenshot_2020-08-23-14-36-18.png\n",
      "./Screenshots\\Screenshot_2020-08-23-14-36-20.png\n",
      "./Screenshots\\Screenshot_2020-08-23-14-36-27.png\n",
      "./Screenshots\\Screenshot_2020-08-23-14-36-29.png\n",
      "./Screenshots\\Screenshot_2020-08-23-14-36-33.png\n",
      "./Screenshots\\Screenshot_2020-08-23-14-36-35.png\n",
      "./Screenshots\\Screenshot_2020-08-23-14-36-39.png\n",
      "./Screenshots\\Screenshot_2020-08-23-14-36-41.png\n",
      "./Screenshots\\Screenshot_2020-08-23-14-36-45.png\n",
      "./Screenshots\\Screenshot_2020-08-23-14-36-47.png\n",
      "./Screenshots\\Screenshot_2020-08-23-14-36-51.png\n",
      "./Screenshots\\Screenshot_2020-08-23-14-36-53.png\n",
      "./Screenshots\\Screenshot_2020-08-23-14-36-57.png\n",
      "./Screenshots\\Screenshot_2020-08-23-14-36-59.png\n",
      "./Screenshots\\Screenshot_2020-08-23-14-37-03.png\n",
      "./Screenshots\\Screenshot_2020-08-23-14-37-05.png\n",
      "./Screenshots\\Screenshot_2020-08-23-14-37-09.png\n",
      "./Screenshots\\Screenshot_2020-08-23-14-37-11.png\n",
      "./Screenshots\\Screenshot_2020-08-23-14-37-19.png\n",
      "./Screenshots\\Screenshot_2020-08-23-14-37-20.png\n",
      "./Screenshots\\Screenshot_2020-08-23-14-37-25.png\n",
      "./Screenshots\\Screenshot_2020-08-23-14-37-26.png\n",
      "./Screenshots\\Screenshot_2020-08-23-14-37-31.png\n",
      "./Screenshots\\Screenshot_2020-08-23-14-37-32.png\n",
      "./Screenshots\\Screenshot_2020-08-23-14-37-37.png\n",
      "./Screenshots\\Screenshot_2020-08-23-14-37-38.png\n",
      "./Screenshots\\Screenshot_2020-08-23-14-37-43.png\n",
      "./Screenshots\\Screenshot_2020-08-23-14-37-44.png\n",
      "./Screenshots\\Screenshot_2020-08-23-14-37-49.png\n",
      "./Screenshots\\Screenshot_2020-08-23-14-37-50.png\n",
      "./Screenshots\\Screenshot_2020-08-23-14-37-55.png\n",
      "./Screenshots\\Screenshot_2020-08-23-14-37-56.png\n",
      "./Screenshots\\Screenshot_2020-08-23-14-38-00.png\n",
      "./Screenshots\\Screenshot_2020-08-23-14-38-02.png\n",
      "./Screenshots\\Screenshot_2020-08-23-14-38-10.png\n",
      "./Screenshots\\Screenshot_2020-08-23-14-38-11.png\n",
      "./Screenshots\\Screenshot_2020-08-23-14-38-16.png\n",
      "./Screenshots\\Screenshot_2020-08-23-14-38-17.png\n",
      "./Screenshots\\Screenshot_2020-08-23-14-38-22.png\n",
      "./Screenshots\\Screenshot_2020-08-23-14-38-23.png\n",
      "./Screenshots\\Screenshot_2020-08-23-14-38-28.png\n",
      "./Screenshots\\Screenshot_2020-08-23-14-38-29.png\n",
      "./Screenshots\\Screenshot_2020-08-23-14-38-34.png\n",
      "./Screenshots\\Screenshot_2020-08-23-14-38-35.png\n",
      "./Screenshots\\Screenshot_2020-08-23-14-38-40.png\n",
      "./Screenshots\\Screenshot_2020-08-23-14-38-41.png\n",
      "./Screenshots\\Screenshot_2020-08-23-14-38-46.png\n",
      "./Screenshots\\Screenshot_2020-08-23-14-38-47.png\n",
      "./Screenshots\\Screenshot_2020-08-23-14-38-52.png\n",
      "./Screenshots\\Screenshot_2020-08-23-14-38-53.png\n",
      "./Screenshots\\Screenshot_2020-08-23-14-39-01.png\n",
      "./Screenshots\\Screenshot_2020-08-23-14-39-03.png\n",
      "./Screenshots\\Screenshot_2020-08-23-14-39-07.png\n",
      "./Screenshots\\Screenshot_2020-08-23-14-39-09.png\n",
      "./Screenshots\\Screenshot_2020-08-23-14-39-13.png\n",
      "./Screenshots\\Screenshot_2020-08-23-14-39-15.png\n",
      "./Screenshots\\Screenshot_2020-08-23-14-39-19.png\n",
      "./Screenshots\\Screenshot_2020-08-23-14-39-21.png\n",
      "./Screenshots\\Screenshot_2020-08-23-14-39-25.png\n",
      "./Screenshots\\Screenshot_2020-08-23-14-39-27.png\n",
      "./Screenshots\\Screenshot_2020-08-23-14-39-31.png\n",
      "./Screenshots\\Screenshot_2020-08-23-14-39-33.png\n",
      "./Screenshots\\Screenshot_2020-08-23-14-39-37.png\n",
      "./Screenshots\\Screenshot_2020-08-23-14-39-39.png\n",
      "./Screenshots\\Screenshot_2020-08-23-14-39-43.png\n",
      "./Screenshots\\Screenshot_2020-08-23-14-39-45.png\n",
      "./Screenshots\\Screenshot_2020-08-23-14-39-52.png\n",
      "./Screenshots\\Screenshot_2020-08-23-14-39-54.png\n",
      "./Screenshots\\Screenshot_2020-08-23-14-39-58.png\n",
      "./Screenshots\\Screenshot_2020-08-23-14-40-00.png\n",
      "./Screenshots\\Screenshot_2020-08-23-14-40-04.png\n",
      "./Screenshots\\Screenshot_2020-08-23-14-40-06.png\n",
      "./Screenshots\\Screenshot_2020-08-23-14-40-10.png\n",
      "./Screenshots\\Screenshot_2020-08-23-14-40-12.png\n",
      "./Screenshots\\Screenshot_2020-08-23-14-40-16.png\n",
      "./Screenshots\\Screenshot_2020-08-23-14-40-18.png\n",
      "./Screenshots\\Screenshot_2020-08-23-14-40-22.png\n",
      "./Screenshots\\Screenshot_2020-08-23-14-40-24.png\n",
      "./Screenshots\\Screenshot_2020-08-23-14-40-28.png\n",
      "./Screenshots\\Screenshot_2020-08-23-14-40-30.png\n",
      "./Screenshots\\Screenshot_2020-08-23-14-40-34.png\n",
      "./Screenshots\\Screenshot_2020-08-23-14-40-36.png\n",
      "./Screenshots\\Screenshot_2020-08-23-14-40-44.png\n",
      "./Screenshots\\Screenshot_2020-08-23-14-40-46.png\n",
      "./Screenshots\\Screenshot_2020-08-23-14-40-52.png\n",
      "./Screenshots\\Screenshot_2020-08-23-14-40-53.png\n",
      "./Screenshots\\Screenshot_2020-08-23-14-40-58.png\n",
      "./Screenshots\\Screenshot_2020-08-23-14-40-59.png\n",
      "./Screenshots\\Screenshot_2020-08-23-14-41-04.png\n",
      "./Screenshots\\Screenshot_2020-08-23-14-41-05.png\n",
      "./Screenshots\\Screenshot_2020-08-23-14-41-10.png\n",
      "./Screenshots\\Screenshot_2020-08-23-14-41-11.png\n",
      "./Screenshots\\Screenshot_2020-08-23-14-41-16.png\n",
      "./Screenshots\\Screenshot_2020-08-23-14-41-17.png\n",
      "./Screenshots\\Screenshot_2020-08-23-14-41-22.png\n",
      "./Screenshots\\Screenshot_2020-08-23-14-41-23.png\n",
      "./Screenshots\\Screenshot_2020-08-23-14-41-31.png\n",
      "./Screenshots\\Screenshot_2020-08-23-14-41-33.png\n",
      "./Screenshots\\Screenshot_2020-08-23-14-41-37.png\n",
      "./Screenshots\\Screenshot_2020-08-23-14-41-39.png\n",
      "./Screenshots\\Screenshot_2020-08-23-14-41-43.png\n",
      "./Screenshots\\Screenshot_2020-08-23-14-41-45.png\n",
      "./Screenshots\\Screenshot_2020-08-23-14-41-49.png\n",
      "./Screenshots\\Screenshot_2020-08-23-14-41-50.png\n",
      "./Screenshots\\Screenshot_2020-08-23-14-41-55.png\n",
      "./Screenshots\\Screenshot_2020-08-23-14-41-57.png\n",
      "./Screenshots\\Screenshot_2020-08-23-14-42-01.png\n",
      "./Screenshots\\Screenshot_2020-08-23-14-42-02.png\n",
      "./Screenshots\\Screenshot_2020-08-23-14-42-07.png\n",
      "./Screenshots\\Screenshot_2020-08-23-14-42-08.png\n",
      "./Screenshots\\Screenshot_2020-08-23-14-42-13.png\n",
      "./Screenshots\\Screenshot_2020-08-23-14-42-14.png\n",
      "./Screenshots\\Screenshot_2020-08-23-14-42-22.png\n",
      "./Screenshots\\Screenshot_2020-08-23-14-42-24.png\n",
      "./Screenshots\\Screenshot_2020-08-23-14-42-28.png\n",
      "./Screenshots\\Screenshot_2020-08-23-14-42-30.png\n",
      "./Screenshots\\Screenshot_2020-08-23-14-42-34.png\n",
      "./Screenshots\\Screenshot_2020-08-23-14-42-36.png\n",
      "./Screenshots\\Screenshot_2020-08-23-14-42-40.png\n",
      "./Screenshots\\Screenshot_2020-08-23-14-42-42.png\n",
      "./Screenshots\\Screenshot_2020-08-23-14-42-46.png\n",
      "./Screenshots\\Screenshot_2020-08-23-14-42-48.png\n",
      "./Screenshots\\Screenshot_2020-08-23-14-42-52.png\n",
      "./Screenshots\\Screenshot_2020-08-23-14-42-54.png\n",
      "./Screenshots\\Screenshot_2020-08-23-14-42-58.png\n",
      "./Screenshots\\Screenshot_2020-08-23-14-43-00.png\n",
      "./Screenshots\\Screenshot_2020-08-23-14-43-04.png\n",
      "./Screenshots\\Screenshot_2020-08-23-14-43-06.png\n",
      "./Screenshots\\Screenshot_2020-08-23-14-43-13.png\n",
      "./Screenshots\\Screenshot_2020-08-23-14-43-15.png\n",
      "./Screenshots\\Screenshot_2020-08-23-14-43-19.png\n",
      "./Screenshots\\Screenshot_2020-08-23-14-43-21.png\n",
      "./Screenshots\\Screenshot_2020-08-23-14-43-25.png\n",
      "./Screenshots\\Screenshot_2020-08-23-14-43-27.png\n",
      "./Screenshots\\Screenshot_2020-08-23-14-43-31.png\n",
      "./Screenshots\\Screenshot_2020-08-23-14-43-33.png\n",
      "./Screenshots\\Screenshot_2020-08-23-14-43-37.png\n",
      "./Screenshots\\Screenshot_2020-08-23-14-43-39.png\n",
      "./Screenshots\\Screenshot_2020-08-23-14-43-43.png\n",
      "./Screenshots\\Screenshot_2020-08-23-14-43-45.png\n",
      "./Screenshots\\Screenshot_2020-08-23-14-43-49.png\n",
      "./Screenshots\\Screenshot_2020-08-23-14-43-51.png\n",
      "./Screenshots\\Screenshot_2020-08-23-14-43-55.png\n",
      "./Screenshots\\Screenshot_2020-08-23-14-43-57.png\n",
      "./Screenshots\\Screenshot_2020-08-23-14-44-05.png\n",
      "./Screenshots\\Screenshot_2020-08-23-14-44-06.png\n",
      "./Screenshots\\Screenshot_2020-08-23-14-44-11.png\n",
      "./Screenshots\\Screenshot_2020-08-23-14-44-12.png\n",
      "./Screenshots\\Screenshot_2020-08-23-14-44-16.png\n",
      "./Screenshots\\Screenshot_2020-08-23-14-44-18.png\n",
      "./Screenshots\\Screenshot_2020-08-23-14-44-22.png\n",
      "./Screenshots\\Screenshot_2020-08-23-14-44-24.png\n",
      "./Screenshots\\Screenshot_2020-08-23-14-44-29.png\n",
      "./Screenshots\\Screenshot_2020-08-23-14-44-30.png\n",
      "./Screenshots\\Screenshot_2020-08-23-14-44-35.png\n",
      "./Screenshots\\Screenshot_2020-08-23-14-44-36.png\n",
      "./Screenshots\\Screenshot_2020-08-23-14-44-40.png\n",
      "./Screenshots\\Screenshot_2020-08-23-14-44-42.png\n",
      "./Screenshots\\Screenshot_2020-08-23-14-44-46.png\n",
      "./Screenshots\\Screenshot_2020-08-23-14-44-48.png\n",
      "./Screenshots\\Screenshot_2020-08-23-14-44-56.png\n",
      "./Screenshots\\Screenshot_2020-08-23-14-44-58.png\n",
      "./Screenshots\\Screenshot_2020-08-23-14-45-02.png\n",
      "./Screenshots\\Screenshot_2020-08-23-14-45-03.png\n",
      "./Screenshots\\Screenshot_2020-08-23-14-45-08.png\n",
      "./Screenshots\\Screenshot_2020-08-23-14-45-09.png\n",
      "./Screenshots\\Screenshot_2020-08-23-14-45-14.png\n",
      "./Screenshots\\Screenshot_2020-08-23-14-45-15.png\n",
      "./Screenshots\\Screenshot_2020-08-23-14-45-20.png\n",
      "./Screenshots\\Screenshot_2020-08-23-14-45-21.png\n",
      "./Screenshots\\Screenshot_2020-08-23-14-45-26.png\n",
      "./Screenshots\\Screenshot_2020-08-23-14-45-27.png\n",
      "./Screenshots\\Screenshot_2020-08-23-14-45-32.png\n",
      "./Screenshots\\Screenshot_2020-08-23-14-45-33.png\n",
      "./Screenshots\\Screenshot_2020-08-23-14-45-38.png\n",
      "./Screenshots\\Screenshot_2020-08-23-14-45-39.png\n",
      "./Screenshots\\Screenshot_2020-08-23-14-45-47.png\n",
      "./Screenshots\\Screenshot_2020-08-23-14-45-49.png\n",
      "./Screenshots\\Screenshot_2020-08-23-14-45-53.png\n",
      "./Screenshots\\Screenshot_2020-08-23-14-45-55.png\n",
      "./Screenshots\\Screenshot_2020-08-23-14-45-59.png\n",
      "./Screenshots\\Screenshot_2020-08-23-14-46-01.png\n",
      "./Screenshots\\Screenshot_2020-08-23-14-46-05.png\n",
      "./Screenshots\\Screenshot_2020-08-23-14-46-07.png\n",
      "./Screenshots\\Screenshot_2020-08-23-14-46-11.png\n",
      "./Screenshots\\Screenshot_2020-08-23-14-46-13.png\n",
      "./Screenshots\\Screenshot_2020-08-23-14-46-17.png\n",
      "./Screenshots\\Screenshot_2020-08-23-14-46-19.png\n",
      "./Screenshots\\Screenshot_2020-08-23-14-46-23.png\n",
      "./Screenshots\\Screenshot_2020-08-23-14-46-25.png\n",
      "./Screenshots\\Screenshot_2020-08-23-14-46-29.png\n",
      "./Screenshots\\Screenshot_2020-08-23-14-46-31.png\n",
      "./Screenshots\\Screenshot_2020-08-23-14-46-35.png\n",
      "./Screenshots\\Screenshot_2020-08-23-14-46-37.png\n",
      "./Screenshots\\Screenshot_2020-08-23-14-46-47.png\n",
      "./Screenshots\\Screenshot_2020-08-23-14-46-51.png\n",
      "./Screenshots\\Screenshot_2020-08-23-14-47-16.png\n",
      "./Screenshots\\Screenshot_2020-08-23-14-47-19.png\n"
     ]
    }
   ],
   "source": [
    "profile_path = './Screenshots/'\n",
    "profile_list = glob.glob(profile_path + '*.png')\n",
    "for fn in profile_list:\n",
    "    print(fn)"
   ]
  },
  {
   "cell_type": "code",
   "execution_count": 4,
   "metadata": {},
   "outputs": [],
   "source": [
    "crop_dict = {\n",
    "    'ID' : np.array([185, 216, 595, 672], dtype=int),\n",
    "    'power' : np.array([290, 320, 690, 880], dtype=int),\n",
    "    'kill' : np.array([290, 320, 880, 1050], dtype=int),\n",
    "}"
   ]
  },
  {
   "cell_type": "code",
   "execution_count": 5,
   "metadata": {},
   "outputs": [],
   "source": [
    "def bin_inv(img, thr=140, show=False, inv=True):\n",
    "    ret,thresh2 = cv2.threshold(img,thr,255,cv2.THRESH_BINARY_INV)\n",
    "    if not inv:\n",
    "        ret,thresh2 = cv2.threshold(img,thr,255,cv2.THRESH_BINARY)\n",
    "    ocr_result = pytesseract.image_to_string(thresh2)\n",
    "    if show:\n",
    "        plt.imshow(thresh2, 'gray')\n",
    "        plt.show()\n",
    "        print(ocr_result)\n",
    "    return thresh2, ocr_result"
   ]
  },
  {
   "cell_type": "code",
   "execution_count": 6,
   "metadata": {},
   "outputs": [],
   "source": [
    "def str2num(strnum):\n",
    "    result = strnum.replace(',', '').replace('.', '').replace(' ','')\n",
    "    if result.isdigit():\n",
    "        return int(result)\n",
    "    else:\n",
    "        return -1"
   ]
  },
  {
   "cell_type": "code",
   "execution_count": 7,
   "metadata": {},
   "outputs": [],
   "source": [
    "class Player():\n",
    "    def __init__(self, ID, power, kill):\n",
    "        self.ID = ID\n",
    "        self.power = power\n",
    "        self.kill = kill\n",
    "        self.name = None\n",
    "        self.path = None"
   ]
  },
  {
   "cell_type": "markdown",
   "metadata": {},
   "source": [
    "# 디버깅해볼까용"
   ]
  },
  {
   "cell_type": "code",
   "execution_count": 8,
   "metadata": {},
   "outputs": [],
   "source": [
    "crop_dict = {\n",
    "    'ID' : np.array([185, 216, 595, 672], dtype=int),\n",
    "    'power' : np.array([290, 320, 690, 880], dtype=int),\n",
    "    'kill' : np.array([290, 320, 880, 1050], dtype=int),\n",
    "    'kill_4T' : np.array([250, 270, 887, 988], dtype=int),\n",
    "    'kill_5T' : np.array([282, 302, 764, 867], dtype=int),\n",
    "    'death' : np.array([360, 390, 890, 1060], dtype=int),\n",
    "    'gathering' : np.array([490, 520, 890, 1060], dtype=int),\n",
    "    'assist' : np.array([540, 570, 890, 1060], dtype=int),\n",
    "}"
   ]
  },
  {
   "cell_type": "code",
   "execution_count": 9,
   "metadata": {},
   "outputs": [
    {
     "name": "stdout",
     "output_type": "stream",
     "text": [
      "./Screenshots\\Screenshot_2020-08-23-14-29-07.png\n",
      "./Screenshots\\Screenshot_2020-08-23-14-29-08.png\n",
      "./Screenshots\\Screenshot_2020-08-23-14-29-31.png\n",
      "./Screenshots\\Screenshot_2020-08-23-14-29-33.png\n",
      "./Screenshots\\Screenshot_2020-08-23-14-29-38.png\n",
      "./Screenshots\\Screenshot_2020-08-23-14-29-39.png\n",
      "./Screenshots\\Screenshot_2020-08-23-14-29-44.png\n",
      "./Screenshots\\Screenshot_2020-08-23-14-29-46.png\n",
      "./Screenshots\\Screenshot_2020-08-23-14-29-50.png\n",
      "./Screenshots\\Screenshot_2020-08-23-14-29-52.png\n",
      "./Screenshots\\Screenshot_2020-08-23-14-29-58.png\n",
      "./Screenshots\\Screenshot_2020-08-23-14-30-00.png\n",
      "./Screenshots\\Screenshot_2020-08-23-14-30-05.png\n",
      "./Screenshots\\Screenshot_2020-08-23-14-30-06.png\n",
      "./Screenshots\\Screenshot_2020-08-23-14-30-11.png\n",
      "./Screenshots\\Screenshot_2020-08-23-14-30-13.png\n",
      "./Screenshots\\Screenshot_2020-08-23-14-30-17.png\n",
      "./Screenshots\\Screenshot_2020-08-23-14-30-19.png\n",
      "./Screenshots\\Screenshot_2020-08-23-14-30-28.png\n",
      "./Screenshots\\Screenshot_2020-08-23-14-30-29.png\n",
      "./Screenshots\\Screenshot_2020-08-23-14-30-34.png\n",
      "./Screenshots\\Screenshot_2020-08-23-14-30-35.png\n",
      "./Screenshots\\Screenshot_2020-08-23-14-30-40.png\n",
      "./Screenshots\\Screenshot_2020-08-23-14-30-41.png\n",
      "./Screenshots\\Screenshot_2020-08-23-14-30-45.png\n",
      "./Screenshots\\Screenshot_2020-08-23-14-30-47.png\n",
      "./Screenshots\\Screenshot_2020-08-23-14-30-52.png\n",
      "./Screenshots\\Screenshot_2020-08-23-14-30-53.png\n",
      "./Screenshots\\Screenshot_2020-08-23-14-30-58.png\n",
      "./Screenshots\\Screenshot_2020-08-23-14-30-59.png\n",
      "./Screenshots\\Screenshot_2020-08-23-14-31-04.png\n",
      "./Screenshots\\Screenshot_2020-08-23-14-31-05.png\n",
      "./Screenshots\\Screenshot_2020-08-23-14-31-10.png\n",
      "./Screenshots\\Screenshot_2020-08-23-14-31-11.png\n",
      "./Screenshots\\Screenshot_2020-08-23-14-31-19.png\n",
      "./Screenshots\\Screenshot_2020-08-23-14-31-21.png\n",
      "./Screenshots\\Screenshot_2020-08-23-14-31-25.png\n",
      "./Screenshots\\Screenshot_2020-08-23-14-31-27.png\n",
      "./Screenshots\\Screenshot_2020-08-23-14-31-31.png\n",
      "./Screenshots\\Screenshot_2020-08-23-14-31-33.png\n",
      "./Screenshots\\Screenshot_2020-08-23-14-31-37.png\n",
      "./Screenshots\\Screenshot_2020-08-23-14-31-39.png\n",
      "./Screenshots\\Screenshot_2020-08-23-14-31-43.png\n",
      "./Screenshots\\Screenshot_2020-08-23-14-31-44.png\n",
      "./Screenshots\\Screenshot_2020-08-23-14-31-49.png\n",
      "./Screenshots\\Screenshot_2020-08-23-14-31-51.png\n",
      "./Screenshots\\Screenshot_2020-08-23-14-31-55.png\n",
      "./Screenshots\\Screenshot_2020-08-23-14-31-56.png\n",
      "./Screenshots\\Screenshot_2020-08-23-14-32-01.png\n",
      "./Screenshots\\Screenshot_2020-08-23-14-32-02.png\n",
      "./Screenshots\\Screenshot_2020-08-23-14-32-10.png\n",
      "./Screenshots\\Screenshot_2020-08-23-14-32-12.png\n",
      "./Screenshots\\Screenshot_2020-08-23-14-32-16.png\n",
      "./Screenshots\\Screenshot_2020-08-23-14-32-18.png\n",
      "./Screenshots\\Screenshot_2020-08-23-14-32-22.png\n",
      "./Screenshots\\Screenshot_2020-08-23-14-32-24.png\n",
      "./Screenshots\\Screenshot_2020-08-23-14-32-28.png\n",
      "./Screenshots\\Screenshot_2020-08-23-14-32-30.png\n",
      "./Screenshots\\Screenshot_2020-08-23-14-32-34.png\n",
      "./Screenshots\\Screenshot_2020-08-23-14-32-36.png\n",
      "./Screenshots\\Screenshot_2020-08-23-14-32-40.png\n",
      "./Screenshots\\Screenshot_2020-08-23-14-32-42.png\n",
      "./Screenshots\\Screenshot_2020-08-23-14-32-46.png\n",
      "./Screenshots\\Screenshot_2020-08-23-14-32-48.png\n",
      "./Screenshots\\Screenshot_2020-08-23-14-32-52.png\n",
      "./Screenshots\\Screenshot_2020-08-23-14-32-54.png\n",
      "./Screenshots\\Screenshot_2020-08-23-14-33-01.png\n",
      "./Screenshots\\Screenshot_2020-08-23-14-33-03.png\n",
      "./Screenshots\\Screenshot_2020-08-23-14-33-07.png\n",
      "./Screenshots\\Screenshot_2020-08-23-14-33-09.png\n",
      "./Screenshots\\Screenshot_2020-08-23-14-33-13.png\n",
      "./Screenshots\\Screenshot_2020-08-23-14-33-15.png\n",
      "./Screenshots\\Screenshot_2020-08-23-14-33-19.png\n",
      "./Screenshots\\Screenshot_2020-08-23-14-33-21.png\n",
      "./Screenshots\\Screenshot_2020-08-23-14-33-25.png\n",
      "./Screenshots\\Screenshot_2020-08-23-14-33-27.png\n",
      "./Screenshots\\Screenshot_2020-08-23-14-33-31.png\n",
      "./Screenshots\\Screenshot_2020-08-23-14-33-33.png\n",
      "./Screenshots\\Screenshot_2020-08-23-14-33-37.png\n",
      "./Screenshots\\Screenshot_2020-08-23-14-33-39.png\n",
      "./Screenshots\\Screenshot_2020-08-23-14-33-43.png\n",
      "./Screenshots\\Screenshot_2020-08-23-14-33-45.png\n",
      "./Screenshots\\Screenshot_2020-08-23-14-33-53.png\n",
      "./Screenshots\\Screenshot_2020-08-23-14-33-54.png\n",
      "./Screenshots\\Screenshot_2020-08-23-14-33-59.png\n",
      "./Screenshots\\Screenshot_2020-08-23-14-34-00.png\n",
      "./Screenshots\\Screenshot_2020-08-23-14-34-05.png\n",
      "./Screenshots\\Screenshot_2020-08-23-14-34-06.png\n",
      "./Screenshots\\Screenshot_2020-08-23-14-34-11.png\n",
      "./Screenshots\\Screenshot_2020-08-23-14-34-12.png\n",
      "./Screenshots\\Screenshot_2020-08-23-14-34-16.png\n",
      "./Screenshots\\Screenshot_2020-08-23-14-34-18.png\n",
      "./Screenshots\\Screenshot_2020-08-23-14-34-22.png\n",
      "./Screenshots\\Screenshot_2020-08-23-14-34-24.png\n",
      "./Screenshots\\Screenshot_2020-08-23-14-34-28.png\n",
      "./Screenshots\\Screenshot_2020-08-23-14-34-30.png\n",
      "./Screenshots\\Screenshot_2020-08-23-14-34-35.png\n",
      "./Screenshots\\Screenshot_2020-08-23-14-34-36.png\n",
      "./Screenshots\\Screenshot_2020-08-23-14-34-44.png\n",
      "./Screenshots\\Screenshot_2020-08-23-14-34-45.png\n",
      "./Screenshots\\Screenshot_2020-08-23-14-34-50.png\n",
      "./Screenshots\\Screenshot_2020-08-23-14-34-51.png\n",
      "./Screenshots\\Screenshot_2020-08-23-14-34-56.png\n",
      "./Screenshots\\Screenshot_2020-08-23-14-34-57.png\n",
      "./Screenshots\\Screenshot_2020-08-23-14-35-02.png\n",
      "./Screenshots\\Screenshot_2020-08-23-14-35-03.png\n",
      "./Screenshots\\Screenshot_2020-08-23-14-35-08.png\n",
      "./Screenshots\\Screenshot_2020-08-23-14-35-09.png\n",
      "./Screenshots\\Screenshot_2020-08-23-14-35-14.png\n",
      "./Screenshots\\Screenshot_2020-08-23-14-35-15.png\n",
      "./Screenshots\\Screenshot_2020-08-23-14-35-20.png\n",
      "./Screenshots\\Screenshot_2020-08-23-14-35-21.png\n",
      "./Screenshots\\Screenshot_2020-08-23-14-35-26.png\n",
      "./Screenshots\\Screenshot_2020-08-23-14-35-27.png\n",
      "./Screenshots\\Screenshot_2020-08-23-14-35-36.png\n",
      "./Screenshots\\Screenshot_2020-08-23-14-35-38.png\n",
      "./Screenshots\\Screenshot_2020-08-23-14-35-42.png\n",
      "./Screenshots\\Screenshot_2020-08-23-14-35-44.png\n",
      "./Screenshots\\Screenshot_2020-08-23-14-35-48.png\n",
      "./Screenshots\\Screenshot_2020-08-23-14-35-50.png\n",
      "./Screenshots\\Screenshot_2020-08-23-14-35-54.png\n",
      "./Screenshots\\Screenshot_2020-08-23-14-35-56.png\n",
      "./Screenshots\\Screenshot_2020-08-23-14-36-00.png\n",
      "./Screenshots\\Screenshot_2020-08-23-14-36-02.png\n",
      "./Screenshots\\Screenshot_2020-08-23-14-36-06.png\n",
      "./Screenshots\\Screenshot_2020-08-23-14-36-08.png\n",
      "./Screenshots\\Screenshot_2020-08-23-14-36-12.png\n",
      "./Screenshots\\Screenshot_2020-08-23-14-36-14.png\n",
      "./Screenshots\\Screenshot_2020-08-23-14-36-18.png\n",
      "./Screenshots\\Screenshot_2020-08-23-14-36-20.png\n",
      "./Screenshots\\Screenshot_2020-08-23-14-36-27.png\n",
      "./Screenshots\\Screenshot_2020-08-23-14-36-29.png\n",
      "./Screenshots\\Screenshot_2020-08-23-14-36-33.png\n",
      "./Screenshots\\Screenshot_2020-08-23-14-36-35.png\n",
      "./Screenshots\\Screenshot_2020-08-23-14-36-39.png\n",
      "./Screenshots\\Screenshot_2020-08-23-14-36-41.png\n",
      "./Screenshots\\Screenshot_2020-08-23-14-36-45.png\n",
      "./Screenshots\\Screenshot_2020-08-23-14-36-47.png\n",
      "./Screenshots\\Screenshot_2020-08-23-14-36-51.png\n",
      "./Screenshots\\Screenshot_2020-08-23-14-36-53.png\n",
      "./Screenshots\\Screenshot_2020-08-23-14-36-57.png\n",
      "./Screenshots\\Screenshot_2020-08-23-14-36-59.png\n",
      "./Screenshots\\Screenshot_2020-08-23-14-37-03.png\n",
      "./Screenshots\\Screenshot_2020-08-23-14-37-05.png\n",
      "./Screenshots\\Screenshot_2020-08-23-14-37-09.png\n",
      "./Screenshots\\Screenshot_2020-08-23-14-37-11.png\n",
      "./Screenshots\\Screenshot_2020-08-23-14-37-19.png\n",
      "./Screenshots\\Screenshot_2020-08-23-14-37-20.png\n",
      "./Screenshots\\Screenshot_2020-08-23-14-37-25.png\n",
      "./Screenshots\\Screenshot_2020-08-23-14-37-26.png\n",
      "./Screenshots\\Screenshot_2020-08-23-14-37-31.png\n",
      "./Screenshots\\Screenshot_2020-08-23-14-37-32.png\n",
      "./Screenshots\\Screenshot_2020-08-23-14-37-37.png\n",
      "./Screenshots\\Screenshot_2020-08-23-14-37-38.png\n",
      "./Screenshots\\Screenshot_2020-08-23-14-37-43.png\n",
      "./Screenshots\\Screenshot_2020-08-23-14-37-44.png\n",
      "./Screenshots\\Screenshot_2020-08-23-14-37-49.png\n",
      "./Screenshots\\Screenshot_2020-08-23-14-37-50.png\n",
      "./Screenshots\\Screenshot_2020-08-23-14-37-55.png\n",
      "./Screenshots\\Screenshot_2020-08-23-14-37-56.png\n",
      "./Screenshots\\Screenshot_2020-08-23-14-38-00.png\n",
      "./Screenshots\\Screenshot_2020-08-23-14-38-02.png\n",
      "./Screenshots\\Screenshot_2020-08-23-14-38-10.png\n",
      "./Screenshots\\Screenshot_2020-08-23-14-38-11.png\n",
      "./Screenshots\\Screenshot_2020-08-23-14-38-16.png\n",
      "./Screenshots\\Screenshot_2020-08-23-14-38-17.png\n",
      "./Screenshots\\Screenshot_2020-08-23-14-38-22.png\n",
      "./Screenshots\\Screenshot_2020-08-23-14-38-23.png\n",
      "./Screenshots\\Screenshot_2020-08-23-14-38-28.png\n",
      "./Screenshots\\Screenshot_2020-08-23-14-38-29.png\n",
      "./Screenshots\\Screenshot_2020-08-23-14-38-34.png\n",
      "./Screenshots\\Screenshot_2020-08-23-14-38-35.png\n",
      "./Screenshots\\Screenshot_2020-08-23-14-38-40.png\n",
      "./Screenshots\\Screenshot_2020-08-23-14-38-41.png\n",
      "./Screenshots\\Screenshot_2020-08-23-14-38-46.png\n",
      "./Screenshots\\Screenshot_2020-08-23-14-38-47.png\n",
      "./Screenshots\\Screenshot_2020-08-23-14-38-52.png\n",
      "./Screenshots\\Screenshot_2020-08-23-14-38-53.png\n",
      "./Screenshots\\Screenshot_2020-08-23-14-39-01.png\n",
      "./Screenshots\\Screenshot_2020-08-23-14-39-03.png\n",
      "./Screenshots\\Screenshot_2020-08-23-14-39-07.png\n",
      "./Screenshots\\Screenshot_2020-08-23-14-39-09.png\n",
      "./Screenshots\\Screenshot_2020-08-23-14-39-13.png\n",
      "./Screenshots\\Screenshot_2020-08-23-14-39-15.png\n",
      "./Screenshots\\Screenshot_2020-08-23-14-39-19.png\n",
      "./Screenshots\\Screenshot_2020-08-23-14-39-21.png\n",
      "./Screenshots\\Screenshot_2020-08-23-14-39-25.png\n",
      "./Screenshots\\Screenshot_2020-08-23-14-39-27.png\n",
      "./Screenshots\\Screenshot_2020-08-23-14-39-31.png\n",
      "./Screenshots\\Screenshot_2020-08-23-14-39-33.png\n",
      "./Screenshots\\Screenshot_2020-08-23-14-39-37.png\n",
      "./Screenshots\\Screenshot_2020-08-23-14-39-39.png\n",
      "./Screenshots\\Screenshot_2020-08-23-14-39-43.png\n",
      "./Screenshots\\Screenshot_2020-08-23-14-39-45.png\n",
      "./Screenshots\\Screenshot_2020-08-23-14-39-52.png\n",
      "./Screenshots\\Screenshot_2020-08-23-14-39-54.png\n",
      "./Screenshots\\Screenshot_2020-08-23-14-39-58.png\n",
      "./Screenshots\\Screenshot_2020-08-23-14-40-00.png\n",
      "./Screenshots\\Screenshot_2020-08-23-14-40-04.png\n",
      "./Screenshots\\Screenshot_2020-08-23-14-40-06.png\n",
      "./Screenshots\\Screenshot_2020-08-23-14-40-10.png\n",
      "./Screenshots\\Screenshot_2020-08-23-14-40-12.png\n",
      "./Screenshots\\Screenshot_2020-08-23-14-40-16.png\n",
      "./Screenshots\\Screenshot_2020-08-23-14-40-18.png\n",
      "./Screenshots\\Screenshot_2020-08-23-14-40-22.png\n",
      "./Screenshots\\Screenshot_2020-08-23-14-40-24.png\n",
      "./Screenshots\\Screenshot_2020-08-23-14-40-28.png\n",
      "./Screenshots\\Screenshot_2020-08-23-14-40-30.png\n",
      "./Screenshots\\Screenshot_2020-08-23-14-40-34.png\n",
      "./Screenshots\\Screenshot_2020-08-23-14-40-36.png\n",
      "./Screenshots\\Screenshot_2020-08-23-14-40-44.png\n",
      "./Screenshots\\Screenshot_2020-08-23-14-40-46.png\n",
      "./Screenshots\\Screenshot_2020-08-23-14-40-52.png\n",
      "./Screenshots\\Screenshot_2020-08-23-14-40-53.png\n",
      "./Screenshots\\Screenshot_2020-08-23-14-40-58.png\n",
      "./Screenshots\\Screenshot_2020-08-23-14-40-59.png\n",
      "./Screenshots\\Screenshot_2020-08-23-14-41-04.png\n",
      "./Screenshots\\Screenshot_2020-08-23-14-41-05.png\n",
      "./Screenshots\\Screenshot_2020-08-23-14-41-10.png\n",
      "./Screenshots\\Screenshot_2020-08-23-14-41-11.png\n",
      "./Screenshots\\Screenshot_2020-08-23-14-41-16.png\n",
      "./Screenshots\\Screenshot_2020-08-23-14-41-17.png\n",
      "./Screenshots\\Screenshot_2020-08-23-14-41-22.png\n",
      "./Screenshots\\Screenshot_2020-08-23-14-41-23.png\n",
      "./Screenshots\\Screenshot_2020-08-23-14-41-31.png\n",
      "./Screenshots\\Screenshot_2020-08-23-14-41-33.png\n",
      "./Screenshots\\Screenshot_2020-08-23-14-41-37.png\n",
      "./Screenshots\\Screenshot_2020-08-23-14-41-39.png\n",
      "./Screenshots\\Screenshot_2020-08-23-14-41-43.png\n",
      "./Screenshots\\Screenshot_2020-08-23-14-41-45.png\n",
      "./Screenshots\\Screenshot_2020-08-23-14-41-49.png\n",
      "./Screenshots\\Screenshot_2020-08-23-14-41-50.png\n",
      "./Screenshots\\Screenshot_2020-08-23-14-41-55.png\n",
      "./Screenshots\\Screenshot_2020-08-23-14-41-57.png\n",
      "./Screenshots\\Screenshot_2020-08-23-14-42-01.png\n",
      "./Screenshots\\Screenshot_2020-08-23-14-42-02.png\n",
      "./Screenshots\\Screenshot_2020-08-23-14-42-07.png\n",
      "./Screenshots\\Screenshot_2020-08-23-14-42-08.png\n",
      "./Screenshots\\Screenshot_2020-08-23-14-42-13.png\n",
      "./Screenshots\\Screenshot_2020-08-23-14-42-14.png\n",
      "./Screenshots\\Screenshot_2020-08-23-14-42-22.png\n",
      "./Screenshots\\Screenshot_2020-08-23-14-42-24.png\n",
      "./Screenshots\\Screenshot_2020-08-23-14-42-28.png\n",
      "./Screenshots\\Screenshot_2020-08-23-14-42-30.png\n",
      "./Screenshots\\Screenshot_2020-08-23-14-42-34.png\n",
      "./Screenshots\\Screenshot_2020-08-23-14-42-36.png\n",
      "./Screenshots\\Screenshot_2020-08-23-14-42-40.png\n",
      "./Screenshots\\Screenshot_2020-08-23-14-42-42.png\n",
      "./Screenshots\\Screenshot_2020-08-23-14-42-46.png\n",
      "./Screenshots\\Screenshot_2020-08-23-14-42-48.png\n",
      "./Screenshots\\Screenshot_2020-08-23-14-42-52.png\n",
      "./Screenshots\\Screenshot_2020-08-23-14-42-54.png\n",
      "./Screenshots\\Screenshot_2020-08-23-14-42-58.png\n",
      "./Screenshots\\Screenshot_2020-08-23-14-43-00.png\n",
      "./Screenshots\\Screenshot_2020-08-23-14-43-04.png\n",
      "./Screenshots\\Screenshot_2020-08-23-14-43-06.png\n",
      "./Screenshots\\Screenshot_2020-08-23-14-43-13.png\n",
      "./Screenshots\\Screenshot_2020-08-23-14-43-15.png\n",
      "./Screenshots\\Screenshot_2020-08-23-14-43-19.png\n",
      "./Screenshots\\Screenshot_2020-08-23-14-43-21.png\n",
      "./Screenshots\\Screenshot_2020-08-23-14-43-25.png\n",
      "./Screenshots\\Screenshot_2020-08-23-14-43-27.png\n",
      "./Screenshots\\Screenshot_2020-08-23-14-43-31.png\n",
      "./Screenshots\\Screenshot_2020-08-23-14-43-33.png\n",
      "./Screenshots\\Screenshot_2020-08-23-14-43-37.png\n",
      "./Screenshots\\Screenshot_2020-08-23-14-43-39.png\n",
      "./Screenshots\\Screenshot_2020-08-23-14-43-43.png\n",
      "./Screenshots\\Screenshot_2020-08-23-14-43-45.png\n",
      "./Screenshots\\Screenshot_2020-08-23-14-43-49.png\n",
      "./Screenshots\\Screenshot_2020-08-23-14-43-51.png\n",
      "./Screenshots\\Screenshot_2020-08-23-14-43-55.png\n",
      "./Screenshots\\Screenshot_2020-08-23-14-43-57.png\n",
      "./Screenshots\\Screenshot_2020-08-23-14-44-05.png\n",
      "./Screenshots\\Screenshot_2020-08-23-14-44-06.png\n",
      "./Screenshots\\Screenshot_2020-08-23-14-44-11.png\n",
      "./Screenshots\\Screenshot_2020-08-23-14-44-12.png\n",
      "./Screenshots\\Screenshot_2020-08-23-14-44-16.png\n",
      "./Screenshots\\Screenshot_2020-08-23-14-44-18.png\n",
      "./Screenshots\\Screenshot_2020-08-23-14-44-22.png\n",
      "./Screenshots\\Screenshot_2020-08-23-14-44-24.png\n",
      "./Screenshots\\Screenshot_2020-08-23-14-44-29.png\n",
      "./Screenshots\\Screenshot_2020-08-23-14-44-30.png\n",
      "./Screenshots\\Screenshot_2020-08-23-14-44-35.png\n",
      "./Screenshots\\Screenshot_2020-08-23-14-44-36.png\n",
      "./Screenshots\\Screenshot_2020-08-23-14-44-40.png\n",
      "./Screenshots\\Screenshot_2020-08-23-14-44-42.png\n",
      "./Screenshots\\Screenshot_2020-08-23-14-44-46.png\n",
      "./Screenshots\\Screenshot_2020-08-23-14-44-48.png\n",
      "./Screenshots\\Screenshot_2020-08-23-14-44-56.png\n",
      "./Screenshots\\Screenshot_2020-08-23-14-44-58.png\n",
      "./Screenshots\\Screenshot_2020-08-23-14-45-02.png\n",
      "./Screenshots\\Screenshot_2020-08-23-14-45-03.png\n",
      "./Screenshots\\Screenshot_2020-08-23-14-45-08.png\n",
      "./Screenshots\\Screenshot_2020-08-23-14-45-09.png\n",
      "./Screenshots\\Screenshot_2020-08-23-14-45-14.png\n",
      "./Screenshots\\Screenshot_2020-08-23-14-45-15.png\n",
      "./Screenshots\\Screenshot_2020-08-23-14-45-20.png\n",
      "./Screenshots\\Screenshot_2020-08-23-14-45-21.png\n",
      "./Screenshots\\Screenshot_2020-08-23-14-45-26.png\n",
      "./Screenshots\\Screenshot_2020-08-23-14-45-27.png\n",
      "./Screenshots\\Screenshot_2020-08-23-14-45-32.png\n",
      "./Screenshots\\Screenshot_2020-08-23-14-45-33.png\n",
      "./Screenshots\\Screenshot_2020-08-23-14-45-38.png\n",
      "./Screenshots\\Screenshot_2020-08-23-14-45-39.png\n",
      "./Screenshots\\Screenshot_2020-08-23-14-45-47.png\n",
      "./Screenshots\\Screenshot_2020-08-23-14-45-49.png\n",
      "./Screenshots\\Screenshot_2020-08-23-14-45-53.png\n",
      "./Screenshots\\Screenshot_2020-08-23-14-45-55.png\n",
      "./Screenshots\\Screenshot_2020-08-23-14-45-59.png\n",
      "./Screenshots\\Screenshot_2020-08-23-14-46-01.png\n",
      "./Screenshots\\Screenshot_2020-08-23-14-46-05.png\n",
      "./Screenshots\\Screenshot_2020-08-23-14-46-07.png\n",
      "./Screenshots\\Screenshot_2020-08-23-14-46-11.png\n",
      "./Screenshots\\Screenshot_2020-08-23-14-46-13.png\n",
      "./Screenshots\\Screenshot_2020-08-23-14-46-17.png\n",
      "./Screenshots\\Screenshot_2020-08-23-14-46-19.png\n",
      "./Screenshots\\Screenshot_2020-08-23-14-46-23.png\n",
      "./Screenshots\\Screenshot_2020-08-23-14-46-25.png\n",
      "./Screenshots\\Screenshot_2020-08-23-14-46-29.png\n",
      "./Screenshots\\Screenshot_2020-08-23-14-46-31.png\n",
      "./Screenshots\\Screenshot_2020-08-23-14-46-35.png\n",
      "./Screenshots\\Screenshot_2020-08-23-14-46-37.png\n",
      "./Screenshots\\Screenshot_2020-08-23-14-46-47.png\n",
      "./Screenshots\\Screenshot_2020-08-23-14-46-51.png\n",
      "./Screenshots\\Screenshot_2020-08-23-14-47-16.png\n",
      "./Screenshots\\Screenshot_2020-08-23-14-47-19.png\n"
     ]
    }
   ],
   "source": [
    "profile_path = './Screenshots/'\n",
    "profile_list = glob.glob(profile_path + '*.png')\n",
    "for fn in profile_list:\n",
    "    print(fn)"
   ]
  },
  {
   "cell_type": "code",
   "execution_count": null,
   "metadata": {},
   "outputs": [],
   "source": [
    "idx = 52\n",
    "fn = profile_list[idx]\n",
    "img = cv2.imread(fn,0)\n",
    "plt.imshow(img, 'gray')\n",
    "plt.show()\n",
    "\n",
    "IDp = crop_dict['ID']\n",
    "powerp = crop_dict['power']\n",
    "killp = crop_dict['kill']\n",
    "\n",
    "img_ID = img[IDp[0]:IDp[1], IDp[2]:IDp[3]]\n",
    "img_power = img[powerp[0]:powerp[1], powerp[2]:powerp[3]]\n",
    "img_kill = img[killp[0]:killp[1], killp[2]:killp[3]]\n",
    "\n",
    "inv_ID, str_ID = bin_inv(img_ID)\n",
    "inv_power, str_power = bin_inv(img_power, thr=150)\n",
    "inv_kill, str_kill = bin_inv(img_kill, thr=150)\n",
    "\n",
    "plt.imshow(inv_ID, 'gray')\n",
    "plt.show()\n",
    "print(str_ID)\n",
    "\n",
    "plt.imshow(inv_power, 'gray')\n",
    "plt.show()\n",
    "print(str_power)\n",
    "\n",
    "plt.imshow(inv_kill, 'gray')\n",
    "plt.show()\n",
    "print(str_kill)"
   ]
  },
  {
   "cell_type": "code",
   "execution_count": null,
   "metadata": {
    "scrolled": false
   },
   "outputs": [],
   "source": [
    "idx = 17\n",
    "fn = profile_list[idx]\n",
    "img = cv2.imread(fn,0)\n",
    "plt.imshow(img, 'gray')\n",
    "plt.show()\n",
    "\n",
    "kill_4Tp = crop_dict['kill_4T']\n",
    "kill_5Tp = crop_dict['kill_5T']\n",
    "deathp = crop_dict['death']\n",
    "gatheringp = crop_dict['gathering']\n",
    "assistp = crop_dict['assist']\n",
    "\n",
    "img_kill4T = img[kill_4Tp[0]:kill_4Tp[1], kill_4Tp[2]+2:kill_4Tp[3]]\n",
    "img_kill5T = img[kill_5Tp[0]:kill_5Tp[1], kill_5Tp[2]:kill_5Tp[3]]\n",
    "img_death = img[deathp[0]:deathp[1], deathp[2]:deathp[3]]\n",
    "img_gathering = img[gatheringp[0]:gatheringp[1], gatheringp[2]:gatheringp[3]]\n",
    "img_assist = img[assistp[0]:assistp[1], assistp[2]:assistp[3]]\n",
    "\n",
    "inv_kill4T, str_kill4T = bin_inv(img_kill4T, thr=80, inv=False)\n",
    "inv_kill5T, str_kill5T = bin_inv(img_kill5T, thr=80, inv=False)\n",
    "inv_death, str_death = bin_inv(img_death, thr=145)\n",
    "inv_gathering, str_gathering = bin_inv(img_gathering, thr=120)\n",
    "inv_assist, str_assist = bin_inv(img_assist, thr=120)\n",
    "\n",
    "plt.imshow(inv_kill4T, 'gray')\n",
    "plt.show()\n",
    "print(str_kill4T)\n",
    "plt.imshow(inv_kill5T, 'gray')\n",
    "plt.show()\n",
    "print(str_kill5T)\n",
    "plt.imshow(inv_death, 'gray')\n",
    "plt.show()\n",
    "print(str_death)\n",
    "plt.imshow(inv_gathering, 'gray')\n",
    "plt.show()\n",
    "print(str_gathering)\n",
    "plt.imshow(inv_assist, 'gray')\n",
    "plt.show()\n",
    "print(str_assist)"
   ]
  },
  {
   "cell_type": "code",
   "execution_count": null,
   "metadata": {},
   "outputs": [],
   "source": [
    "inv_kill4T, str_kill4T = bin_inv(img_kill4T, inv=False)\n",
    "inv_kill5T, str_kill5T = bin_inv(img_kill5T, inv=False)\n",
    "inv_death, str_death = bin_inv(img_death)\n",
    "inv_gathering, str_gathering = bin_inv(img_gathering)\n",
    "inv_assist, str_assist = bin_inv(img_assist)"
   ]
  },
  {
   "cell_type": "code",
   "execution_count": null,
   "metadata": {},
   "outputs": [],
   "source": [
    "plt.imshow(inv_kill4T, 'gray')\n",
    "plt.show()\n",
    "print(str_kill4T)\n",
    "plt.imshow(inv_kill5T, 'gray')\n",
    "plt.show()\n",
    "print(str_kill5T)\n",
    "plt.imshow(inv_death, 'gray')\n",
    "plt.show()\n",
    "print(str_death)\n",
    "plt.imshow(inv_gathering, 'gray')\n",
    "plt.show()\n",
    "print(str_gathering)\n",
    "plt.imshow(inv_assist, 'gray')\n",
    "plt.show()\n",
    "print(str_assist)"
   ]
  },
  {
   "cell_type": "markdown",
   "metadata": {},
   "source": [
    "# 전체 확인"
   ]
  },
  {
   "cell_type": "code",
   "execution_count": null,
   "metadata": {},
   "outputs": [],
   "source": [
    "for idx in range(0, len(profile_list), 2):\n",
    "    print('{}/{}'.format(idx,len(profile_list)))\n",
    "    fn = profile_list[idx]\n",
    "    img = cv2.imread(fn,0)\n",
    "\n",
    "    IDp = crop_dict['ID']\n",
    "    powerp = crop_dict['power']\n",
    "    killp = crop_dict['kill']\n",
    "\n",
    "    img_ID = img[IDp[0]:IDp[1], IDp[2]:IDp[3]]\n",
    "    img_power = img[powerp[0]:powerp[1], powerp[2]:powerp[3]]\n",
    "    img_kill = img[killp[0]:killp[1], killp[2]:killp[3]]\n",
    "\n",
    "    inv_ID, str_ID = bin_inv(img_ID)\n",
    "    inv_power, str_power = bin_inv(img_power, thr=150)\n",
    "    inv_kill, str_kill = bin_inv(img_kill, thr=150)\n",
    "    \n",
    "    ID, power, kill = str2num(str_ID), str2num(str_power), str2num(str_kill)\n",
    "    \n",
    "    cond = [ID, power, kill]\n",
    "    inv_imgs =[inv_ID, inv_power, inv_kill]\n",
    "    str_imgs =[str_ID, str_power, str_kill]\n",
    "    cond_id = 0\n",
    "    \n",
    "    if cond[cond_id] == -1:\n",
    "        print(\"idx : {}\".format(idx))\n",
    "        plt.imshow(inv_imgs[cond_id], 'gray')\n",
    "        plt.show()\n",
    "        print(\"str : {}\".format(str_imgs[cond_id]))\n",
    "        \n",
    "#         plt.imshow(inv_ID, 'gray')\n",
    "#         plt.show()\n",
    "#         print(str_ID)\n",
    "\n",
    "#         plt.imshow(inv_power, 'gray')\n",
    "#         plt.show()\n",
    "#         print(str_power)\n",
    "\n",
    "#         plt.imshow(inv_kill, 'gray')\n",
    "#         plt.show()\n",
    "#         print(str_kill)"
   ]
  },
  {
   "cell_type": "code",
   "execution_count": null,
   "metadata": {
    "scrolled": false
   },
   "outputs": [],
   "source": [
    "for idx in range(1, len(profile_list), 2):\n",
    "    print('{}/{}'.format(idx,len(profile_list)))\n",
    "    fn = profile_list[idx]\n",
    "    img = cv2.imread(fn,0)\n",
    "\n",
    "    kill_4Tp = crop_dict['kill_4T']\n",
    "    kill_5Tp = crop_dict['kill_5T']\n",
    "    deathp = crop_dict['death']\n",
    "    gatheringp = crop_dict['gathering']\n",
    "    assistp = crop_dict['assist']\n",
    "\n",
    "    img_kill4T = img[kill_4Tp[0]:kill_4Tp[1], kill_4Tp[2]:kill_4Tp[3]]\n",
    "    img_kill5T = img[kill_5Tp[0]:kill_5Tp[1], kill_5Tp[2]:kill_5Tp[3]]\n",
    "    img_death = img[deathp[0]:deathp[1], deathp[2]:deathp[3]]\n",
    "    img_gathering = img[gatheringp[0]:gatheringp[1], gatheringp[2]:gatheringp[3]]\n",
    "    img_assist = img[assistp[0]:assistp[1], assistp[2]:assistp[3]]\n",
    "\n",
    "    inv_kill4T, str_kill4T = bin_inv(img_kill4T, thr=80, inv=False)\n",
    "    inv_kill5T, str_kill5T = bin_inv(img_kill5T, thr=80, inv=False)\n",
    "    inv_death, str_death = bin_inv(img_death, thr=145)\n",
    "    inv_gathering, str_gathering = bin_inv(img_gathering, thr=120)\n",
    "    inv_assist, str_assist = bin_inv(img_assist, thr=120)\n",
    "\n",
    "    kill_4T, kill_5T, death = str2num(str_kill4T), str2num(str_kill5T), str2num(str_death)\n",
    "    gathering, assist = str2num(str_gathering), str2num(str_assist)\n",
    "    \n",
    "    cond = [kill_4T, kill_5T, death, gathering, assist]\n",
    "    inv_imgs =[inv_kill4T, inv_kill5T, inv_death, inv_gathering, inv_assist]\n",
    "    str_imgs =[str_kill4T, str_kill5T, str_death, str_gathering, str_assist]\n",
    "    \n",
    "    cond_id = 1\n",
    "    if cond[cond_id] == -1:\n",
    "        print(\"idx : {}\".format(idx))\n",
    "        print(\"fn : {}\".format(profile_list[idx]))\n",
    "        plt.imshow(inv_imgs[cond_id], 'gray')\n",
    "        plt.show()\n",
    "        print(\"str : {}\".format(str_imgs[cond_id]))\n",
    "#         plt.imshow(img, 'gray')\n",
    "#         plt.show()\n",
    "#         plt.imshow(inv_kill4T, 'gray')\n",
    "#         plt.show()\n",
    "#         print(str_kill4T)\n",
    "#         plt.imshow(inv_kill5T, 'gray')\n",
    "#         plt.show()\n",
    "#         print(str_kill5T)\n",
    "#         plt.imshow(inv_death, 'gray')\n",
    "#         plt.show()\n",
    "#         print(str_death)\n",
    "#         plt.imshow(inv_gathering, 'gray')\n",
    "#         plt.show()\n",
    "#         print(str_gathering)\n",
    "#         plt.imshow(inv_assist, 'gray')\n",
    "#         plt.show()\n",
    "#         print(str_assist)"
   ]
  },
  {
   "cell_type": "markdown",
   "metadata": {},
   "source": [
    "# OCR실패인지 0인지 체크\n",
    "kill_5T idx : [145, 163, 165, 287]\n",
    "\n",
    "assist idx : [71, 93, 109, 145, 167, 175, 179, 221]"
   ]
  },
  {
   "cell_type": "code",
   "execution_count": 36,
   "metadata": {},
   "outputs": [],
   "source": [
    "def bin_inv(img, thr=140, show=False, inv=True):\n",
    "    ret,thresh2 = cv2.threshold(img,thr,255,cv2.THRESH_BINARY_INV)\n",
    "    if not inv:\n",
    "        ret,thresh2 = cv2.threshold(img,thr,255,cv2.THRESH_BINARY)\n",
    "    ocr_result = pytesseract.image_to_string(thresh2)\n",
    "    str_result = ocr_result.replace(',', '').replace('.', '').replace(' ','')\n",
    "    if not str_result.isdigit() and np.mean(thresh2) > 248:\n",
    "        ocr_result = '0'\n",
    "    if show:\n",
    "        plt.imshow(thresh2, 'gray')\n",
    "        plt.show()\n",
    "        print(ocr_result)\n",
    "    return thresh2, ocr_result"
   ]
  },
  {
   "cell_type": "code",
   "execution_count": 37,
   "metadata": {},
   "outputs": [],
   "source": [
    "def str2num(strnum):\n",
    "    result = strnum.replace(',', '').replace('.', '').replace(' ','')\n",
    "    if result.isdigit():\n",
    "        return int(result)\n",
    "    else:\n",
    "        return -1"
   ]
  },
  {
   "cell_type": "code",
   "execution_count": 38,
   "metadata": {},
   "outputs": [
    {
     "name": "stdout",
     "output_type": "stream",
     "text": [
      "71/326\n"
     ]
    },
    {
     "data": {
      "image/png": "[encoded data removed]",
      "text/plain": [
       "<Figure size 432x288 with 1 Axes>"
      ]
     },
     "metadata": {
      "needs_background": "light"
     },
     "output_type": "display_data"
    },
    {
     "name": "stdout",
     "output_type": "stream",
     "text": [
      "idx : 71\n",
      "fn : ./Screenshots\\Screenshot_2020-08-23-14-33-15.png\n",
      "str : 0\n",
      "Avg : 251.85\n",
      "93/326\n"
     ]
    },
    {
     "data": {
      "image/png": "[encoded data removed]",
      "text/plain": [
       "<Figure size 432x288 with 1 Axes>"
      ]
     },
     "metadata": {
      "needs_background": "light"
     },
     "output_type": "display_data"
    },
    {
     "name": "stdout",
     "output_type": "stream",
     "text": [
      "idx : 93\n",
      "fn : ./Screenshots\\Screenshot_2020-08-23-14-34-24.png\n",
      "str : \n",
      "Avg : 229.1\n",
      "109/326\n"
     ]
    },
    {
     "data": {
      "image/png": "[encoded data removed]",
      "text/plain": [
       "<Figure size 432x288 with 1 Axes>"
      ]
     },
     "metadata": {
      "needs_background": "light"
     },
     "output_type": "display_data"
    },
    {
     "name": "stdout",
     "output_type": "stream",
     "text": [
      "idx : 109\n",
      "fn : ./Screenshots\\Screenshot_2020-08-23-14-35-15.png\n",
      "str : \n",
      "Avg : 229.1\n",
      "145/326\n"
     ]
    },
    {
     "data": {
      "image/png": "[encoded data removed]",
      "text/plain": [
       "<Figure size 432x288 with 1 Axes>"
      ]
     },
     "metadata": {
      "needs_background": "light"
     },
     "output_type": "display_data"
    },
    {
     "name": "stdout",
     "output_type": "stream",
     "text": [
      "idx : 145\n",
      "fn : ./Screenshots\\Screenshot_2020-08-23-14-37-11.png\n",
      "str : 0\n",
      "Avg : 251.85\n",
      "167/326\n"
     ]
    },
    {
     "data": {
      "image/png": "[encoded data removed]",
      "text/plain": [
       "<Figure size 432x288 with 1 Axes>"
      ]
     },
     "metadata": {
      "needs_background": "light"
     },
     "output_type": "display_data"
    },
    {
     "name": "stdout",
     "output_type": "stream",
     "text": [
      "idx : 167\n",
      "fn : ./Screenshots\\Screenshot_2020-08-23-14-38-23.png\n",
      "str : 0\n",
      "Avg : 251.85\n",
      "175/326\n"
     ]
    },
    {
     "data": {
      "image/png": "[encoded data removed]",
      "text/plain": [
       "<Figure size 432x288 with 1 Axes>"
      ]
     },
     "metadata": {
      "needs_background": "light"
     },
     "output_type": "display_data"
    },
    {
     "name": "stdout",
     "output_type": "stream",
     "text": [
      "idx : 175\n",
      "fn : ./Screenshots\\Screenshot_2020-08-23-14-38-47.png\n",
      "str : 0\n",
      "Avg : 251.85\n",
      "179/326\n"
     ]
    },
    {
     "data": {
      "image/png": "[encoded data removed]",
      "text/plain": [
       "<Figure size 432x288 with 1 Axes>"
      ]
     },
     "metadata": {
      "needs_background": "light"
     },
     "output_type": "display_data"
    },
    {
     "name": "stdout",
     "output_type": "stream",
     "text": [
      "idx : 179\n",
      "fn : ./Screenshots\\Screenshot_2020-08-23-14-39-03.png\n",
      "str : \n",
      "Avg : 228.7\n",
      "221/326\n"
     ]
    },
    {
     "data": {
      "image/png": "[encoded data removed]",
      "text/plain": [
       "<Figure size 432x288 with 1 Axes>"
      ]
     },
     "metadata": {
      "needs_background": "light"
     },
     "output_type": "display_data"
    },
    {
     "name": "stdout",
     "output_type": "stream",
     "text": [
      "idx : 221\n",
      "fn : ./Screenshots\\Screenshot_2020-08-23-14-41-17.png\n",
      "str : \n",
      "Avg : 225.9\n"
     ]
    }
   ],
   "source": [
    "idx_5T = [145, 163, 165, 287]\n",
    "idx_assist = [71, 93, 109, 145, 167, 175, 179, 221]\n",
    "for idx in idx_assist:\n",
    "    print('{}/{}'.format(idx,len(profile_list)))\n",
    "    fn = profile_list[idx]\n",
    "    img = cv2.imread(fn,0)\n",
    "\n",
    "    kill_4Tp = crop_dict['kill_4T']\n",
    "    kill_5Tp = crop_dict['kill_5T']\n",
    "    deathp = crop_dict['death']\n",
    "    gatheringp = crop_dict['gathering']\n",
    "    assistp = crop_dict['assist']\n",
    "\n",
    "    img_kill4T = img[kill_4Tp[0]:kill_4Tp[1], kill_4Tp[2]:kill_4Tp[3]]\n",
    "    img_kill5T = img[kill_5Tp[0]:kill_5Tp[1], kill_5Tp[2]:kill_5Tp[3]]\n",
    "    img_death = img[deathp[0]:deathp[1], deathp[2]:deathp[3]]\n",
    "    img_gathering = img[gatheringp[0]:gatheringp[1], gatheringp[2]:gatheringp[3]]\n",
    "    img_assist = img[assistp[0]:assistp[1], assistp[2]:assistp[3]]\n",
    "\n",
    "    inv_kill4T, str_kill4T = bin_inv(img_kill4T, thr=80, inv=False)\n",
    "    inv_kill5T, str_kill5T = bin_inv(img_kill5T, thr=80, inv=False)\n",
    "    inv_death, str_death = bin_inv(img_death, thr=145)\n",
    "    inv_gathering, str_gathering = bin_inv(img_gathering, thr=120)\n",
    "    inv_assist, str_assist = bin_inv(img_assist, thr=120)\n",
    "\n",
    "    kill_4T, kill_5T, death = str2num(str_kill4T), str2num(str_kill5T), str2num(str_death)\n",
    "    gathering, assist = str2num(str_gathering), str2num(str_assist)\n",
    "    \n",
    "    cond = [kill_4T, kill_5T, death, gathering, assist]\n",
    "    inv_imgs =[inv_kill4T, inv_kill5T, inv_death, inv_gathering, inv_assist]\n",
    "    str_imgs =[str_kill4T, str_kill5T, str_death, str_gathering, str_assist]\n",
    "    \n",
    "    cond_id = -1\n",
    "    plt.imshow(inv_imgs[cond_id], 'gray')\n",
    "    plt.show()\n",
    "    print(\"idx : {}\".format(idx))\n",
    "    print(\"fn : {}\".format(profile_list[idx]))\n",
    "    print(\"str : {}\".format(str_imgs[cond_id]))\n",
    "    print(\"Avg : {}\".format(np.mean(inv_imgs[cond_id])))\n",
    "#         plt.imshow(img, 'gray')\n",
    "#         plt.show()\n",
    "#         plt.imshow(inv_kill4T, 'gray')\n",
    "#         plt.show()\n",
    "#         print(str_kill4T)\n",
    "#         plt.imshow(inv_kill5T, 'gray')\n",
    "#         plt.show()\n",
    "#         print(str_kill5T)\n",
    "#         plt.imshow(inv_death, 'gray')\n",
    "#         plt.show()\n",
    "#         print(str_death)\n",
    "#         plt.imshow(inv_gathering, 'gray')\n",
    "#         plt.show()\n",
    "#         print(str_gathering)\n",
    "#         plt.imshow(inv_assist, 'gray')\n",
    "#         plt.show()\n",
    "#         print(str_assist)"
   ]
  },
  {
   "cell_type": "code",
   "execution_count": 39,
   "metadata": {},
   "outputs": [
    {
     "name": "stdout",
     "output_type": "stream",
     "text": [
      "145/326\n"
     ]
    },
    {
     "data": {
      "image/png": "[encoded data removed]",
      "text/plain": [
       "<Figure size 432x288 with 1 Axes>"
      ]
     },
     "metadata": {
      "needs_background": "light"
     },
     "output_type": "display_data"
    },
    {
     "name": "stdout",
     "output_type": "stream",
     "text": [
      "idx : 145\n",
      "fn : ./Screenshots\\Screenshot_2020-08-23-14-37-11.png\n",
      "str : 0\n",
      "Avg : 249.30582524271844\n",
      "163/326\n"
     ]
    },
    {
     "data": {
      "image/png": "[encoded data removed]",
      "text/plain": [
       "<Figure size 432x288 with 1 Axes>"
      ]
     },
     "metadata": {
      "needs_background": "light"
     },
     "output_type": "display_data"
    },
    {
     "name": "stdout",
     "output_type": "stream",
     "text": [
      "idx : 163\n",
      "fn : ./Screenshots\\Screenshot_2020-08-23-14-38-11.png\n",
      "str : ‘48,267\n",
      "Avg : 225.6626213592233\n",
      "165/326\n"
     ]
    },
    {
     "data": {
      "image/png": "[encoded data removed]",
      "text/plain": [
       "<Figure size 432x288 with 1 Axes>"
      ]
     },
     "metadata": {
      "needs_background": "light"
     },
     "output_type": "display_data"
    },
    {
     "name": "stdout",
     "output_type": "stream",
     "text": [
      "idx : 165\n",
      "fn : ./Screenshots\\Screenshot_2020-08-23-14-38-17.png\n",
      "str : $3,539\n",
      "Avg : 225.16747572815535\n",
      "287/326\n"
     ]
    },
    {
     "data": {
      "image/png": "[encoded data removed]",
      "text/plain": [
       "<Figure size 432x288 with 1 Axes>"
      ]
     },
     "metadata": {
      "needs_background": "light"
     },
     "output_type": "display_data"
    },
    {
     "name": "stdout",
     "output_type": "stream",
     "text": [
      "idx : 287\n",
      "fn : ./Screenshots\\Screenshot_2020-08-23-14-44-48.png\n",
      "str : yee\n",
      "Avg : 236.43203883495147\n"
     ]
    }
   ],
   "source": [
    "idx_5T = [145, 163, 165, 287]\n",
    "idx_assist = [71, 93, 109, 145, 167, 175, 179, 221]\n",
    "for idx in idx_5T:\n",
    "    print('{}/{}'.format(idx,len(profile_list)))\n",
    "    fn = profile_list[idx]\n",
    "    img = cv2.imread(fn,0)\n",
    "\n",
    "    kill_4Tp = crop_dict['kill_4T']\n",
    "    kill_5Tp = crop_dict['kill_5T']\n",
    "    deathp = crop_dict['death']\n",
    "    gatheringp = crop_dict['gathering']\n",
    "    assistp = crop_dict['assist']\n",
    "\n",
    "    img_kill4T = img[kill_4Tp[0]:kill_4Tp[1], kill_4Tp[2]:kill_4Tp[3]]\n",
    "    img_kill5T = img[kill_5Tp[0]:kill_5Tp[1], kill_5Tp[2]:kill_5Tp[3]]\n",
    "    img_death = img[deathp[0]:deathp[1], deathp[2]:deathp[3]]\n",
    "    img_gathering = img[gatheringp[0]:gatheringp[1], gatheringp[2]:gatheringp[3]]\n",
    "    img_assist = img[assistp[0]:assistp[1], assistp[2]:assistp[3]]\n",
    "\n",
    "    inv_kill4T, str_kill4T = bin_inv(img_kill4T, thr=80, inv=False)\n",
    "    inv_kill5T, str_kill5T = bin_inv(img_kill5T, thr=80, inv=False)\n",
    "    inv_death, str_death = bin_inv(img_death, thr=145)\n",
    "    inv_gathering, str_gathering = bin_inv(img_gathering, thr=120)\n",
    "    inv_assist, str_assist = bin_inv(img_assist, thr=120)\n",
    "\n",
    "    kill_4T, kill_5T, death = str2num(str_kill4T), str2num(str_kill5T), str2num(str_death)\n",
    "    gathering, assist = str2num(str_gathering), str2num(str_assist)\n",
    "    \n",
    "    cond = [kill_4T, kill_5T, death, gathering, assist]\n",
    "    inv_imgs =[inv_kill4T, inv_kill5T, inv_death, inv_gathering, inv_assist]\n",
    "    str_imgs =[str_kill4T, str_kill5T, str_death, str_gathering, str_assist]\n",
    "    \n",
    "    cond_id = 1\n",
    "    plt.imshow(inv_imgs[cond_id], 'gray')\n",
    "    plt.show()\n",
    "    print(\"idx : {}\".format(idx))\n",
    "    print(\"fn : {}\".format(profile_list[idx]))\n",
    "    print(\"str : {}\".format(str_imgs[cond_id]))\n",
    "    print(\"Avg : {}\".format(np.mean(inv_imgs[cond_id])))\n",
    "#         plt.imshow(img, 'gray')\n",
    "#         plt.show()\n",
    "#         plt.imshow(inv_kill4T, 'gray')\n",
    "#         plt.show()\n",
    "#         print(str_kill4T)\n",
    "#         plt.imshow(inv_kill5T, 'gray')\n",
    "#         plt.show()\n",
    "#         print(str_kill5T)\n",
    "#         plt.imshow(inv_death, 'gray')\n",
    "#         plt.show()\n",
    "#         print(str_death)\n",
    "#         plt.imshow(inv_gathering, 'gray')\n",
    "#         plt.show()\n",
    "#         print(str_gathering)\n",
    "#         plt.imshow(inv_assist, 'gray')\n",
    "#         plt.show()\n",
    "#         print(str_assist)"
   ]
  },
  {
   "cell_type": "markdown",
   "metadata": {},
   "source": [
    "np.mean 248 이하면 에러라고 판단하는게 좋을듯"
   ]
  },
  {
   "cell_type": "code",
   "execution_count": null,
   "metadata": {},
   "outputs": [],
   "source": []
  },
  {
   "cell_type": "code",
   "execution_count": null,
   "metadata": {},
   "outputs": [],
   "source": []
  },
  {
   "cell_type": "code",
   "execution_count": null,
   "metadata": {},
   "outputs": [],
   "source": [
    "idx = 17\n",
    "fn = profile_list[idx]\n",
    "img = cv2.imread(fn,0)\n",
    "plt.imshow(img, 'gray')\n",
    "plt.show()\n",
    "\n",
    "kill_4Tp = crop_dict['kill_4T']\n",
    "kill_5Tp = crop_dict['kill_5T']\n",
    "deathp = crop_dict['death']\n",
    "gatheringp = crop_dict['gathering']\n",
    "assistp = crop_dict['assist']\n",
    "\n",
    "img_kill4T = img[kill_4Tp[0]:kill_4Tp[1], kill_4Tp[2]+2:kill_4Tp[3]]\n",
    "img_kill5T = img[kill_5Tp[0]:kill_5Tp[1], kill_5Tp[2]:kill_5Tp[3]]\n",
    "img_death = img[deathp[0]:deathp[1], deathp[2]:deathp[3]]\n",
    "img_gathering = img[gatheringp[0]:gatheringp[1], gatheringp[2]:gatheringp[3]]\n",
    "img_assist = img[assistp[0]:assistp[1], assistp[2]:assistp[3]]\n",
    "\n",
    "inv_kill4T, str_kill4T = bin_inv(img_kill4T, thr=80, inv=False)\n",
    "inv_kill5T, str_kill5T = bin_inv(img_kill5T, thr=80, inv=False)\n",
    "inv_death, str_death = bin_inv(img_death, thr=120)\n",
    "inv_gathering, str_gathering = bin_inv(img_gathering, thr=120)\n",
    "inv_assist, str_assist = bin_inv(img_assist, thr=120)\n",
    "\n",
    "plt.imshow(inv_kill4T, 'gray')\n",
    "plt.show()\n",
    "print(str_kill4T)\n",
    "plt.imshow(inv_kill5T, 'gray')\n",
    "plt.show()\n",
    "print(str_kill5T)\n",
    "plt.imshow(inv_death, 'gray')\n",
    "plt.show()\n",
    "print(str_death)\n",
    "plt.imshow(inv_gathering, 'gray')\n",
    "plt.show()\n",
    "print(str_gathering)\n",
    "plt.imshow(inv_assist, 'gray')\n",
    "plt.show()\n",
    "print(str_assist)"
   ]
  },
  {
   "cell_type": "code",
   "execution_count": null,
   "metadata": {},
   "outputs": [],
   "source": [
    "print(chr(8227))"
   ]
  },
  {
   "cell_type": "code",
   "execution_count": null,
   "metadata": {},
   "outputs": [],
   "source": [
    "print(ord('‘'))"
   ]
  },
  {
   "cell_type": "code",
   "execution_count": null,
   "metadata": {},
   "outputs": [],
   "source": [
    "a = '‘406,107'\n",
    "a"
   ]
  },
  {
   "cell_type": "code",
   "execution_count": null,
   "metadata": {},
   "outputs": [],
   "source": [
    "plt.imshow(inv_gathering, 'gray')\n",
    "plt.show()\n",
    "print(str_gathering)"
   ]
  },
  {
   "cell_type": "code",
   "execution_count": null,
   "metadata": {},
   "outputs": [],
   "source": [
    "str_gathering.replace('.','').replace(',','').replace(' ','')"
   ]
  },
  {
   "cell_type": "code",
   "execution_count": null,
   "metadata": {},
   "outputs": [],
   "source": [
    "str2num(str_gathering)"
   ]
  },
  {
   "cell_type": "code",
   "execution_count": null,
   "metadata": {},
   "outputs": [],
   "source": [
    "str_kill5T"
   ]
  },
  {
   "cell_type": "code",
   "execution_count": null,
   "metadata": {},
   "outputs": [],
   "source": [
    "inv_kill5T, str_kill5T = bin_inv(img_kill5T, thr=140, inv=False)\n",
    "plt.imshow(inv_kill5T, 'gray')\n",
    "plt.show()\n",
    "print(str_kill5T)"
   ]
  },
  {
   "cell_type": "code",
   "execution_count": null,
   "metadata": {},
   "outputs": [],
   "source": [
    "inv_death, str_death = bin_inv(img_death, thr=156)\n",
    "plt.imshow(inv_death, 'gray')\n",
    "plt.show()\n",
    "print(str_death)"
   ]
  },
  {
   "cell_type": "code",
   "execution_count": null,
   "metadata": {},
   "outputs": [],
   "source": [
    "def bin_inv2(img, thr=140, show=False, inv=True):\n",
    "    ret,thresh2 = cv2.threshold(img,thr,255,cv2.THRESH_BINARY_INV)\n",
    "    if not inv:\n",
    "        ret,thresh2 = cv2.threshold(img,thr,255,cv2.THRESH_BINARY)\n",
    "    config = '-c tessedit_char_whitelist=0123456789'\n",
    "    ocr_result = pytesseract.image_to_string(thresh2, config=config)\n",
    "    if show:\n",
    "        plt.imshow(thresh2, 'gray')\n",
    "        plt.show()\n",
    "        print(ocr_result)\n",
    "    return thresh2, ocr_result"
   ]
  },
  {
   "cell_type": "code",
   "execution_count": null,
   "metadata": {},
   "outputs": [],
   "source": [
    "inv_gathering, str_gathering = bin_inv(img_gathering, thr=120)\n",
    "plt.imshow(inv_gathering, 'gray')\n",
    "plt.show()\n",
    "print(str_gathering)"
   ]
  },
  {
   "cell_type": "code",
   "execution_count": null,
   "metadata": {},
   "outputs": [],
   "source": [
    "inv_gathering, str_gathering = bin_inv2(img_gathering, thr=160)\n",
    "plt.imshow(inv_gathering, 'gray')\n",
    "plt.show()\n",
    "print(str_gathering)"
   ]
  },
  {
   "cell_type": "code",
   "execution_count": null,
   "metadata": {},
   "outputs": [],
   "source": [
    "inv_death, str_death = bin_inv(img_death, thr=140)\n",
    "plt.imshow(inv_death, 'gray')\n",
    "plt.show()\n",
    "print(str_death)"
   ]
  },
  {
   "cell_type": "code",
   "execution_count": null,
   "metadata": {},
   "outputs": [],
   "source": [
    "inv_death, str_death = bin_inv2(img_death, thr=140)\n",
    "plt.imshow(inv_death, 'gray')\n",
    "plt.show()\n",
    "print(str_death)"
   ]
  },
  {
   "cell_type": "code",
   "execution_count": null,
   "metadata": {},
   "outputs": [],
   "source": []
  }
 ],
 "metadata": {
  "kernelspec": {
   "display_name": "Python [conda env:ROKOCR]",
   "language": "python",
   "name": "conda-env-ROKOCR-py"
  },
  "language_info": {
   "codemirror_mode": {
    "name": "ipython",
    "version": 3
   },
   "file_extension": ".py",
   "mimetype": "text/x-python",
   "name": "python",
   "nbconvert_exporter": "python",
   "pygments_lexer": "ipython3",
   "version": "3.6.10"
  }
 },
 "nbformat": 4,
 "nbformat_minor": 4
}
