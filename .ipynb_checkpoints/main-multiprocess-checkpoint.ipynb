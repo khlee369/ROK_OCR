{
 "cells": [
  {
   "cell_type": "code",
   "execution_count": null,
   "metadata": {},
   "outputs": [],
   "source": [
    "from rok_launcher import NoxManager\n",
    "\n",
    "import OCRHelper as OH\n",
    "import datetime\n",
    "import glob\n",
    "\n",
    "config = {\n",
    "    'nox_size' : (720, 1280)\n",
    "}\n",
    "\n",
    "import time"
   ]
  },
  {
   "cell_type": "markdown",
   "metadata": {},
   "source": [
    "# Get Nox Screen"
   ]
  },
  {
   "cell_type": "code",
   "execution_count": null,
   "metadata": {},
   "outputs": [],
   "source": [
    "manager = NoxManager(config=config, verbose=False)"
   ]
  },
  {
   "cell_type": "markdown",
   "metadata": {},
   "source": [
    "# Capture All Members"
   ]
  },
  {
   "cell_type": "code",
   "execution_count": null,
   "metadata": {},
   "outputs": [],
   "source": [
    "# 타연맹일경우 other = True\n",
    "# 자연맹일경우 other = False\n",
    "manager.capture_members_all(other=True)"
   ]
  },
  {
   "cell_type": "markdown",
   "metadata": {},
   "source": [
    "# Let's OCR"
   ]
  },
  {
   "cell_type": "code",
   "execution_count": null,
   "metadata": {},
   "outputs": [],
   "source": [
    "# OCRHelper.py 에서 profile_list를 initialize 하려 했으나\n",
    "# import 와 동시에 profile_list가 eval되어 빈폴더를 load하는 문제가 발생\n",
    "profile_path = './Screenshots/'\n",
    "profile_list = glob.glob(profile_path + '*.png')\n",
    "Players = OH.ocr_profiles(profile_list = profile_list)"
   ]
  },
  {
   "cell_type": "code",
   "execution_count": null,
   "metadata": {},
   "outputs": [],
   "source": [
    "Players"
   ]
  },
  {
   "cell_type": "markdown",
   "metadata": {},
   "source": [
    "# Convert to DataFrame"
   ]
  },
  {
   "cell_type": "code",
   "execution_count": null,
   "metadata": {},
   "outputs": [],
   "source": [
    "df = OH.Players2df(Players)\n",
    "df"
   ]
  },
  {
   "cell_type": "markdown",
   "metadata": {},
   "source": [
    "# Save as xlsx"
   ]
  },
  {
   "cell_type": "code",
   "execution_count": null,
   "metadata": {},
   "outputs": [],
   "source": [
    "dt = datetime.datetime.now()\n",
    "output_name = '-'.join([str(dt.year), str(dt.month), str(dt.day)])\n",
    "output_name = 'PALO-' + output_name\n",
    "df.to_excel(output_name + '.xlsx', index=False)"
   ]
  },
  {
   "cell_type": "markdown",
   "metadata": {},
   "source": [
    "# Expand id2name\n",
    "\n",
    "OCR후 저장된 xlsx file(e.g. df.to_excel(output_name + '.xlsx', index=False))를 open합니다. name이 빠져있는 id를 체크하여 name을 채워넣습니다. 그 후 다음 코드를 실행하세요."
   ]
  },
  {
   "cell_type": "code",
   "execution_count": null,
   "metadata": {},
   "outputs": [],
   "source": [
    "id2name = OH.load_id2name('PALO-2020-7-21.xlsx', \n",
    "                          id2name=OH.load_id2name('id2name.xlsx'))\n",
    "id2name"
   ]
  },
  {
   "cell_type": "code",
   "execution_count": null,
   "metadata": {},
   "outputs": [],
   "source": [
    "OH.save_id2name(id2name)"
   ]
  }
 ],
 "metadata": {
  "kernelspec": {
   "display_name": "Python [conda env:ROKOCR]",
   "language": "python",
   "name": "conda-env-ROKOCR-py"
  },
  "language_info": {
   "codemirror_mode": {
    "name": "ipython",
    "version": 3
   },
   "file_extension": ".py",
   "mimetype": "text/x-python",
   "name": "python",
   "nbconvert_exporter": "python",
   "pygments_lexer": "ipython3",
   "version": "3.6.10"
  }
 },
 "nbformat": 4,
 "nbformat_minor": 2
}
