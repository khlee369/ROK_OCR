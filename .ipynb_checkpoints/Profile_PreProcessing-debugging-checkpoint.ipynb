{
 "cells": [
  {
   "cell_type": "markdown",
   "metadata": {},
   "source": [
    "# Profile PreProcessing\n",
    "\n",
    "## 1. Gray Filter\n",
    "## 2. Cropping\n",
    "## 3. Binary Inversion\n",
    "## 4. Integration or Individuall OCR"
   ]
  },
  {
   "cell_type": "markdown",
   "metadata": {},
   "source": [
    "스크린샷 위치 : C:\\Users\\KH_Home\\Nox_share\\ImageShare\\Screenshots"
   ]
  },
  {
   "cell_type": "code",
   "execution_count": 1,
   "metadata": {},
   "outputs": [],
   "source": [
    "import numpy as np\n",
    "import matplotlib.pyplot as plt\n",
    "import glob\n",
    "import cv2"
   ]
  },
  {
   "cell_type": "code",
   "execution_count": 3,
   "metadata": {},
   "outputs": [],
   "source": [
    "import pytesseract\n",
    "pytesseract.pytesseract.tesseract_cmd = r'C:\\Program Files\\Tesseract-OCR\\tesseract.exe'"
   ]
  },
  {
   "cell_type": "code",
   "execution_count": null,
   "metadata": {
    "scrolled": true
   },
   "outputs": [],
   "source": [
    "profile_path = './sample/profiles/'\n",
    "profile_list = glob.glob(profile_path + '*.png')\n",
    "for fn in profile_list:\n",
    "    print(fn)"
   ]
  },
  {
   "cell_type": "code",
   "execution_count": null,
   "metadata": {},
   "outputs": [],
   "source": [
    "img = cv2.imread(profile_list[1],0)\n",
    "print(img.shape)\n",
    "plt.figure(figsize=(15,15))\n",
    "plt.imshow(img, 'gray')\n",
    "plt.show()"
   ]
  },
  {
   "cell_type": "markdown",
   "metadata": {},
   "source": [
    "#### ID"
   ]
  },
  {
   "cell_type": "code",
   "execution_count": null,
   "metadata": {},
   "outputs": [],
   "source": [
    "plt.figure(figsize=(5,5))\n",
    "plt.imshow(img[185:216, 595:672], 'gray')\n",
    "plt.show()"
   ]
  },
  {
   "cell_type": "markdown",
   "metadata": {},
   "source": [
    "#### Power"
   ]
  },
  {
   "cell_type": "code",
   "execution_count": null,
   "metadata": {},
   "outputs": [],
   "source": [
    "plt.figure(figsize=(5,5))\n",
    "plt.imshow(img[290:320, 690:880], 'gray')\n",
    "plt.show()"
   ]
  },
  {
   "cell_type": "markdown",
   "metadata": {},
   "source": [
    "#### kill"
   ]
  },
  {
   "cell_type": "code",
   "execution_count": null,
   "metadata": {},
   "outputs": [],
   "source": [
    "plt.figure(figsize=(5,5))\n",
    "plt.imshow(img[290:320, 880:1050], 'gray')\n",
    "plt.show()"
   ]
  },
  {
   "cell_type": "code",
   "execution_count": null,
   "metadata": {},
   "outputs": [],
   "source": [
    "crop_dict = {\n",
    "    'ID' : np.array([185, 216, 595, 672], dtype=int),\n",
    "    'power' : np.array([290, 320, 690, 880], dtype=int),\n",
    "    'kill' : np.array([290, 320, 880, 1050], dtype=int),\n",
    "}"
   ]
  },
  {
   "cell_type": "markdown",
   "metadata": {},
   "source": [
    "tesseract_path : C:\\Users\\ASUS\\AppData\\Local\\Tesseract-OCR"
   ]
  },
  {
   "cell_type": "code",
   "execution_count": null,
   "metadata": {},
   "outputs": [],
   "source": [
    "for key in crop_dict.keys():\n",
    "    pos = crop_dict[key]\n",
    "    tmp_img = img[pos[0]:pos[1], pos[2]:pos[3]]\n",
    "    plt.imshow(tmp_img)\n",
    "    plt.show()\n",
    "    print(pytesseract.image_to_string(tmp_img))\n",
    "    \n",
    "    thr = 140\n",
    "    ret,thresh2 = cv2.threshold(tmp_img,thr,255,cv2.THRESH_BINARY_INV)\n",
    "    plt.imshow(thresh2, 'gray')\n",
    "    plt.show()\n",
    "    print(pytesseract.image_to_string(thresh2))"
   ]
  },
  {
   "cell_type": "code",
   "execution_count": null,
   "metadata": {},
   "outputs": [],
   "source": [
    "pos = crop_dict['ID']\n",
    "tmp_img = img[pos[0]:pos[1], pos[2]:pos[3]]\n",
    "plt.imshow(tmp_img, 'gray')\n",
    "plt.show()\n",
    "print(pytesseract.image_to_string(tmp_img))"
   ]
  },
  {
   "cell_type": "code",
   "execution_count": null,
   "metadata": {},
   "outputs": [],
   "source": [
    "def bin_inv(img, thr=140):\n",
    "    ret,thresh2 = cv2.threshold(img,thr,255,cv2.THRESH_BINARY_INV)\n",
    "    plt.imshow(thresh2, 'gray')\n",
    "    plt.show()\n",
    "    print(pytesseract.image_to_string(thresh2))\n",
    "    return thresh2"
   ]
  },
  {
   "cell_type": "markdown",
   "metadata": {},
   "source": [
    "# ALL"
   ]
  },
  {
   "cell_type": "code",
   "execution_count": null,
   "metadata": {
    "scrolled": true
   },
   "outputs": [],
   "source": [
    "for fn in profile_list:\n",
    "    img = cv2.imread(fn,0)\n",
    "    plt.imshow(img, 'gray')\n",
    "    plt.show()\n",
    "\n",
    "    IDp = crop_dict['ID']\n",
    "    powerp = crop_dict['power']\n",
    "    killp = crop_dict['kill']\n",
    "    \n",
    "    img_ID = img[IDp[0]:IDp[1], IDp[2]:IDp[3]]\n",
    "    img_power = img[powerp[0]:powerp[1], powerp[2]:powerp[3]]\n",
    "    img_kill = img[killp[0]:killp[1], killp[2]:killp[3]]\n",
    "    \n",
    "    i1 = bin_inv(img_ID)\n",
    "    i2 = bin_inv(img_power)\n",
    "    i3 = bin_inv(img_kill)\n",
    "    \n",
    "\n",
    "    a = input('y or n')\n",
    "    if a == 'n':\n",
    "        break"
   ]
  },
  {
   "cell_type": "code",
   "execution_count": null,
   "metadata": {},
   "outputs": [],
   "source": [
    "fn = profile_list[6]\n",
    "img = cv2.imread(fn,0)\n",
    "plt.imshow(img, 'gray')\n",
    "plt.show()\n",
    "\n",
    "IDp = crop_dict['ID']\n",
    "powerp = crop_dict['power']\n",
    "killp = crop_dict['kill']\n",
    "\n",
    "img_ID = img[IDp[0]:IDp[1], IDp[2]:IDp[3]]\n",
    "img_power = img[powerp[0]:powerp[1], powerp[2]:powerp[3]]\n",
    "img_kill = img[killp[0]:killp[1], killp[2]:killp[3]]\n",
    "\n",
    "i1 = bin_inv(img_ID)\n",
    "i2 = bin_inv(img_power)\n",
    "i3 = bin_inv(img_kill)"
   ]
  },
  {
   "cell_type": "code",
   "execution_count": null,
   "metadata": {
    "scrolled": false
   },
   "outputs": [],
   "source": [
    "for i, row in enumerate(img_ID):\n",
    "    print(i, row)"
   ]
  },
  {
   "cell_type": "code",
   "execution_count": null,
   "metadata": {
    "scrolled": false
   },
   "outputs": [],
   "source": [
    "for i, row in enumerate(i1):\n",
    "    print(i, row)"
   ]
  },
  {
   "cell_type": "code",
   "execution_count": null,
   "metadata": {},
   "outputs": [],
   "source": []
  },
  {
   "cell_type": "code",
   "execution_count": null,
   "metadata": {},
   "outputs": [],
   "source": []
  },
  {
   "cell_type": "code",
   "execution_count": null,
   "metadata": {},
   "outputs": [],
   "source": [
    "fn = profile_list[4]\n",
    "img = cv2.imread(fn,0)\n",
    "plt.imshow(img, 'gray')\n",
    "plt.show()\n",
    "\n",
    "IDp = crop_dict['ID']\n",
    "powerp = crop_dict['power']\n",
    "killp = crop_dict['kill']\n",
    "\n",
    "img_ID = img[IDp[0]:IDp[1], IDp[2]:IDp[3]]\n",
    "img_power = img[powerp[0]:powerp[1], powerp[2]:powerp[3]]\n",
    "img_kill = img[killp[0]:killp[1], killp[2]:killp[3]]\n",
    "\n",
    "i1 = bin_inv(img_ID)\n",
    "i2 = bin_inv(img_power)\n",
    "i3 = bin_inv(img_kill)"
   ]
  },
  {
   "cell_type": "code",
   "execution_count": null,
   "metadata": {
    "scrolled": false
   },
   "outputs": [],
   "source": [
    "for i, row in enumerate(img_ID):\n",
    "    print(i, row)"
   ]
  },
  {
   "cell_type": "code",
   "execution_count": null,
   "metadata": {
    "scrolled": false
   },
   "outputs": [],
   "source": [
    "for i, row in enumerate(i1):\n",
    "    print(i, row)"
   ]
  },
  {
   "cell_type": "code",
   "execution_count": null,
   "metadata": {},
   "outputs": [],
   "source": []
  },
  {
   "cell_type": "code",
   "execution_count": null,
   "metadata": {},
   "outputs": [],
   "source": []
  }
 ],
 "metadata": {
  "kernelspec": {
   "display_name": "Python [conda env:ROKOCR]",
   "language": "python",
   "name": "conda-env-ROKOCR-py"
  },
  "language_info": {
   "codemirror_mode": {
    "name": "ipython",
    "version": 3
   },
   "file_extension": ".py",
   "mimetype": "text/x-python",
   "name": "python",
   "nbconvert_exporter": "python",
   "pygments_lexer": "ipython3",
   "version": "3.6.10"
  }
 },
 "nbformat": 4,
 "nbformat_minor": 4
}
