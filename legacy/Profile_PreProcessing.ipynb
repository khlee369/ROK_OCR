{
 "cells": [
  {
   "cell_type": "markdown",
   "metadata": {},
   "source": [
    "# Profile PreProcessing\n",
    "\n",
    "## 1. Gray Filter\n",
    "## 2. Cropping\n",
    "## 3. Binary Inversion\n",
    "## 4. Integration or Individuall OCR"
   ]
  },
  {
   "cell_type": "markdown",
   "metadata": {},
   "source": [
    "스크린샷 위치 : C:\\Users\\KH_Home\\Nox_share\\ImageShare\\Screenshots"
   ]
  },
  {
   "cell_type": "markdown",
   "metadata": {},
   "source": [
    "tesseract_path : C:\\Program Files\\Tesseract-OCR\\tesseract.exe"
   ]
  },
  {
   "cell_type": "code",
   "execution_count": 1,
   "metadata": {},
   "outputs": [
    {
     "name": "stdout",
     "output_type": "stream",
     "text": [
      "Loaded id2name.xlsx as id2name\n",
      "Loaded id2name.xlsx as id2name\n"
     ]
    }
   ],
   "source": [
    "import OCRHelper as OH\n",
    "import datetime\n",
    "import glob"
   ]
  },
  {
   "cell_type": "markdown",
   "metadata": {},
   "source": [
    "# OCR normal"
   ]
  },
  {
   "cell_type": "code",
   "execution_count": null,
   "metadata": {
    "scrolled": true
   },
   "outputs": [],
   "source": [
    "profile_path = './Screenshots/'\n",
    "profile_list = glob.glob(profile_path + '*.png')\n",
    "Players = OH.ocr_profiles(profile_list = profile_list)"
   ]
  },
  {
   "cell_type": "code",
   "execution_count": null,
   "metadata": {},
   "outputs": [],
   "source": [
    "Players"
   ]
  },
  {
   "cell_type": "code",
   "execution_count": null,
   "metadata": {},
   "outputs": [],
   "source": [
    "df = OH.Players2df(Players)\n",
    "df"
   ]
  },
  {
   "cell_type": "markdown",
   "metadata": {},
   "source": [
    "# save as xlsx"
   ]
  },
  {
   "cell_type": "code",
   "execution_count": null,
   "metadata": {},
   "outputs": [],
   "source": [
    "dt = datetime.datetime.now()\n",
    "output_name = '-'.join([str(dt.year), str(dt.month), str(dt.day)])\n",
    "output_name = 'PALO-' + output_name"
   ]
  },
  {
   "cell_type": "code",
   "execution_count": null,
   "metadata": {},
   "outputs": [],
   "source": [
    "df.to_excel(output_name + '.xlsx', index=False)"
   ]
  },
  {
   "cell_type": "markdown",
   "metadata": {},
   "source": [
    "# OCR detail"
   ]
  },
  {
   "cell_type": "code",
   "execution_count": 2,
   "metadata": {},
   "outputs": [
    {
     "name": "stdout",
     "output_type": "stream",
     "text": [
      "1/14 : profile processing\n",
      "2/14 : detail processing\n",
      "3/14 : profile processing\n",
      "4/14 : detail processing\n",
      "5/14 : profile processing\n",
      "6/14 : detail processing\n",
      "7/14 : profile processing\n",
      "8/14 : detail processing\n",
      "9/14 : profile processing\n",
      "10/14 : detail processing\n",
      "11/14 : profile processing\n",
      "12/14 : detail processing\n",
      "13/14 : profile processing\n",
      "14/14 : detail processing\n"
     ]
    }
   ],
   "source": [
    "profile_path = './Screenshots/'\n",
    "profile_list = glob.glob(profile_path + '*.png')\n",
    "Players = OH.ocr_profiles_detail(profile_list = profile_list)"
   ]
  },
  {
   "cell_type": "code",
   "execution_count": 3,
   "metadata": {},
   "outputs": [
    {
     "data": {
      "text/plain": [
       "{32858679: 에이치피,\n",
       " 32886907: 최Garen,\n",
       " 32849136: 유니파더손,\n",
       " 32916567: 민준하은,\n",
       " 32888148: 정훈이,\n",
       " 32860442: 돌팸환돌,\n",
       " 44463382: 앤버는글럿}"
      ]
     },
     "execution_count": 3,
     "metadata": {},
     "output_type": "execute_result"
    }
   ],
   "source": [
    "Players"
   ]
  },
  {
   "cell_type": "code",
   "execution_count": 4,
   "metadata": {},
   "outputs": [
    {
     "name": "stdout",
     "output_type": "stream",
     "text": [
      "name : 에이치피\n",
      "power : 39932235\n",
      "kill : 1448263\n",
      "kill_4T : 620523\n",
      "kill_5T : 93634\n",
      "death : 306878\n",
      "gathering : 5988132681\n",
      "assist : 482977082\n",
      "\n",
      "name : 최Garen\n",
      "power : 39474214\n",
      "kill : 2487123\n",
      "kill_4T : 808557\n",
      "kill_5T : 48472\n",
      "death : 600447\n",
      "gathering : 4307806687\n",
      "assist : 16000000\n",
      "\n",
      "name : 유니파더손\n",
      "power : 38618507\n",
      "kill : 2323839\n",
      "kill_4T : 788177\n",
      "kill_5T : 125866\n",
      "death : 196871\n",
      "gathering : 5645510133\n",
      "assist : 31056417\n",
      "\n",
      "name : 민준하은\n",
      "power : 36930657\n",
      "kill : 3422130\n",
      "kill_4T : 1268810\n",
      "kill_5T : 100256\n",
      "death : 693065\n",
      "gathering : 4826091895\n",
      "assist : 474350080\n",
      "\n",
      "name : 정훈이\n",
      "power : 33620190\n",
      "kill : 5070346\n",
      "kill_4T : 1328066\n",
      "kill_5T : 17112\n",
      "death : 633807\n",
      "gathering : 4386581285\n",
      "assist : 390647259\n",
      "\n",
      "name : 돌팸환돌\n",
      "power : 26729638\n",
      "kill : 3029242\n",
      "kill_4T : 517211\n",
      "kill_5T : 87200\n",
      "death : 431688\n",
      "gathering : 3019814894\n",
      "assist : 387924055\n",
      "\n",
      "name : 앤버는글럿\n",
      "power : 21030870\n",
      "kill : 263443\n",
      "kill_4T : 12588\n",
      "kill_5T : -1\n",
      "death : 20045\n",
      "gathering : 3435170943\n",
      "assist : 9270690\n",
      "\n"
     ]
    }
   ],
   "source": [
    "for ID, player in Players.items():\n",
    "    print(player)"
   ]
  },
  {
   "cell_type": "code",
   "execution_count": null,
   "metadata": {},
   "outputs": [],
   "source": []
  }
 ],
 "metadata": {
  "kernelspec": {
   "display_name": "Python [conda env:ROKOCR]",
   "language": "python",
   "name": "conda-env-ROKOCR-py"
  },
  "language_info": {
   "codemirror_mode": {
    "name": "ipython",
    "version": 3
   },
   "file_extension": ".py",
   "mimetype": "text/x-python",
   "name": "python",
   "nbconvert_exporter": "python",
   "pygments_lexer": "ipython3",
   "version": "3.6.10"
  }
 },
 "nbformat": 4,
 "nbformat_minor": 4
}
