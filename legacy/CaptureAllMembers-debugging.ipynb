{
 "cells": [
  {
   "cell_type": "markdown",
   "metadata": {},
   "source": [
    "# Grabbing Nox Player"
   ]
  },
  {
   "cell_type": "markdown",
   "metadata": {},
   "source": [
    "'nox_size' : (720, 1280)\n",
    "\n",
    "스크린샷 경로 : C:\\Users\\KH_Home\\Nox_share\\ImageShare\\Screenshots"
   ]
  },
  {
   "cell_type": "code",
   "execution_count": null,
   "metadata": {},
   "outputs": [],
   "source": [
    "import cv2\n",
    "import time\n",
    "import matplotlib.pyplot as plt\n",
    "import numpy as np\n",
    "import sys\n",
    "import win32api, win32con, win32gui\n",
    "from PIL import Image\n",
    "from mss import mss\n",
    "\n",
    "from configs import *"
   ]
  },
  {
   "cell_type": "code",
   "execution_count": null,
   "metadata": {},
   "outputs": [],
   "source": [
    "from rok_launcher import NoxManager"
   ]
  },
  {
   "cell_type": "code",
   "execution_count": null,
   "metadata": {},
   "outputs": [],
   "source": [
    "config = {\n",
    "    'nox_size' : (720, 1280)\n",
    "}"
   ]
  },
  {
   "cell_type": "code",
   "execution_count": null,
   "metadata": {
    "scrolled": false
   },
   "outputs": [],
   "source": [
    "manager = NoxManager(config=config, verbose=False)"
   ]
  },
  {
   "cell_type": "markdown",
   "metadata": {},
   "source": [
    "# manager 로 실행"
   ]
  },
  {
   "cell_type": "code",
   "execution_count": null,
   "metadata": {},
   "outputs": [],
   "source": [
    "manager.capture_leader()"
   ]
  },
  {
   "cell_type": "code",
   "execution_count": null,
   "metadata": {},
   "outputs": [],
   "source": [
    "manager.capture_R4()"
   ]
  },
  {
   "cell_type": "code",
   "execution_count": null,
   "metadata": {},
   "outputs": [],
   "source": [
    "manager.capture_R3()"
   ]
  },
  {
   "cell_type": "code",
   "execution_count": null,
   "metadata": {},
   "outputs": [],
   "source": [
    "manager.capture_R2()"
   ]
  },
  {
   "cell_type": "code",
   "execution_count": null,
   "metadata": {},
   "outputs": [],
   "source": [
    "manager.capture_R1()"
   ]
  },
  {
   "cell_type": "code",
   "execution_count": null,
   "metadata": {},
   "outputs": [],
   "source": []
  },
  {
   "cell_type": "code",
   "execution_count": null,
   "metadata": {},
   "outputs": [],
   "source": []
  },
  {
   "cell_type": "markdown",
   "metadata": {},
   "source": [
    "# 연맹창 열기"
   ]
  },
  {
   "cell_type": "code",
   "execution_count": null,
   "metadata": {},
   "outputs": [],
   "source": [
    "img_dict"
   ]
  },
  {
   "cell_type": "markdown",
   "metadata": {},
   "source": [
    "# R4 체크"
   ]
  },
  {
   "cell_type": "code",
   "execution_count": null,
   "metadata": {},
   "outputs": [],
   "source": [
    "for r4m_pos in R4_pos_U:\n",
    "    manager.click_relative_pos(r4m_pos)\n",
    "    time.sleep(0.5)\n",
    "    profile_pos, diff = manager.get_relative_pos(img_dict['4menus'], div=1)\n",
    "    print(diff)\n",
    "    if diff < 0.04:\n",
    "        manager.click_relative_pos(profile_pos)\n",
    "        time.sleep(0.5)\n",
    "        manager.capture()\n",
    "        time.sleep(0.5)\n",
    "        manager.click_relative_pos(profile_close_pos)\n",
    "        time.sleep(0.5)"
   ]
  },
  {
   "cell_type": "code",
   "execution_count": null,
   "metadata": {},
   "outputs": [],
   "source": [
    "R3_pos, R3_diff = manager.get_relative_pos(img_dict['R3'])\n",
    "print(R3_pos, R3_diff)\n",
    "\n",
    "if R3_pos[0] > R3_thr:\n",
    "    for r4m_pos in R4_pos_D:\n",
    "        manager.click_relative_pos(r4m_pos)\n",
    "        time.sleep(0.5)\n",
    "        profile_pos, diff = manager.get_relative_pos(img_dict['4menus'], div=1)\n",
    "        print(diff)\n",
    "        if diff < diff_thr:\n",
    "            manager.click_relative_pos(profile_pos)\n",
    "            time.sleep(0.5)\n",
    "            manager.capture()\n",
    "            time.sleep(0.5)\n",
    "            manager.click_relative_pos(profile_close_pos)\n",
    "            time.sleep(0.5)"
   ]
  },
  {
   "cell_type": "markdown",
   "metadata": {},
   "source": [
    "# R3 체크"
   ]
  },
  {
   "cell_type": "code",
   "execution_count": null,
   "metadata": {},
   "outputs": [],
   "source": [
    "def capture_members(verbose=False):\n",
    "    for m_pos in members_pos:\n",
    "        manager.click_relative_pos(m_pos)\n",
    "        time.sleep(0.5)\n",
    "        profile_pos, diff = manager.get_relative_pos(img_dict['7menus'], div=2)\n",
    "        if verbose:\n",
    "            print('profile_diff: ',diff)\n",
    "        if diff < 0.04:\n",
    "            manager.click_relative_pos(profile_pos)\n",
    "            time.sleep(0.5)\n",
    "            manager.capture()\n",
    "            time.sleep(0.5)\n",
    "            manager.click_relative_pos(profile_close_pos)\n",
    "            time.sleep(0.5)"
   ]
  },
  {
   "cell_type": "code",
   "execution_count": null,
   "metadata": {},
   "outputs": [],
   "source": [
    "manager.click_relative_pos(R3_pos)\n",
    "time.sleep(0.3)\n",
    "manager.relative_drag(R3_pos, np.array([r3r2_H_to, R3_pos[1]]), delay=1.0)\n",
    "\n",
    "last_line = False\n",
    "max_cnt = 20\n",
    "cnt = 0"
   ]
  },
  {
   "cell_type": "code",
   "execution_count": null,
   "metadata": {},
   "outputs": [],
   "source": [
    "# 멤버수가 4명,6명 보다 적은경우 에러가 날 수 있음\n",
    "while(not last_line and cnt<max_cnt):\n",
    "    capture_members()\n",
    "            \n",
    "    manager.relative_drag(md_drag_from4, md_drag_to4, delay=1.0)\n",
    "    R1_pos, R1_diff = manager.get_relative_pos(img_dict['R1'])\n",
    "    print('R1 diff : ',R1_diff)\n",
    "    if R1_diff < diff_thr:\n",
    "        last_line = True\n",
    "        capture_members()\n",
    "    cnt += 1"
   ]
  },
  {
   "cell_type": "markdown",
   "metadata": {},
   "source": [
    "# R2 체크"
   ]
  },
  {
   "cell_type": "code",
   "execution_count": null,
   "metadata": {},
   "outputs": [],
   "source": [
    "R2_pos, R2_diff = manager.get_relative_pos(img_dict['R2'])\n",
    "print(R2_pos, R2_diff)\n",
    "\n",
    "manager.click_relative_pos(R2_pos)\n",
    "time.sleep(0.3)\n",
    "manager.relative_drag(R2_pos, np.array([r3r2_H_to, R2_pos[1]]), delay=1.0)\n",
    "\n",
    "last_line = False\n",
    "max_cnt = 20\n",
    "cnt = 0"
   ]
  },
  {
   "cell_type": "code",
   "execution_count": null,
   "metadata": {},
   "outputs": [],
   "source": [
    "# 멤버수가 4명,6명 보다 적은경우 에러가 날 수 있음\n",
    "while(not last_line and cnt<max_cnt):\n",
    "    capture_members()\n",
    "            \n",
    "    manager.relative_drag(md_drag_from4, md_drag_to4, delay=1.0)\n",
    "    R1_pos, R1_diff = manager.get_relative_pos(img_dict['R1'])\n",
    "    print('R1 diff : ',R1_diff)\n",
    "    if R1_diff < diff_thr:\n",
    "        last_line = True\n",
    "        capture_members()\n",
    "    cnt += 1"
   ]
  },
  {
   "cell_type": "markdown",
   "metadata": {},
   "source": [
    "# R1 체크"
   ]
  },
  {
   "cell_type": "code",
   "execution_count": null,
   "metadata": {},
   "outputs": [],
   "source": [
    "R1_pos, R1_diff = manager.get_relative_pos(img_dict['R1'])\n",
    "print(R1_pos, R1_diff)\n",
    "\n",
    "manager.click_relative_pos(R1_pos)\n",
    "time.sleep(0.3)\n",
    "manager.relative_drag(R1_pos, np.array([r3r2_H_to, R1_pos[1]]), delay=1.0)\n",
    "\n",
    "last_line = False\n",
    "max_cnt = 20\n",
    "cnt = 0"
   ]
  },
  {
   "cell_type": "markdown",
   "metadata": {},
   "source": [
    "## break condition 생각해봐야됨\n",
    "### 같은 멤버가 또 나오는지 체크를 해봐야 되는데 생각보다 쉽지 않다, 글자로만 비교해야되기때문\n",
    "### 차라리 숫자 OCR을 하고 몇명을 체크해야되는지를 알아보는게 더 나을수도있다"
   ]
  },
  {
   "cell_type": "code",
   "execution_count": null,
   "metadata": {},
   "outputs": [],
   "source": [
    "# 멤버수가 4명,6명 보다 적은경우 에러가 날 수 있음\n",
    "while(not last_line and cnt<max_cnt):\n",
    "    capture_members()\n",
    "            \n",
    "    manager.relative_drag(md_drag_from4, md_drag_to4, delay=1.0)\n",
    "    R1_pos, R1_diff = manager.get_relative_pos(img_dict['R1'])\n",
    "    print('R1 diff : ',R1_diff)\n",
    "    if R1_diff < diff_thr:\n",
    "        last_line = True\n",
    "        capture_members()\n",
    "    cnt += 1"
   ]
  },
  {
   "cell_type": "code",
   "execution_count": null,
   "metadata": {},
   "outputs": [],
   "source": []
  },
  {
   "cell_type": "code",
   "execution_count": null,
   "metadata": {},
   "outputs": [],
   "source": []
  },
  {
   "cell_type": "code",
   "execution_count": null,
   "metadata": {},
   "outputs": [],
   "source": []
  },
  {
   "cell_type": "code",
   "execution_count": null,
   "metadata": {},
   "outputs": [],
   "source": []
  },
  {
   "cell_type": "code",
   "execution_count": null,
   "metadata": {},
   "outputs": [],
   "source": []
  },
  {
   "cell_type": "code",
   "execution_count": null,
   "metadata": {},
   "outputs": [],
   "source": []
  },
  {
   "cell_type": "code",
   "execution_count": null,
   "metadata": {},
   "outputs": [],
   "source": []
  },
  {
   "cell_type": "code",
   "execution_count": null,
   "metadata": {},
   "outputs": [],
   "source": []
  },
  {
   "cell_type": "code",
   "execution_count": null,
   "metadata": {},
   "outputs": [],
   "source": []
  },
  {
   "cell_type": "code",
   "execution_count": null,
   "metadata": {},
   "outputs": [],
   "source": []
  },
  {
   "cell_type": "code",
   "execution_count": null,
   "metadata": {},
   "outputs": [],
   "source": []
  },
  {
   "cell_type": "code",
   "execution_count": null,
   "metadata": {},
   "outputs": [],
   "source": []
  },
  {
   "cell_type": "code",
   "execution_count": null,
   "metadata": {},
   "outputs": [],
   "source": [
    "manager.relative_drag(md_drag_from4, md_drag_to4, delay=1.0)\n",
    "R1_pos, R1_diff = manager.get_relative_pos(img_dict['R1'])\n",
    "print(R1_pos, R1_diff)\n",
    "if R1_diff < diff_thr:\n",
    "    last_line = True"
   ]
  },
  {
   "cell_type": "code",
   "execution_count": null,
   "metadata": {},
   "outputs": [],
   "source": []
  },
  {
   "cell_type": "code",
   "execution_count": null,
   "metadata": {},
   "outputs": [],
   "source": []
  },
  {
   "cell_type": "code",
   "execution_count": null,
   "metadata": {},
   "outputs": [],
   "source": [
    "R3_pos, R3_diff = manager.get_relative_pos(img_dict['R2'])\n",
    "print(R3_pos, R3_diff)"
   ]
  },
  {
   "cell_type": "code",
   "execution_count": null,
   "metadata": {},
   "outputs": [],
   "source": []
  },
  {
   "cell_type": "code",
   "execution_count": null,
   "metadata": {},
   "outputs": [],
   "source": []
  },
  {
   "cell_type": "code",
   "execution_count": null,
   "metadata": {},
   "outputs": [],
   "source": []
  },
  {
   "cell_type": "markdown",
   "metadata": {},
   "source": [
    "# Debug"
   ]
  },
  {
   "cell_type": "code",
   "execution_count": null,
   "metadata": {},
   "outputs": [],
   "source": [
    "from util import *"
   ]
  },
  {
   "cell_type": "code",
   "execution_count": null,
   "metadata": {},
   "outputs": [],
   "source": [
    "manager.capture_R4(other=True)"
   ]
  },
  {
   "cell_type": "code",
   "execution_count": null,
   "metadata": {},
   "outputs": [],
   "source": [
    "manager.get_relative_pos(img_dict['7menus'])"
   ]
  },
  {
   "cell_type": "code",
   "execution_count": null,
   "metadata": {},
   "outputs": [],
   "source": [
    "manager.capture_members(R4_pos_D, img_dict['2menus'], div=3)"
   ]
  },
  {
   "cell_type": "code",
   "execution_count": null,
   "metadata": {},
   "outputs": [],
   "source": [
    "for m_pos in R4_pos_D:\n",
    "    manager.click_relative_pos(m_pos)\n",
    "    time.sleep(0.5)\n",
    "    print(manager.get_relative_pos(img_dict['4menus'], div=2))"
   ]
  },
  {
   "cell_type": "code",
   "execution_count": null,
   "metadata": {},
   "outputs": [],
   "source": []
  },
  {
   "cell_type": "code",
   "execution_count": null,
   "metadata": {},
   "outputs": [],
   "source": []
  },
  {
   "cell_type": "code",
   "execution_count": null,
   "metadata": {
    "scrolled": true
   },
   "outputs": [],
   "source": [
    "sct = mss()\n",
    "screen = get_screen(sct, sct.monitors[2])\n",
    "\n",
    "nox_img = cv2.imread('./images/nox.PNG')\n",
    "nox_pos = find_img_pos(screen, nox_img, interval=10, verbose=True)\n",
    "print(nox_pos)"
   ]
  },
  {
   "cell_type": "code",
   "execution_count": null,
   "metadata": {},
   "outputs": [],
   "source": [
    "img_path = './images/'\n",
    "tmp_imgs = ['nox.PNG', 'menu.PNG', 'alliance.PNG', 'R1.PNG',\n",
    "           'R2.PNG', 'R3.PNG', 'R4.PNG', 'info.PNG', '4menus.PNG', '7menus.PNG']\n",
    "imgs = []\n",
    "for img in tmp_imgs:\n",
    "    imgs.append(img_path+img)"
   ]
  },
  {
   "cell_type": "code",
   "execution_count": null,
   "metadata": {},
   "outputs": [],
   "source": [
    "screen.shape"
   ]
  },
  {
   "cell_type": "code",
   "execution_count": null,
   "metadata": {},
   "outputs": [],
   "source": [
    "idx = -2\n",
    "sct = mss()\n",
    "screen = get_screen(manager.sct, manager.nox_monitor)\n",
    "img = cv2.imread(imgs[idx])\n",
    "print(imgs[idx])\n",
    "img_pos, diff = manager.get_relative_pos(img, div=1)\n",
    "print(img_pos, diff)"
   ]
  },
  {
   "cell_type": "code",
   "execution_count": null,
   "metadata": {},
   "outputs": [],
   "source": [
    "manager.click_relative_pos(img_pos[0])"
   ]
  },
  {
   "cell_type": "code",
   "execution_count": null,
   "metadata": {},
   "outputs": [],
   "source": [
    "get_mouse_pos()"
   ]
  },
  {
   "cell_type": "code",
   "execution_count": null,
   "metadata": {},
   "outputs": [],
   "source": [
    "manager.monitor"
   ]
  },
  {
   "cell_type": "code",
   "execution_count": null,
   "metadata": {},
   "outputs": [],
   "source": [
    "manager.nox_pos + img_pos[0][0]"
   ]
  },
  {
   "cell_type": "code",
   "execution_count": null,
   "metadata": {},
   "outputs": [],
   "source": [
    "click(manager.nox_pos + img_pos[0][0])"
   ]
  },
  {
   "cell_type": "code",
   "execution_count": null,
   "metadata": {},
   "outputs": [],
   "source": [
    "manager.get_relative_mouse_pos()"
   ]
  },
  {
   "cell_type": "code",
   "execution_count": null,
   "metadata": {},
   "outputs": [],
   "source": [
    "manager.get_relative_mouse_pos()"
   ]
  },
  {
   "cell_type": "code",
   "execution_count": null,
   "metadata": {},
   "outputs": [],
   "source": [
    "manager.get_relative_mouse_pos()"
   ]
  },
  {
   "cell_type": "code",
   "execution_count": null,
   "metadata": {},
   "outputs": [],
   "source": [
    "manager.get_relative_mouse_pos()"
   ]
  },
  {
   "cell_type": "code",
   "execution_count": null,
   "metadata": {},
   "outputs": [],
   "source": [
    "manager.get_relative_mouse_pos()"
   ]
  },
  {
   "cell_type": "code",
   "execution_count": null,
   "metadata": {},
   "outputs": [],
   "source": [
    "manager.get_relative_mouse_pos()"
   ]
  },
  {
   "cell_type": "code",
   "execution_count": null,
   "metadata": {},
   "outputs": [],
   "source": [
    "manager.get_relative_mouse_pos()"
   ]
  },
  {
   "cell_type": "code",
   "execution_count": null,
   "metadata": {},
   "outputs": [],
   "source": [
    "manager.get_relative_mouse_pos()"
   ]
  },
  {
   "cell_type": "code",
   "execution_count": null,
   "metadata": {},
   "outputs": [],
   "source": [
    "manager.get_relative_mouse_pos()"
   ]
  },
  {
   "cell_type": "code",
   "execution_count": null,
   "metadata": {},
   "outputs": [],
   "source": [
    "manager.get_relative_mouse_pos()"
   ]
  },
  {
   "cell_type": "code",
   "execution_count": null,
   "metadata": {},
   "outputs": [],
   "source": [
    "manager.get_relative_mouse_pos()"
   ]
  },
  {
   "cell_type": "code",
   "execution_count": null,
   "metadata": {},
   "outputs": [],
   "source": [
    "manager.get_relative_mouse_pos()"
   ]
  },
  {
   "cell_type": "code",
   "execution_count": null,
   "metadata": {},
   "outputs": [],
   "source": [
    "manager.get_relative_mouse_pos()"
   ]
  },
  {
   "cell_type": "code",
   "execution_count": null,
   "metadata": {},
   "outputs": [],
   "source": [
    "manager.get_relative_mouse_pos()"
   ]
  },
  {
   "cell_type": "code",
   "execution_count": null,
   "metadata": {},
   "outputs": [],
   "source": [
    "manager.get_relative_mouse_pos()"
   ]
  },
  {
   "cell_type": "code",
   "execution_count": null,
   "metadata": {},
   "outputs": [],
   "source": [
    "manager.nox_monitor"
   ]
  },
  {
   "cell_type": "code",
   "execution_count": null,
   "metadata": {},
   "outputs": [],
   "source": [
    "import mss.tools"
   ]
  },
  {
   "cell_type": "code",
   "execution_count": null,
   "metadata": {},
   "outputs": [],
   "source": [
    "r1_monitor = manager.nox_monitor.copy()\n",
    "r1_monitor['left'] += 170\n",
    "r1_monitor['top'] += 610\n",
    "r1_monitor['width'] = 400\n",
    "r1_monitor['height'] = 80\n",
    "\n",
    "screen = get_screen(manager.sct, r1_monitor)\n",
    "plt.imshow(screen)\n",
    "\n",
    "sct_img = manager.sct.grab(r1_monitor)\n",
    "mss.tools.to_png(sct_img.rgb, sct_img.size, output='./images/r1_lastline.PNG')\n",
    "\n",
    "r1_monitor10 = r1_monitor.copy()\n",
    "r1_monitor10['left'] -= 10\n",
    "r1_monitor10['top'] -= 10\n",
    "r1_monitor10['width'] += 10\n",
    "r1_monitor10['height'] += 10"
   ]
  },
  {
   "cell_type": "code",
   "execution_count": null,
   "metadata": {},
   "outputs": [],
   "source": [
    "screen = get_screen(manager.sct, r1_monitor10)\n",
    "plt.imshow(screen)"
   ]
  },
  {
   "cell_type": "code",
   "execution_count": null,
   "metadata": {},
   "outputs": [],
   "source": [
    "screen.shape"
   ]
  },
  {
   "cell_type": "code",
   "execution_count": null,
   "metadata": {},
   "outputs": [],
   "source": [
    "r1_lastline.shape"
   ]
  },
  {
   "cell_type": "code",
   "execution_count": null,
   "metadata": {},
   "outputs": [],
   "source": [
    "r1_lastline = cv2.imread('./images/r1_lastline.PNG')\n",
    "plt.imshow(r1_lastline)\n",
    "plt.show()\n",
    "screen = get_screen(manager.sct, r1_monitor10)\n",
    "plt.imshow(screen)\n",
    "plt.show()\n",
    "_, img_diff = find_img_pos(screen, r1_lastline, interval=1)\n",
    "img_diff"
   ]
  },
  {
   "cell_type": "code",
   "execution_count": null,
   "metadata": {},
   "outputs": [],
   "source": [
    "r1_monitor"
   ]
  },
  {
   "cell_type": "code",
   "execution_count": null,
   "metadata": {},
   "outputs": [],
   "source": [
    "manager.nox_monitor"
   ]
  },
  {
   "cell_type": "code",
   "execution_count": null,
   "metadata": {},
   "outputs": [],
   "source": [
    "screen = get_screen(manager.sct, r1_monitor_tmp)\n",
    "r1_lastline = cv2.imread('./images/r1_lastline.PNG')\n",
    "plt.imshow(r1_lastline)\n",
    "_, img_diff = find_img_pos(screen, r1_lastline, interval=1)\n",
    "img_diff"
   ]
  },
  {
   "cell_type": "code",
   "execution_count": null,
   "metadata": {},
   "outputs": [],
   "source": []
  },
  {
   "cell_type": "code",
   "execution_count": null,
   "metadata": {},
   "outputs": [],
   "source": []
  },
  {
   "cell_type": "code",
   "execution_count": null,
   "metadata": {},
   "outputs": [],
   "source": [
    "img = cv2.imread('./images/4menus.PNG')\n",
    "print(img.shape)\n",
    "plt.imshow(img)"
   ]
  },
  {
   "cell_type": "code",
   "execution_count": null,
   "metadata": {},
   "outputs": [],
   "source": [
    "sct_img = manager.sct.grab(r1_monitor)\n"
   ]
  },
  {
   "cell_type": "code",
   "execution_count": null,
   "metadata": {},
   "outputs": [],
   "source": [
    "plt.imshow(sct_img)"
   ]
  },
  {
   "cell_type": "code",
   "execution_count": null,
   "metadata": {},
   "outputs": [],
   "source": []
  },
  {
   "cell_type": "code",
   "execution_count": null,
   "metadata": {},
   "outputs": [],
   "source": []
  },
  {
   "cell_type": "code",
   "execution_count": null,
   "metadata": {},
   "outputs": [],
   "source": []
  },
  {
   "cell_type": "code",
   "execution_count": null,
   "metadata": {},
   "outputs": [],
   "source": [
    "tmp_monitor = manager.nox_monitor.copy()\n",
    "tmp_monitor['left'] += 1340\n",
    "tmp_monitor['top'] += 110\n",
    "tmp_monitor['width'] = 60\n",
    "tmp_monitor['height'] = 70\n",
    "\n",
    "screen = get_screen(manager.sct, tmp_monitor)\n",
    "\n",
    "plt.imshow(screen)"
   ]
  },
  {
   "cell_type": "code",
   "execution_count": null,
   "metadata": {},
   "outputs": [],
   "source": [
    "img = cv2.imread('./images/capture.PNG')\n",
    "plt.imshow(img)\n",
    "find_img_pos(screen, img, dist=None, interval=1, verbose=False)"
   ]
  },
  {
   "cell_type": "code",
   "execution_count": null,
   "metadata": {},
   "outputs": [],
   "source": []
  },
  {
   "cell_type": "code",
   "execution_count": null,
   "metadata": {},
   "outputs": [],
   "source": [
    "R4_pos = [[335, 220],\n",
    "          [335, 460],\n",
    "          [335, 700],\n",
    "          [335, 930],\n",
    "          [480, 220],\n",
    "          [480, 460],\n",
    "          [480, 700],\n",
    "          [480, 930]]"
   ]
  },
  {
   "cell_type": "code",
   "execution_count": null,
   "metadata": {},
   "outputs": [],
   "source": [
    "members_pos = [[258, 200],\n",
    "               [338, 200],\n",
    "               [413, 200],\n",
    "               [497, 200],\n",
    "               [258, 680],\n",
    "               [338, 680],\n",
    "               [413, 680],\n",
    "               [497, 680]]"
   ]
  },
  {
   "cell_type": "markdown",
   "metadata": {},
   "source": [
    "# 마우스 움직임 체크"
   ]
  },
  {
   "cell_type": "code",
   "execution_count": null,
   "metadata": {},
   "outputs": [],
   "source": [
    "img_path = './images/'\n",
    "tmp_imgs = ['nox.PNG', 'menu.PNG', 'alliance.PNG', 'R1.PNG',\n",
    "           'R2.PNG', 'R3.PNG', 'R4.PNG', 'info.PNG', '4menus.PNG', '7menus.PNG']\n",
    "imgs = []\n",
    "for img in tmp_imgs:\n",
    "    imgs.append(img_path+img)"
   ]
  },
  {
   "cell_type": "code",
   "execution_count": null,
   "metadata": {},
   "outputs": [],
   "source": [
    "for pos in R4_pos:\n",
    "    pos += manager.nox_pos\n",
    "    x, y = pos[1], pos[0]\n",
    "    win32api.SetCursorPos((x, y))\n",
    "    time.sleep(0.5)"
   ]
  },
  {
   "cell_type": "markdown",
   "metadata": {},
   "source": [
    "# R3 찾고 드래그"
   ]
  },
  {
   "cell_type": "code",
   "execution_count": null,
   "metadata": {},
   "outputs": [],
   "source": [
    "idx = 5\n",
    "sct = mss()\n",
    "screen = get_screen(manager.sct, manager.nox_monitor)\n",
    "img = cv2.imread(imgs[idx])\n",
    "print(imgs[idx])\n",
    "img_pos, diff = manager.get_relative_pos(img)\n",
    "img_pos = img_pos[0]\n",
    "print(img_pos, diff)"
   ]
  },
  {
   "cell_type": "code",
   "execution_count": null,
   "metadata": {},
   "outputs": [],
   "source": [
    "manager.click_relative_pos(img_pos)\n",
    "time.sleep(0.3)\n",
    "manager.relative_drag(img_pos, np.array([170, img_pos[1]]), delay=1.0)\n",
    "print(manager.get_relative_mouse_pos())"
   ]
  },
  {
   "cell_type": "markdown",
   "metadata": {},
   "source": [
    "# 멤버 찾기 마우스 움직임 체크(마지막줄 주의)\n",
    "## R2를 누를수도 있음 주의!!"
   ]
  },
  {
   "cell_type": "code",
   "execution_count": null,
   "metadata": {},
   "outputs": [],
   "source": [
    "for pos in members_pos:\n",
    "    pos += manager.nox_pos\n",
    "    x, y = pos[1], pos[0]\n",
    "    win32api.SetCursorPos((x, y))\n",
    "    time.sleep(0.5)"
   ]
  },
  {
   "cell_type": "markdown",
   "metadata": {},
   "source": [
    "# 멤버 드래그"
   ]
  },
  {
   "cell_type": "code",
   "execution_count": null,
   "metadata": {},
   "outputs": [],
   "source": [
    "manager.relative_drag(np.array([500, 200]), np.array([170, 200]), delay=1.0)\n",
    "print(manager.get_relative_mouse_pos())"
   ]
  },
  {
   "cell_type": "code",
   "execution_count": null,
   "metadata": {},
   "outputs": [],
   "source": [
    "win32api.mouse_event(win32con.MOUSEEVENTF_MOVE, -100, -100, 0, 0)"
   ]
  },
  {
   "cell_type": "code",
   "execution_count": null,
   "metadata": {},
   "outputs": [],
   "source": []
  },
  {
   "cell_type": "code",
   "execution_count": null,
   "metadata": {},
   "outputs": [],
   "source": []
  },
  {
   "cell_type": "code",
   "execution_count": null,
   "metadata": {},
   "outputs": [],
   "source": []
  },
  {
   "cell_type": "markdown",
   "metadata": {},
   "source": [
    "# ???"
   ]
  },
  {
   "cell_type": "code",
   "execution_count": null,
   "metadata": {},
   "outputs": [],
   "source": []
  },
  {
   "cell_type": "code",
   "execution_count": null,
   "metadata": {},
   "outputs": [],
   "source": []
  },
  {
   "cell_type": "code",
   "execution_count": null,
   "metadata": {},
   "outputs": [],
   "source": []
  },
  {
   "cell_type": "code",
   "execution_count": null,
   "metadata": {},
   "outputs": [],
   "source": []
  },
  {
   "cell_type": "code",
   "execution_count": null,
   "metadata": {},
   "outputs": [],
   "source": []
  },
  {
   "cell_type": "code",
   "execution_count": null,
   "metadata": {},
   "outputs": [],
   "source": []
  },
  {
   "cell_type": "code",
   "execution_count": null,
   "metadata": {},
   "outputs": [],
   "source": []
  },
  {
   "cell_type": "code",
   "execution_count": null,
   "metadata": {},
   "outputs": [],
   "source": []
  },
  {
   "cell_type": "code",
   "execution_count": null,
   "metadata": {},
   "outputs": [],
   "source": []
  },
  {
   "cell_type": "code",
   "execution_count": null,
   "metadata": {},
   "outputs": [],
   "source": []
  }
 ],
 "metadata": {
  "kernelspec": {
   "display_name": "Python [conda env:ROKOCR]",
   "language": "python",
   "name": "conda-env-ROKOCR-py"
  },
  "language_info": {
   "codemirror_mode": {
    "name": "ipython",
    "version": 3
   },
   "file_extension": ".py",
   "mimetype": "text/x-python",
   "name": "python",
   "nbconvert_exporter": "python",
   "pygments_lexer": "ipython3",
   "version": "3.6.10"
  }
 },
 "nbformat": 4,
 "nbformat_minor": 4
}
