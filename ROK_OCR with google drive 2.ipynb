{
 "cells": [
  {
   "cell_type": "markdown",
   "metadata": {},
   "source": [
    "# ROK_OCR"
   ]
  },
  {
   "cell_type": "code",
   "execution_count": 1,
   "metadata": {},
   "outputs": [],
   "source": [
    "import pandas as pd\n",
    "import numpy as np\n",
    "import matplotlib.pyplot as plt\n",
    "import glob\n",
    "import os\n",
    "import cv2\n",
    "\n",
    "from driveHelper import GHelper"
   ]
  },
  {
   "cell_type": "markdown",
   "metadata": {},
   "source": [
    "## 1. 이미지 -> BINARY_INV로"
   ]
  },
  {
   "cell_type": "code",
   "execution_count": null,
   "metadata": {},
   "outputs": [],
   "source": [
    "def preprocess_pngs(data_path, save_path, verbose=False):\n",
    "    png_list = glob.glob(data_path + '*.png')\n",
    "    thr = 200\n",
    "    try:\n",
    "        os.mkdir(save_path)\n",
    "    except FileExistsError:\n",
    "        pass\n",
    "    for file_path in png_list:\n",
    "        img = cv2.imread(file_path,0)\n",
    "        img = img[230:850,335:1400]\n",
    "        ret,thresh2 = cv2.threshold(img,thr,255,cv2.THRESH_BINARY_INV)\n",
    "        png_name = file_path.split('\\\\')[-1]\n",
    "        save_name = save_path + png_name[:-4] + \"_BINARY_INV.png\"\n",
    "        if verbose:\n",
    "            print(\"FROM : {}\".format(file_path))\n",
    "            print(\"TO : {}\".format(save_name))\n",
    "        cv2.imwrite(save_name, thresh2)"
   ]
  },
  {
   "cell_type": "code",
   "execution_count": null,
   "metadata": {
    "scrolled": true
   },
   "outputs": [],
   "source": [
    "data_path = './upload_samples/'\n",
    "save_path = './upload_samples/BIN_INV/'\n",
    "preprocess_pngs(data_path, save_path, True)"
   ]
  },
  {
   "cell_type": "markdown",
   "metadata": {},
   "source": [
    "## 2. 구글 드라이브를 통한 OCR"
   ]
  },
  {
   "cell_type": "code",
   "execution_count": null,
   "metadata": {},
   "outputs": [],
   "source": [
    "gh = GHelper()"
   ]
  },
  {
   "cell_type": "markdown",
   "metadata": {},
   "source": [
    "### 2.1 upload"
   ]
  },
  {
   "cell_type": "code",
   "execution_count": null,
   "metadata": {},
   "outputs": [],
   "source": [
    "folder_id = '1LREb_uoCXV6ELURQW25fbfzEP01puwHt'\n",
    "file_names = glob.glob(save_path + '*.png')\n",
    "file_ids = []"
   ]
  },
  {
   "cell_type": "code",
   "execution_count": null,
   "metadata": {
    "scrolled": true
   },
   "outputs": [],
   "source": [
    "upload_len = len(file_names)\n",
    "for i, file_name in enumerate(file_names):\n",
    "    fn = os.path.basename(file_name)\n",
    "    fp = os.path.dirname(file_name) + '/'\n",
    "    print(\"Start Uploading ({}/{}) : {}\".format(i+1, upload_len, fp+fn))\n",
    "    file_id = gh.upload(fn, fp, folder_id=folder_id, as_docs=True, verbose=True)\n",
    "    file_ids.append(file_id)"
   ]
  },
  {
   "cell_type": "markdown",
   "metadata": {},
   "source": [
    "### 2.1 download"
   ]
  },
  {
   "cell_type": "code",
   "execution_count": null,
   "metadata": {},
   "outputs": [],
   "source": [
    "save_path= './download_sample/'"
   ]
  },
  {
   "cell_type": "code",
   "execution_count": null,
   "metadata": {
    "scrolled": true
   },
   "outputs": [],
   "source": [
    "download_len = len(file_ids)\n",
    "for i, file_id in enumerate(file_ids):\n",
    "    print(\"Start Downloading ({}/{}) : {}\".format(i+1, download_len, file_id))\n",
    "    gh.download(file_id, save_path, verbose=True)"
   ]
  },
  {
   "cell_type": "markdown",
   "metadata": {},
   "source": [
    "# text 후처리"
   ]
  },
  {
   "cell_type": "code",
   "execution_count": null,
   "metadata": {},
   "outputs": [],
   "source": [
    "txt_path = './download_sample/'\n",
    "txt_names = glob.glob(txt_path + '*.txt')"
   ]
  },
  {
   "cell_type": "code",
   "execution_count": null,
   "metadata": {},
   "outputs": [],
   "source": [
    "ocr_results = []\n",
    "for txt_name in txt_names:\n",
    "    with open(txt_name, 'r', encoding='utf-8-sig') as f:\n",
    "        a = f.readlines()\n",
    "        f.close()\n",
    "        a = list(map(str.strip, a))\n",
    "        for i in reversed(range(len(a))):\n",
    "            a[i] = ''.join(a[i].split(','))\n",
    "            a[i] = ''.join(a[i].split('.'))\n",
    "            if a[i].count('_') > 5:\n",
    "                a.pop(i)\n",
    "        ocr_results.append(a)"
   ]
  },
  {
   "cell_type": "code",
   "execution_count": null,
   "metadata": {
    "scrolled": true
   },
   "outputs": [],
   "source": [
    "ocr_results"
   ]
  },
  {
   "cell_type": "markdown",
   "metadata": {},
   "source": [
    "# row sepearte 하고 OCR 해볼까?\n",
    "# 시간 두배로 하고 col seperate도 진행"
   ]
  },
  {
   "cell_type": "code",
   "execution_count": null,
   "metadata": {},
   "outputs": [],
   "source": [
    "image_name = './upload_samples/BIN_INV/Screenshot_2020-05-11-19-02-04_BINARY_INV.png'\n",
    "img = cv2.imread(image_name,0)\n",
    "\n",
    "height, width = img.shape\n",
    "\n",
    "for x in range(1,6):\n",
    "    fidx = int((x-1) * height/6)\n",
    "    eid = int(x * height/6)\n",
    "    plt.imshow(img[:,:])\n",
    "    plt.show()\n",
    "    line_idx = int(x * height/6)\n",
    "    img[line_idx] = [1]*width"
   ]
  },
  {
   "cell_type": "code",
   "execution_count": null,
   "metadata": {},
   "outputs": [],
   "source": [
    "for x in range(6):\n",
    "    fidx = int(x * height/6)\n",
    "    eidx = int((x+1) * height/6)\n",
    "    plt.figure(figsize=(16,16))\n",
    "    plt.imshow(img[fidx:eidx, :], 'gray')\n",
    "    plt.show()"
   ]
  },
  {
   "cell_type": "code",
   "execution_count": null,
   "metadata": {
    "scrolled": false
   },
   "outputs": [],
   "source": [
    "img_name = img[:,:width//2]\n",
    "img_power = img[:,width//2:]\n",
    "\n",
    "plt.figure(figsize=(16,16))\n",
    "plt.imshow(img_name, 'gray')\n",
    "plt.show()\n",
    "\n",
    "plt.figure(figsize=(16,16))\n",
    "plt.imshow(img_power, 'gray')\n",
    "plt.show()"
   ]
  },
  {
   "cell_type": "code",
   "execution_count": null,
   "metadata": {},
   "outputs": [],
   "source": [
    "def seperate_pngs(data_path, save_path, verbose=False):\n",
    "    png_list = glob.glob(data_path + '*.png')\n",
    "    try:\n",
    "        os.mkdir(save_path)\n",
    "    except FileExistsError:\n",
    "        pass\n",
    "    for file_path in png_list:\n",
    "        img = cv2.imread(file_path,0)\n",
    "        height, width = img.shape\n",
    "        \n",
    "        # height sep\n",
    "        for x in range(1,6):\n",
    "            line_idx = int(x * height/6)\n",
    "            img[line_idx] = [1]*width\n",
    "            \n",
    "        # width sep\n",
    "        img_name = img[:,:width//2]\n",
    "        img_power = img[:,width//2:]\n",
    "        \n",
    "        png_name = file_path.split('\\\\')[-1]\n",
    "        save_name_name = save_path + png_name[:-4] + \"_name.png\"\n",
    "        save_name_power= save_path + png_name[:-4] + \"_power.png\"\n",
    "        if verbose:\n",
    "            print(\"FROM : {}\".format(file_path))\n",
    "            print(\"TO : {}\".format(save_name_name))\n",
    "            print(\"TO : {}\".format(save_name_power))\n",
    "        cv2.imwrite(save_name_name, img_name)\n",
    "        cv2.imwrite(save_name_power, img_power)"
   ]
  },
  {
   "cell_type": "code",
   "execution_count": null,
   "metadata": {
    "scrolled": true
   },
   "outputs": [],
   "source": [
    "data_path2 = './upload_samples/BIN_INV/'\n",
    "save_path2 = './upload_samples/BIN_INV/sep/'\n",
    "seperate_pngs(data_path2, save_path2, True)"
   ]
  },
  {
   "cell_type": "markdown",
   "metadata": {},
   "source": [
    "### 2.1 upload"
   ]
  },
  {
   "cell_type": "code",
   "execution_count": 2,
   "metadata": {},
   "outputs": [],
   "source": [
    "gh = GHelper()"
   ]
  },
  {
   "cell_type": "code",
   "execution_count": null,
   "metadata": {},
   "outputs": [],
   "source": [
    "folder_id = '1QTMBb2yDIonB7YKhXLjQrTlUV5f1G8Ph'\n",
    "file_names = glob.glob(save_path2 + '*.png')\n",
    "file_ids = []"
   ]
  },
  {
   "cell_type": "code",
   "execution_count": null,
   "metadata": {
    "scrolled": true
   },
   "outputs": [],
   "source": [
    "upload_len = len(file_names)\n",
    "for i, file_name in enumerate(file_names):\n",
    "    fn = os.path.basename(file_name)\n",
    "    fp = os.path.dirname(file_name) + '/'\n",
    "    print(\"Start Uploading ({}/{}) : {}\".format(i+1, upload_len, fp+fn))\n",
    "    file_id = gh.upload(fn, fp, folder_id=folder_id, as_docs=True, verbose=True)\n",
    "    file_ids.append(file_id)"
   ]
  },
  {
   "cell_type": "markdown",
   "metadata": {},
   "source": [
    "### 2.1 download"
   ]
  },
  {
   "cell_type": "code",
   "execution_count": null,
   "metadata": {},
   "outputs": [],
   "source": [
    "save_path= './download_sample/sep/'"
   ]
  },
  {
   "cell_type": "code",
   "execution_count": null,
   "metadata": {
    "scrolled": true
   },
   "outputs": [],
   "source": [
    "download_len = len(file_ids)\n",
    "for i, file_id in enumerate(file_ids):\n",
    "    print(\"Start Downloading ({}/{}) : {}\".format(i+1, download_len, file_id))\n",
    "    gh.download(file_id, save_path, verbose=True)"
   ]
  },
  {
   "cell_type": "markdown",
   "metadata": {},
   "source": [
    "# text 후처리"
   ]
  },
  {
   "cell_type": "code",
   "execution_count": null,
   "metadata": {},
   "outputs": [],
   "source": [
    "txt_path = './download_sample/sep/'\n",
    "txt_names = glob.glob(txt_path + '*.txt')"
   ]
  },
  {
   "cell_type": "code",
   "execution_count": null,
   "metadata": {},
   "outputs": [],
   "source": [
    "ocr_results2 = []\n",
    "for txt_name in txt_names:\n",
    "    with open(txt_name, 'r', encoding='utf-8-sig') as f:\n",
    "        a = f.readlines()\n",
    "        f.close()\n",
    "        a = list(map(str.strip, a))\n",
    "        for i in reversed(range(len(a))):\n",
    "            a[i] = ''.join(a[i].split(','))\n",
    "            a[i] = ''.join(a[i].split('.'))\n",
    "            if a[i].count('_') > 5:\n",
    "                a.pop(i)\n",
    "        ocr_results2.append(a)"
   ]
  },
  {
   "cell_type": "code",
   "execution_count": null,
   "metadata": {
    "scrolled": true
   },
   "outputs": [],
   "source": [
    "txt_names"
   ]
  },
  {
   "cell_type": "code",
   "execution_count": null,
   "metadata": {
    "scrolled": true
   },
   "outputs": [],
   "source": [
    "ocr_results2"
   ]
  },
  {
   "cell_type": "code",
   "execution_count": null,
   "metadata": {},
   "outputs": [],
   "source": [
    "for i, elem in enumerate(ocr_results2):\n",
    "    if len(elem) != 7:\n",
    "        print(i, len(elem), elem)"
   ]
  },
  {
   "cell_type": "code",
   "execution_count": null,
   "metadata": {},
   "outputs": [],
   "source": []
  },
  {
   "cell_type": "code",
   "execution_count": null,
   "metadata": {},
   "outputs": [],
   "source": []
  },
  {
   "cell_type": "markdown",
   "metadata": {},
   "source": [
    "# 정확도 떨어져서 아예 한줄씩"
   ]
  },
  {
   "cell_type": "code",
   "execution_count": null,
   "metadata": {},
   "outputs": [],
   "source": [
    "def seperate1x1(data_path, save_path, verbose=False):\n",
    "    png_list = glob.glob(data_path + '*.png')\n",
    "    try:\n",
    "        os.mkdir(save_path)\n",
    "    except FileExistsError:\n",
    "        pass\n",
    "    id_num = 0\n",
    "    for file_path in png_list:\n",
    "        img = cv2.imread(file_path, 0)\n",
    "        height, width = img.shape\n",
    "\n",
    "        png_name = file_path.split('\\\\')[-1]\n",
    "        save_name = save_path + png_name[:-4]\n",
    "\n",
    "        # height sep\n",
    "        for x in range(6):\n",
    "            fidx = int(x * height/6)\n",
    "            eidx = int((x+1) * height/6)\n",
    "            plt.imshow(img[fidx:eidx, :], 'gray')\n",
    "\n",
    "            if verbose:\n",
    "                print(\"FROM : {}\".format(file_path))\n",
    "                print(\"TO : {}\".format(save_name + \"_{}.png\".format(id_num)))\n",
    "            cv2.imwrite(save_name + \"_{}.png\".format(id_num), img[fidx:eidx, :])\n",
    "            id_num += 1"
   ]
  },
  {
   "cell_type": "code",
   "execution_count": null,
   "metadata": {},
   "outputs": [],
   "source": [
    "data_path3 = './upload_samples/BIN_INV/'\n",
    "save_path3 = './upload_samples/BIN_INV/onexone/'\n",
    "seperate1x1(data_path3, save_path3, True)"
   ]
  },
  {
   "cell_type": "code",
   "execution_count": null,
   "metadata": {},
   "outputs": [],
   "source": []
  },
  {
   "cell_type": "code",
   "execution_count": 3,
   "metadata": {},
   "outputs": [],
   "source": [
    "data_path3 = './upload_samples/BIN_INV/'\n",
    "save_path3 = './upload_samples/BIN_INV/onexone/'"
   ]
  },
  {
   "cell_type": "markdown",
   "metadata": {},
   "source": [
    "### 2.1 upload"
   ]
  },
  {
   "cell_type": "markdown",
   "metadata": {},
   "source": [
    "folder_id invoces/rok_cor : '1LREb_uoCXV6ELURQW25fbfzEP01puwHt'"
   ]
  },
  {
   "cell_type": "code",
   "execution_count": 4,
   "metadata": {},
   "outputs": [],
   "source": [
    "gh = GHelper()"
   ]
  },
  {
   "cell_type": "code",
   "execution_count": 5,
   "metadata": {},
   "outputs": [],
   "source": [
    "folder_id = '1LREb_uoCXV6ELURQW25fbfzEP01puwHt'\n",
    "file_names = glob.glob(save_path3 + '*.png')\n",
    "file_ids = []"
   ]
  },
  {
   "cell_type": "code",
   "execution_count": 6,
   "metadata": {
    "scrolled": true
   },
   "outputs": [
    {
     "name": "stdout",
     "output_type": "stream",
     "text": [
      "Start Uploading (1/138) : ./upload_samples/BIN_INV/onexone/Screenshot_2020-05-11-19-01-45_BINARY_INV_0.png\n",
      "File ID: 1djMdjfvyj_nwSHAtMl6gQJob8fvAmPi9wuNl8Vvpnjw\n",
      "Start Uploading (2/138) : ./upload_samples/BIN_INV/onexone/Screenshot_2020-05-11-19-01-45_BINARY_INV_1.png\n",
      "File ID: 1LD4tF4Ag7aVaGQpwvwYQQdw1thxHXwYVHueEAkrINrA\n",
      "Start Uploading (3/138) : ./upload_samples/BIN_INV/onexone/Screenshot_2020-05-11-19-01-45_BINARY_INV_2.png\n",
      "File ID: 1PwD66PLKdiosmqdf8mckA7W4lCK27Y68S_Xb51ONUrw\n",
      "Start Uploading (4/138) : ./upload_samples/BIN_INV/onexone/Screenshot_2020-05-11-19-01-45_BINARY_INV_3.png\n",
      "File ID: 1EEgMrhU2_pFrU5ZE67NtXsbWNO3qMCvLWjf4ceCdL8g\n",
      "Start Uploading (5/138) : ./upload_samples/BIN_INV/onexone/Screenshot_2020-05-11-19-01-45_BINARY_INV_4.png\n",
      "File ID: 1azRWKZUM2HsODyJHB7XfMnRSP1VJLGwvnXrXhfFYEmg\n",
      "Start Uploading (6/138) : ./upload_samples/BIN_INV/onexone/Screenshot_2020-05-11-19-01-45_BINARY_INV_5.png\n",
      "File ID: 1j7IcZTh-qBQYjPn3jDndo8TxpzQLsDNqn0_s3qkBZu4\n",
      "Start Uploading (7/138) : ./upload_samples/BIN_INV/onexone/Screenshot_2020-05-11-19-02-00_BINARY_INV_10.png\n",
      "File ID: 1BPZhK4BB5Wik2GMYJidrNt_h2kggWlaUpbz4WyHFmF0\n",
      "Start Uploading (8/138) : ./upload_samples/BIN_INV/onexone/Screenshot_2020-05-11-19-02-00_BINARY_INV_11.png\n",
      "File ID: 1AwcZk3KRTZcHAOdYoU1g44ceQTxrrfLhEA5ggoYog4w\n",
      "Start Uploading (9/138) : ./upload_samples/BIN_INV/onexone/Screenshot_2020-05-11-19-02-00_BINARY_INV_6.png\n",
      "File ID: 1tHzz4wPht6Mmqeh8tdmuOs2Apg7wG_6eUwuevLAbjfY\n",
      "Start Uploading (10/138) : ./upload_samples/BIN_INV/onexone/Screenshot_2020-05-11-19-02-00_BINARY_INV_7.png\n",
      "File ID: 1kO6wKg6cQ4Bhp66fsrXqlhIP-o0O1fQSxy-4LQ9KDmY\n",
      "Start Uploading (11/138) : ./upload_samples/BIN_INV/onexone/Screenshot_2020-05-11-19-02-00_BINARY_INV_8.png\n",
      "File ID: 1tOqN8UJpLRQFpMKXcnydnsZI0Nsng4BbBu9JXP81cRM\n",
      "Start Uploading (12/138) : ./upload_samples/BIN_INV/onexone/Screenshot_2020-05-11-19-02-00_BINARY_INV_9.png\n",
      "File ID: 1qNOSA4KwrEbC0FFspl-lhBxlAzh4R8TKYkEhxTtphb0\n",
      "Start Uploading (13/138) : ./upload_samples/BIN_INV/onexone/Screenshot_2020-05-11-19-02-04_BINARY_INV_12.png\n",
      "File ID: 1m-mbooYKZEPh7_H9c4_gnqsRGPsuHXAjsw6Rmpt5nAA\n",
      "Start Uploading (14/138) : ./upload_samples/BIN_INV/onexone/Screenshot_2020-05-11-19-02-04_BINARY_INV_13.png\n",
      "File ID: 1Rc-XEIKnylJ4NDjjVzVV6zZH55n-VyowLmmYId_dBDg\n",
      "Start Uploading (15/138) : ./upload_samples/BIN_INV/onexone/Screenshot_2020-05-11-19-02-04_BINARY_INV_14.png\n",
      "File ID: 1nUlAIsI76-Xwj6DAsxH6lC2OCzNrXz2o1Vjiyf9dqwE\n",
      "Start Uploading (16/138) : ./upload_samples/BIN_INV/onexone/Screenshot_2020-05-11-19-02-04_BINARY_INV_15.png\n",
      "File ID: 1s65hj-85J5QT5tU5csBhMERSeIeH7_yfM5XAAY74E6I\n",
      "Start Uploading (17/138) : ./upload_samples/BIN_INV/onexone/Screenshot_2020-05-11-19-02-04_BINARY_INV_16.png\n",
      "File ID: 1U4H-4XH9eEM0_4giPkjf_zcus991XR0RrKWuR1QArSU\n",
      "Start Uploading (18/138) : ./upload_samples/BIN_INV/onexone/Screenshot_2020-05-11-19-02-04_BINARY_INV_17.png\n",
      "File ID: 1Fr0RCzyrT919Zn6BdlFkcDsgSREyFWHK_iUDv03HpCo\n",
      "Start Uploading (19/138) : ./upload_samples/BIN_INV/onexone/Screenshot_2020-05-11-19-02-07_BINARY_INV_18.png\n",
      "File ID: 1gGzYYcXA8-8yk0Hl95D42yNfxvaVNRI5ZB0j4AShd9s\n",
      "Start Uploading (20/138) : ./upload_samples/BIN_INV/onexone/Screenshot_2020-05-11-19-02-07_BINARY_INV_19.png\n",
      "File ID: 1UGYBbhNQajHo8ddNK1IrZiJvn5CICL4ZL8dyKEblqts\n",
      "Start Uploading (21/138) : ./upload_samples/BIN_INV/onexone/Screenshot_2020-05-11-19-02-07_BINARY_INV_20.png\n",
      "File ID: 1sZpyE4u3VuuDV3Pobkufh3A4xFcKjSEmGkf5IeEEN6U\n",
      "Start Uploading (22/138) : ./upload_samples/BIN_INV/onexone/Screenshot_2020-05-11-19-02-07_BINARY_INV_21.png\n",
      "File ID: 17-9xTTJ2st-P1nNtSHP0kWNR16MJXdxPe02OZkenMQs\n",
      "Start Uploading (23/138) : ./upload_samples/BIN_INV/onexone/Screenshot_2020-05-11-19-02-07_BINARY_INV_22.png\n",
      "File ID: 1_XQNJHAir0ZxS_jqsOopnBKs-HjK4WN13p00yj6fTi0\n",
      "Start Uploading (24/138) : ./upload_samples/BIN_INV/onexone/Screenshot_2020-05-11-19-02-07_BINARY_INV_23.png\n",
      "File ID: 1hmrre35dWEy7F9t_Im3dnItzGecbyouiRa-TxFBOiGo\n",
      "Start Uploading (25/138) : ./upload_samples/BIN_INV/onexone/Screenshot_2020-05-11-19-02-11_BINARY_INV_24.png\n",
      "File ID: 1RSGZNUBCW_PEmzSvg6unWTWRx59N3kvAgAr_18Sm5TQ\n",
      "Start Uploading (26/138) : ./upload_samples/BIN_INV/onexone/Screenshot_2020-05-11-19-02-11_BINARY_INV_25.png\n",
      "File ID: 1EsEDjjUegL3LPnhKuOHJgQIDMfj2pHbbarV9Fi4B-Xc\n",
      "Start Uploading (27/138) : ./upload_samples/BIN_INV/onexone/Screenshot_2020-05-11-19-02-11_BINARY_INV_26.png\n",
      "File ID: 1VR3sBeSB3UubRo8vo9shvSX-bSYoin_vANCmRn0ttYA\n",
      "Start Uploading (28/138) : ./upload_samples/BIN_INV/onexone/Screenshot_2020-05-11-19-02-11_BINARY_INV_27.png\n",
      "File ID: 1wQ9nGeXF3dzj1pbIp4pADww05jdeEmMeVo47OzizCOI\n",
      "Start Uploading (29/138) : ./upload_samples/BIN_INV/onexone/Screenshot_2020-05-11-19-02-11_BINARY_INV_28.png\n",
      "File ID: 1oaUltqiZPRvheJ6CSFe4RomW3QA_u8QC8Hvmn8aR9kc\n",
      "Start Uploading (30/138) : ./upload_samples/BIN_INV/onexone/Screenshot_2020-05-11-19-02-11_BINARY_INV_29.png\n",
      "File ID: 1PiQSiP-8fFGbnIETpImt5A2KOfXYFz5PiL1Xe2-v0FI\n",
      "Start Uploading (31/138) : ./upload_samples/BIN_INV/onexone/Screenshot_2020-05-11-19-02-15_BINARY_INV_30.png\n",
      "File ID: 1Cj78wQDBmqrvW5ADOlTczSi26H2LX6XQZ1S52S_U0Y4\n",
      "Start Uploading (32/138) : ./upload_samples/BIN_INV/onexone/Screenshot_2020-05-11-19-02-15_BINARY_INV_31.png\n",
      "File ID: 1_GMleqUh2GMahHsclwhrWuuSK3Xgs_jmbWY4EmB2Ce8\n",
      "Start Uploading (33/138) : ./upload_samples/BIN_INV/onexone/Screenshot_2020-05-11-19-02-15_BINARY_INV_32.png\n",
      "File ID: 1_MN8ZyuIu8_idpLGfd7mhIw-sWN9F4BtUOk3Q1q0Mxs\n",
      "Start Uploading (34/138) : ./upload_samples/BIN_INV/onexone/Screenshot_2020-05-11-19-02-15_BINARY_INV_33.png\n",
      "File ID: 107v3-u_MFB9BMnDjERoRrkHJ5qYwemeh4cjYqHQaWWU\n",
      "Start Uploading (35/138) : ./upload_samples/BIN_INV/onexone/Screenshot_2020-05-11-19-02-15_BINARY_INV_34.png\n",
      "File ID: 1xhUrt8P8PzAgI43Omr2tTBHN3TuRwahuXzP-aZLovYU\n",
      "Start Uploading (36/138) : ./upload_samples/BIN_INV/onexone/Screenshot_2020-05-11-19-02-15_BINARY_INV_35.png\n",
      "File ID: 1EDZAlvoCU6BALywvMGQdJw0_la5nZNVEjlJ4XeDfaP8\n",
      "Start Uploading (37/138) : ./upload_samples/BIN_INV/onexone/Screenshot_2020-05-11-19-02-19_BINARY_INV_36.png\n",
      "File ID: 1ZQLeO9eSnUhGZofJdZFDQt4SXij7xn927FGTocIa0Jo\n",
      "Start Uploading (38/138) : ./upload_samples/BIN_INV/onexone/Screenshot_2020-05-11-19-02-19_BINARY_INV_37.png\n",
      "File ID: 1nhhPC_o1x6nsPlRI1B60EE94Gg8ymEaW-sobIX-KQ1o\n",
      "Start Uploading (39/138) : ./upload_samples/BIN_INV/onexone/Screenshot_2020-05-11-19-02-19_BINARY_INV_38.png\n",
      "File ID: 1ZhARWqjb8QJeo5aKQ1Oa7Wihk370WCuVyZROG0x6Lhk\n",
      "Start Uploading (40/138) : ./upload_samples/BIN_INV/onexone/Screenshot_2020-05-11-19-02-19_BINARY_INV_39.png\n",
      "File ID: 1A1XcfADoIGYVadScyHRrbSpzBy7BLHe8hzzLJ5CaEK0\n",
      "Start Uploading (41/138) : ./upload_samples/BIN_INV/onexone/Screenshot_2020-05-11-19-02-19_BINARY_INV_40.png\n",
      "File ID: 1xXaWTCaHS9YW1ClmFvCXVoR95zxGvuJo6numJMbUlvM\n",
      "Start Uploading (42/138) : ./upload_samples/BIN_INV/onexone/Screenshot_2020-05-11-19-02-19_BINARY_INV_41.png\n",
      "File ID: 1T8NLo8kT-8eOVVICk2fEGVIhr6V6UBbwMUiZN5hyQ_w\n",
      "Start Uploading (43/138) : ./upload_samples/BIN_INV/onexone/Screenshot_2020-05-11-19-02-22_BINARY_INV_42.png\n",
      "File ID: 1mZIsXGxIVyuVTQZybVlSgcP1Tf_uetJLVRVMHCeJPnc\n",
      "Start Uploading (44/138) : ./upload_samples/BIN_INV/onexone/Screenshot_2020-05-11-19-02-22_BINARY_INV_43.png\n",
      "File ID: 1em64WSNtej-jx2nUrfwo6X64s2012MljcGtsyrGZWic\n",
      "Start Uploading (45/138) : ./upload_samples/BIN_INV/onexone/Screenshot_2020-05-11-19-02-22_BINARY_INV_44.png\n",
      "File ID: 13uvnMYpf4v6WjFvG9XvrFTDlBWdBJZjvLyttg2O36yw\n",
      "Start Uploading (46/138) : ./upload_samples/BIN_INV/onexone/Screenshot_2020-05-11-19-02-22_BINARY_INV_45.png\n",
      "File ID: 1Q8t-8qjHrUnR7kWg6eHwSvMvOP5muq4udXCwDex2FKU\n",
      "Start Uploading (47/138) : ./upload_samples/BIN_INV/onexone/Screenshot_2020-05-11-19-02-22_BINARY_INV_46.png\n",
      "File ID: 1QQPKpjVAefAilKG7Zl21Ve9g4DG1i6Aka5niKwEP56c\n",
      "Start Uploading (48/138) : ./upload_samples/BIN_INV/onexone/Screenshot_2020-05-11-19-02-22_BINARY_INV_47.png\n",
      "File ID: 1fZalkuKlPejS4eA3Wd1kOIOvRzJDqlVs4cjgByBpJxQ\n",
      "Start Uploading (49/138) : ./upload_samples/BIN_INV/onexone/Screenshot_2020-05-11-19-02-26_BINARY_INV_48.png\n",
      "File ID: 1cofhu2UAmuc2YTarysU4b5FrxgOd7eRLvfKPHWY4l7M\n",
      "Start Uploading (50/138) : ./upload_samples/BIN_INV/onexone/Screenshot_2020-05-11-19-02-26_BINARY_INV_49.png\n",
      "File ID: 1PthA1kxWtPBePYKHNfgnCdXFlkk_80xhi-mL2VEcNWQ\n",
      "Start Uploading (51/138) : ./upload_samples/BIN_INV/onexone/Screenshot_2020-05-11-19-02-26_BINARY_INV_50.png\n"
     ]
    },
    {
     "name": "stdout",
     "output_type": "stream",
     "text": [
      "File ID: 1JyojoMRaO_IbbjKB-SGPc9_Q7H14fKbE8hgJxP36MLM\n",
      "Start Uploading (52/138) : ./upload_samples/BIN_INV/onexone/Screenshot_2020-05-11-19-02-26_BINARY_INV_51.png\n",
      "File ID: 1WxmOUTB3M_JMnfFxC_8vmAIBW9mFHRvAgnWQO4ubqBk\n",
      "Start Uploading (53/138) : ./upload_samples/BIN_INV/onexone/Screenshot_2020-05-11-19-02-26_BINARY_INV_52.png\n",
      "File ID: 1p9O1VsjPxKxeAYGkmcL6cwfqP2s-piHu0JmlbYHPzgg\n",
      "Start Uploading (54/138) : ./upload_samples/BIN_INV/onexone/Screenshot_2020-05-11-19-02-26_BINARY_INV_53.png\n",
      "File ID: 1FSsgfYUfhOR5uM9Mr8q9sJGRvxqA6eX72F-oQikY8pg\n",
      "Start Uploading (55/138) : ./upload_samples/BIN_INV/onexone/Screenshot_2020-05-11-19-02-30_BINARY_INV_54.png\n",
      "File ID: 1ms-rOHuocT-VN9HiiqYRqdiNk6MLtx2wQpiNkub_Uto\n",
      "Start Uploading (56/138) : ./upload_samples/BIN_INV/onexone/Screenshot_2020-05-11-19-02-30_BINARY_INV_55.png\n",
      "File ID: 1A04sLJyVXF9FGWDeAVaB23AjavJHk_cRuEHJhc4DcBM\n",
      "Start Uploading (57/138) : ./upload_samples/BIN_INV/onexone/Screenshot_2020-05-11-19-02-30_BINARY_INV_56.png\n",
      "File ID: 13T_AsyA0e-lrDHt9D5yzKhpD4FuKwIe7O4WhXlyTL7M\n",
      "Start Uploading (58/138) : ./upload_samples/BIN_INV/onexone/Screenshot_2020-05-11-19-02-30_BINARY_INV_57.png\n",
      "File ID: 1m8tKQnGmJl3R1PEMGs5yBrIBcoU_nt-rTyxDccI7vMw\n",
      "Start Uploading (59/138) : ./upload_samples/BIN_INV/onexone/Screenshot_2020-05-11-19-02-30_BINARY_INV_58.png\n",
      "File ID: 1kTpyHXBaD6-jVnOUGF8nRtlEGR0jG8-Jc8pYBru8U_c\n",
      "Start Uploading (60/138) : ./upload_samples/BIN_INV/onexone/Screenshot_2020-05-11-19-02-30_BINARY_INV_59.png\n",
      "File ID: 1B4zrfK8xToNM20mCLLR9x7XqwkAjOotvtaJiQfHx8nc\n",
      "Start Uploading (61/138) : ./upload_samples/BIN_INV/onexone/Screenshot_2020-05-11-19-02-38_BINARY_INV_60.png\n",
      "File ID: 11zuXLYbw3PukBpV4pEpnDSIgH8KS33lPSdxfpzTo0ss\n",
      "Start Uploading (62/138) : ./upload_samples/BIN_INV/onexone/Screenshot_2020-05-11-19-02-38_BINARY_INV_61.png\n",
      "File ID: 1j4BsNf75SjlDizrBN5qTwJJzJBKOx2yyhLmCa_3Gbs4\n",
      "Start Uploading (63/138) : ./upload_samples/BIN_INV/onexone/Screenshot_2020-05-11-19-02-38_BINARY_INV_62.png\n",
      "File ID: 1-Hcm4RS89_3LcTjX4Y-T1HEZCHTAIWutA6AGiYz9W6A\n",
      "Start Uploading (64/138) : ./upload_samples/BIN_INV/onexone/Screenshot_2020-05-11-19-02-38_BINARY_INV_63.png\n",
      "File ID: 1xBhAEVMrWywFwqev2phmuyIfNf-2QCU4bb3m4pe-OW0\n",
      "Start Uploading (65/138) : ./upload_samples/BIN_INV/onexone/Screenshot_2020-05-11-19-02-38_BINARY_INV_64.png\n",
      "File ID: 18mQWzv-zEVRPSNnfbaBAearuyUhsYkVyl_mC4x5Nvs8\n",
      "Start Uploading (66/138) : ./upload_samples/BIN_INV/onexone/Screenshot_2020-05-11-19-02-38_BINARY_INV_65.png\n",
      "File ID: 1RixuUKfv2iiaQW_QYKgd9KCNcPyLSGJjisGbRFcXffs\n",
      "Start Uploading (67/138) : ./upload_samples/BIN_INV/onexone/Screenshot_2020-05-11-19-02-42_BINARY_INV_66.png\n",
      "File ID: 1I-XpYYTnkenkVAWQWJRpGorfpkfPV-fZa3TobUWuNQQ\n",
      "Start Uploading (68/138) : ./upload_samples/BIN_INV/onexone/Screenshot_2020-05-11-19-02-42_BINARY_INV_67.png\n",
      "File ID: 11YDSLAtWCt2kSMZdEydgGaPwA80ewaioRdlbr7v0_ZQ\n",
      "Start Uploading (69/138) : ./upload_samples/BIN_INV/onexone/Screenshot_2020-05-11-19-02-42_BINARY_INV_68.png\n",
      "File ID: 1DdVUzRtYs0ucQFB1_95rgp5HTz7fAHuQlwoAKgNs5m4\n",
      "Start Uploading (70/138) : ./upload_samples/BIN_INV/onexone/Screenshot_2020-05-11-19-02-42_BINARY_INV_69.png\n",
      "File ID: 1E42MSCF5HaMBmj_371I_jMls1FZ3vhHujEGnrJfvoh0\n",
      "Start Uploading (71/138) : ./upload_samples/BIN_INV/onexone/Screenshot_2020-05-11-19-02-42_BINARY_INV_70.png\n",
      "File ID: 1d1b7u8OJmaGFads8ojF9YCw-GBM_7UcCjEF9kNuvymU\n",
      "Start Uploading (72/138) : ./upload_samples/BIN_INV/onexone/Screenshot_2020-05-11-19-02-42_BINARY_INV_71.png\n",
      "File ID: 1AwF-M1aIGMTmD0I3Js7wdvRwOoRa-_HIudDsamtMsSE\n",
      "Start Uploading (73/138) : ./upload_samples/BIN_INV/onexone/Screenshot_2020-05-11-19-02-45_BINARY_INV_72.png\n",
      "File ID: 18vYkV9faA0BoZu2nnTmZp9nGSjmgxKO17x2M_Xd2N38\n",
      "Start Uploading (74/138) : ./upload_samples/BIN_INV/onexone/Screenshot_2020-05-11-19-02-45_BINARY_INV_73.png\n",
      "File ID: 1_Crx9usROyZYpfRik7Z98VAkSau3cQbERB8Tog1VpFo\n",
      "Start Uploading (75/138) : ./upload_samples/BIN_INV/onexone/Screenshot_2020-05-11-19-02-45_BINARY_INV_74.png\n",
      "File ID: 1yHCQ0IQmmWxYVkBER9LwqEm8xGxn6TRKX-2gf0jqczo\n",
      "Start Uploading (76/138) : ./upload_samples/BIN_INV/onexone/Screenshot_2020-05-11-19-02-45_BINARY_INV_75.png\n",
      "File ID: 12BsNQEsAVbilbqmGZR86rwAB0q1dTWkZjr9zFVQ6iiA\n",
      "Start Uploading (77/138) : ./upload_samples/BIN_INV/onexone/Screenshot_2020-05-11-19-02-45_BINARY_INV_76.png\n",
      "File ID: 1jpjPIrmjl_VUP5QiUcicLEgxvSSR98deZ7awoo5UHAY\n",
      "Start Uploading (78/138) : ./upload_samples/BIN_INV/onexone/Screenshot_2020-05-11-19-02-45_BINARY_INV_77.png\n",
      "File ID: 1lGRAw0YSc1zWtw5B-aMMvlMW8NHK3dKCiBcQD3c18l4\n",
      "Start Uploading (79/138) : ./upload_samples/BIN_INV/onexone/Screenshot_2020-05-11-19-02-48_BINARY_INV_78.png\n",
      "File ID: 1jUivaRyDWnsBSsIKWxpzNTHJF1umqnVWLOXaiUo_50Y\n",
      "Start Uploading (80/138) : ./upload_samples/BIN_INV/onexone/Screenshot_2020-05-11-19-02-48_BINARY_INV_79.png\n",
      "File ID: 1BBUaqNb0O-OeD1CRcTPDF78EOsqRJV-rjZGikiBCoVA\n",
      "Start Uploading (81/138) : ./upload_samples/BIN_INV/onexone/Screenshot_2020-05-11-19-02-48_BINARY_INV_80.png\n",
      "File ID: 19ATFqEm3rCY0GZ3FG7DVHdall7l-J0OVRsffW2X2xnQ\n",
      "Start Uploading (82/138) : ./upload_samples/BIN_INV/onexone/Screenshot_2020-05-11-19-02-48_BINARY_INV_81.png\n",
      "File ID: 1AgjITNSV1sBhqqGX8DMaMvWaACUvvCDGIzxS8w0aXxk\n",
      "Start Uploading (83/138) : ./upload_samples/BIN_INV/onexone/Screenshot_2020-05-11-19-02-48_BINARY_INV_82.png\n",
      "File ID: 1H073iCMXhMoc2OTM9zzfaRn_nAZ3mB7DQGdDtjsDpFA\n",
      "Start Uploading (84/138) : ./upload_samples/BIN_INV/onexone/Screenshot_2020-05-11-19-02-48_BINARY_INV_83.png\n",
      "File ID: 1mLEp6HGi6HRRPxstbGJkG1bhIgMYKJGA-cqxr-6BnLo\n",
      "Start Uploading (85/138) : ./upload_samples/BIN_INV/onexone/Screenshot_2020-05-11-19-02-52_BINARY_INV_84.png\n",
      "File ID: 1esRd4oSiri9QLHw3LAA0bnNu7p1bG-Y1B9yYmSJ2emI\n",
      "Start Uploading (86/138) : ./upload_samples/BIN_INV/onexone/Screenshot_2020-05-11-19-02-52_BINARY_INV_85.png\n",
      "File ID: 1uHo2hRUAjG577PXTCdXyG-rRygBGpDoHQooHCMG06tE\n",
      "Start Uploading (87/138) : ./upload_samples/BIN_INV/onexone/Screenshot_2020-05-11-19-02-52_BINARY_INV_86.png\n",
      "File ID: 1OdEm2pdIT15rcNVMnBmtuYeeMNwfSIx3jUCirTsRLVs\n",
      "Start Uploading (88/138) : ./upload_samples/BIN_INV/onexone/Screenshot_2020-05-11-19-02-52_BINARY_INV_87.png\n",
      "File ID: 1GGpIZZ1uS0rJNGL7iz3I9Rx7Pkvzn9k8Pg-T-TXRg5M\n",
      "Start Uploading (89/138) : ./upload_samples/BIN_INV/onexone/Screenshot_2020-05-11-19-02-52_BINARY_INV_88.png\n",
      "File ID: 1lnMb-thSKFA9TgwcbVtiRTk9d6Mintk_vP6m2qTku0I\n",
      "Start Uploading (90/138) : ./upload_samples/BIN_INV/onexone/Screenshot_2020-05-11-19-02-52_BINARY_INV_89.png\n",
      "File ID: 1QxJEkHk7_pCqxuiCNYKNnzOIge0ZM1b6FYqzv-K4n_Q\n",
      "Start Uploading (91/138) : ./upload_samples/BIN_INV/onexone/Screenshot_2020-05-11-19-02-57_BINARY_INV_90.png\n",
      "File ID: 1PsX5HqbnjjLUn7F-VYehgf_QuiCUF9HdbTW7aJgHrOE\n",
      "Start Uploading (92/138) : ./upload_samples/BIN_INV/onexone/Screenshot_2020-05-11-19-02-57_BINARY_INV_91.png\n",
      "File ID: 1aoXzouCoESAz2j7fsUe6JDtqkTMslG5VAMoNN121lek\n",
      "Start Uploading (93/138) : ./upload_samples/BIN_INV/onexone/Screenshot_2020-05-11-19-02-57_BINARY_INV_92.png\n",
      "File ID: 1CMSHMd4q3FDCoEqjZNXrlGr0Hb9pOgYIOOVYFc4Qx_I\n",
      "Start Uploading (94/138) : ./upload_samples/BIN_INV/onexone/Screenshot_2020-05-11-19-02-57_BINARY_INV_93.png\n",
      "File ID: 1I-bJu1deg5k_n0ihUPTM-Cd25BT3dd07tO9OKMH3GBk\n",
      "Start Uploading (95/138) : ./upload_samples/BIN_INV/onexone/Screenshot_2020-05-11-19-02-57_BINARY_INV_94.png\n",
      "File ID: 11FLMq9i-3aTluNWqvpSG9_StcHR9vFnnTjPw0t-DOFQ\n",
      "Start Uploading (96/138) : ./upload_samples/BIN_INV/onexone/Screenshot_2020-05-11-19-02-57_BINARY_INV_95.png\n",
      "File ID: 1PudTwkqrnzCEiPC9dUogjgMjUIee8fMp6-tEzk5PGAg\n",
      "Start Uploading (97/138) : ./upload_samples/BIN_INV/onexone/Screenshot_2020-05-11-19-03-01_BINARY_INV_100.png\n",
      "File ID: 1IOxQtFIshC5gfMSs_mybVp8EmLJRWqdYjQCpq6hbTtY\n",
      "Start Uploading (98/138) : ./upload_samples/BIN_INV/onexone/Screenshot_2020-05-11-19-03-01_BINARY_INV_101.png\n",
      "File ID: 1j7oe-lDTfg9VZrPYaMNkmSZIqQno39-Cszuq-t39HGY\n",
      "Start Uploading (99/138) : ./upload_samples/BIN_INV/onexone/Screenshot_2020-05-11-19-03-01_BINARY_INV_96.png\n",
      "File ID: 1pZ3jTzYrb31HfN9BghoZbwZAm0WYQ99PQuLGN2olaTE\n",
      "Start Uploading (100/138) : ./upload_samples/BIN_INV/onexone/Screenshot_2020-05-11-19-03-01_BINARY_INV_97.png\n",
      "File ID: 19_47cbqaBkH9DtKSXM-EZM1cBkKtuD9Ti6pXC7p64Fo\n",
      "Start Uploading (101/138) : ./upload_samples/BIN_INV/onexone/Screenshot_2020-05-11-19-03-01_BINARY_INV_98.png\n",
      "File ID: 105c5T7XunN16NTW8CgLtXGkRCWvU46ZhAyJ9srEsz9E\n",
      "Start Uploading (102/138) : ./upload_samples/BIN_INV/onexone/Screenshot_2020-05-11-19-03-01_BINARY_INV_99.png\n"
     ]
    },
    {
     "name": "stdout",
     "output_type": "stream",
     "text": [
      "File ID: 1-WkurDel7JOmNhMixruU_zSCY6ck2153A8Lptm8D5ek\n",
      "Start Uploading (103/138) : ./upload_samples/BIN_INV/onexone/Screenshot_2020-05-11-19-03-04_BINARY_INV_102.png\n",
      "File ID: 1JXlfUROy-ftU5XPcB-805qQLcxRyctlf-Iebri_My7k\n",
      "Start Uploading (104/138) : ./upload_samples/BIN_INV/onexone/Screenshot_2020-05-11-19-03-04_BINARY_INV_103.png\n",
      "File ID: 1UGCdCQAIzfxEquiDEoh85xeZZFC3SNSS2GNSmlwW3vE\n",
      "Start Uploading (105/138) : ./upload_samples/BIN_INV/onexone/Screenshot_2020-05-11-19-03-04_BINARY_INV_104.png\n",
      "File ID: 1xoqA8uv5p-Zeopfr-_hVMuVHbHAohynL0_mbXu0UpEQ\n",
      "Start Uploading (106/138) : ./upload_samples/BIN_INV/onexone/Screenshot_2020-05-11-19-03-04_BINARY_INV_105.png\n",
      "File ID: 1Tm7le2rGH7-xvOFrePdopCEe7fo3I8TliNg0r_Tefz0\n",
      "Start Uploading (107/138) : ./upload_samples/BIN_INV/onexone/Screenshot_2020-05-11-19-03-04_BINARY_INV_106.png\n",
      "File ID: 1aa1_W91NcAL9h5Q3nok3dXI3HTaD0pAwaJ6jcr2iXzQ\n",
      "Start Uploading (108/138) : ./upload_samples/BIN_INV/onexone/Screenshot_2020-05-11-19-03-04_BINARY_INV_107.png\n",
      "File ID: 1JJZ1m4LcO_HBJCAGcQNvNUKdrgZCDiMuXeAzun10-Xo\n",
      "Start Uploading (109/138) : ./upload_samples/BIN_INV/onexone/Screenshot_2020-05-11-19-03-07_BINARY_INV_108.png\n",
      "File ID: 1iAvlkbn7lR9SZjVOGB4mvHi5jDMLgnFP4qjt2uBcjR4\n",
      "Start Uploading (110/138) : ./upload_samples/BIN_INV/onexone/Screenshot_2020-05-11-19-03-07_BINARY_INV_109.png\n",
      "File ID: 1Oej7pOLOKyQ359ETTg6nEHvV2ncZo7KbypyUV-BWTBI\n",
      "Start Uploading (111/138) : ./upload_samples/BIN_INV/onexone/Screenshot_2020-05-11-19-03-07_BINARY_INV_110.png\n",
      "File ID: 1t9dA8c1tecbD-W8PkBzQcwwWxOX3Bq7mtE9QRM9aUwk\n",
      "Start Uploading (112/138) : ./upload_samples/BIN_INV/onexone/Screenshot_2020-05-11-19-03-07_BINARY_INV_111.png\n",
      "File ID: 1IIyhHuyav73DOdVY8lRbwWueyVTI8-AK8a4V4pw3C50\n",
      "Start Uploading (113/138) : ./upload_samples/BIN_INV/onexone/Screenshot_2020-05-11-19-03-07_BINARY_INV_112.png\n",
      "File ID: 1522OOLWFbApx0GgqRYizycb2daM7fDT3hye4NeAouCI\n",
      "Start Uploading (114/138) : ./upload_samples/BIN_INV/onexone/Screenshot_2020-05-11-19-03-07_BINARY_INV_113.png\n",
      "File ID: 1eHSDk0nh9LarqB-zTaFfylbo98zUdRSEPLnc4pmnMFk\n",
      "Start Uploading (115/138) : ./upload_samples/BIN_INV/onexone/Screenshot_2020-05-11-19-03-11_BINARY_INV_114.png\n",
      "File ID: 19ZhFbE1jBmhL5j4rw7TsdXq2Ud0c8q_bzM5ZLNFV1Lc\n",
      "Start Uploading (116/138) : ./upload_samples/BIN_INV/onexone/Screenshot_2020-05-11-19-03-11_BINARY_INV_115.png\n",
      "File ID: 1RK5KlhM7VsTKxPvmhW4itpnRmDNX0rZMo85cnJVvlHs\n",
      "Start Uploading (117/138) : ./upload_samples/BIN_INV/onexone/Screenshot_2020-05-11-19-03-11_BINARY_INV_116.png\n",
      "File ID: 1BwqSr_pV0Vj2ZxFxFd3-FpPS7uJtmb8QBi0xhfZI7N0\n",
      "Start Uploading (118/138) : ./upload_samples/BIN_INV/onexone/Screenshot_2020-05-11-19-03-11_BINARY_INV_117.png\n",
      "File ID: 1rxV_o_AOjlLBRrGR3wO6SeQV_zFQDEzsSo56E2dqpdA\n",
      "Start Uploading (119/138) : ./upload_samples/BIN_INV/onexone/Screenshot_2020-05-11-19-03-11_BINARY_INV_118.png\n",
      "File ID: 1fvPNaTvtJJVBirLapHfq-6PxigXf1EK_RoyPxs1enOQ\n",
      "Start Uploading (120/138) : ./upload_samples/BIN_INV/onexone/Screenshot_2020-05-11-19-03-11_BINARY_INV_119.png\n",
      "File ID: 1j5148zNL1h9W0j52RK0jRR3PIVqRtKjWyo01McnQ58w\n",
      "Start Uploading (121/138) : ./upload_samples/BIN_INV/onexone/Screenshot_2020-05-11-19-03-16_BINARY_INV_120.png\n",
      "File ID: 1Rv--CyD9hP6OvOJBR-2K8sud0rGqTkyGudLNCngBopM\n",
      "Start Uploading (122/138) : ./upload_samples/BIN_INV/onexone/Screenshot_2020-05-11-19-03-16_BINARY_INV_121.png\n",
      "File ID: 1kGEGFShbbwd92WQ_ha3F0qiIijt0Q5Go2IZ_WqU1MWI\n",
      "Start Uploading (123/138) : ./upload_samples/BIN_INV/onexone/Screenshot_2020-05-11-19-03-16_BINARY_INV_122.png\n",
      "File ID: 111UDCdGI8nvWmzmbNazkpqSah9SeZZCjWDbiG9-pUkA\n",
      "Start Uploading (124/138) : ./upload_samples/BIN_INV/onexone/Screenshot_2020-05-11-19-03-16_BINARY_INV_123.png\n",
      "File ID: 18Yu0NuZd4IrNkbZhV2iaV5AknsYtC7VDeOaKNLOjLWI\n",
      "Start Uploading (125/138) : ./upload_samples/BIN_INV/onexone/Screenshot_2020-05-11-19-03-16_BINARY_INV_124.png\n",
      "File ID: 1L-EsGQGvIYXhiWWk6huj5Lf3WeeXnubNBbzATf7kxqk\n",
      "Start Uploading (126/138) : ./upload_samples/BIN_INV/onexone/Screenshot_2020-05-11-19-03-16_BINARY_INV_125.png\n",
      "File ID: 1i8_7wHha4Wpc3eZHfhTC_e1di7k5kfyKxoRE8DthX0c\n",
      "Start Uploading (127/138) : ./upload_samples/BIN_INV/onexone/Screenshot_2020-05-11-19-03-21_BINARY_INV_126.png\n",
      "File ID: 1_iIKUh_f-Gvsw7-C9DANngK9vHlxqu4aRARSbAuvySQ\n",
      "Start Uploading (128/138) : ./upload_samples/BIN_INV/onexone/Screenshot_2020-05-11-19-03-21_BINARY_INV_127.png\n",
      "File ID: 1CFl2ZGZ-Wuemp9WAimqwfq0ZgGv4YCpKgNxRLZKRHdk\n",
      "Start Uploading (129/138) : ./upload_samples/BIN_INV/onexone/Screenshot_2020-05-11-19-03-21_BINARY_INV_128.png\n",
      "File ID: 1T1oVFBw1GjsjfewNb48rU_44sw3J1dBpYlADDv1ua14\n",
      "Start Uploading (130/138) : ./upload_samples/BIN_INV/onexone/Screenshot_2020-05-11-19-03-21_BINARY_INV_129.png\n",
      "File ID: 1uvsHcjPYA3Es7Xmaoq58-4RYEmqq5EMrp_DVWAI5YLI\n",
      "Start Uploading (131/138) : ./upload_samples/BIN_INV/onexone/Screenshot_2020-05-11-19-03-21_BINARY_INV_130.png\n",
      "File ID: 11k87krtqSBmDuNL-Oh5jIH_H20v7ynrnJn6911B8hM8\n",
      "Start Uploading (132/138) : ./upload_samples/BIN_INV/onexone/Screenshot_2020-05-11-19-03-21_BINARY_INV_131.png\n",
      "File ID: 1rxzMLpcQd06lRvtbOwqX28YBxvcH-8du8n6BKxeGIYQ\n",
      "Start Uploading (133/138) : ./upload_samples/BIN_INV/onexone/Screenshot_2020-05-11-19-03-30_BINARY_INV_132.png\n",
      "File ID: 1Ow4UBVasqYx56khYEPpwTExOXFQq9CVsjl_SxVBebsM\n",
      "Start Uploading (134/138) : ./upload_samples/BIN_INV/onexone/Screenshot_2020-05-11-19-03-30_BINARY_INV_133.png\n",
      "File ID: 1Jx9MQqsBDBhadqRrhxwR7FFDmc9PdXCa2v8Iw9RgIQY\n",
      "Start Uploading (135/138) : ./upload_samples/BIN_INV/onexone/Screenshot_2020-05-11-19-03-30_BINARY_INV_134.png\n",
      "File ID: 1T27tqTiqesMRRB9guXCyVNqACeH-0XjAp8B4rICZvAQ\n",
      "Start Uploading (136/138) : ./upload_samples/BIN_INV/onexone/Screenshot_2020-05-11-19-03-30_BINARY_INV_135.png\n",
      "File ID: 1t5scGQAyS99-bBM-gCr0NgeKly6b1JC58QE8r3LUYww\n",
      "Start Uploading (137/138) : ./upload_samples/BIN_INV/onexone/Screenshot_2020-05-11-19-03-30_BINARY_INV_136.png\n",
      "File ID: 1cYxl8a5D6s1Vg-i93lFJ-y06RwMNKLfNMYlGeDzVSFc\n",
      "Start Uploading (138/138) : ./upload_samples/BIN_INV/onexone/Screenshot_2020-05-11-19-03-30_BINARY_INV_137.png\n",
      "File ID: 1WnuNAz83JL0IcZI0QG3ZyDlSAqAk0T5oX1mvqI0_hr0\n"
     ]
    }
   ],
   "source": [
    "upload_len = len(file_names)\n",
    "for i, file_name in enumerate(file_names):\n",
    "    fn = os.path.basename(file_name)\n",
    "    fp = os.path.dirname(file_name) + '/'\n",
    "    print(\"Start Uploading ({}/{}) : {}\".format(i+1, upload_len, fp+fn))\n",
    "    file_id = gh.upload(fn, fp, folder_id=folder_id, as_docs=True, verbose=True)\n",
    "    file_ids.append(file_id)"
   ]
  },
  {
   "cell_type": "markdown",
   "metadata": {},
   "source": [
    "### 2.1 download"
   ]
  },
  {
   "cell_type": "code",
   "execution_count": 7,
   "metadata": {},
   "outputs": [],
   "source": [
    "save_path= './download_sample/onexone/'"
   ]
  },
  {
   "cell_type": "code",
   "execution_count": 8,
   "metadata": {
    "scrolled": true
   },
   "outputs": [
    {
     "name": "stdout",
     "output_type": "stream",
     "text": [
      "Start Downloading (1/138) : 1djMdjfvyj_nwSHAtMl6gQJob8fvAmPi9wuNl8Vvpnjw\n",
      "Screenshot_2020-05-11-19-01-45_BINARY_INV_0.txt Download 100%.\n",
      "Start Downloading (2/138) : 1LD4tF4Ag7aVaGQpwvwYQQdw1thxHXwYVHueEAkrINrA\n",
      "Screenshot_2020-05-11-19-01-45_BINARY_INV_1.txt Download 100%.\n",
      "Start Downloading (3/138) : 1PwD66PLKdiosmqdf8mckA7W4lCK27Y68S_Xb51ONUrw\n",
      "Screenshot_2020-05-11-19-01-45_BINARY_INV_2.txt Download 100%.\n",
      "Start Downloading (4/138) : 1EEgMrhU2_pFrU5ZE67NtXsbWNO3qMCvLWjf4ceCdL8g\n",
      "Screenshot_2020-05-11-19-01-45_BINARY_INV_3.txt Download 100%.\n",
      "Start Downloading (5/138) : 1azRWKZUM2HsODyJHB7XfMnRSP1VJLGwvnXrXhfFYEmg\n",
      "Screenshot_2020-05-11-19-01-45_BINARY_INV_4.txt Download 100%.\n",
      "Start Downloading (6/138) : 1j7IcZTh-qBQYjPn3jDndo8TxpzQLsDNqn0_s3qkBZu4\n",
      "Screenshot_2020-05-11-19-01-45_BINARY_INV_5.txt Download 100%.\n",
      "Start Downloading (7/138) : 1BPZhK4BB5Wik2GMYJidrNt_h2kggWlaUpbz4WyHFmF0\n",
      "Screenshot_2020-05-11-19-02-00_BINARY_INV_10.txt Download 100%.\n",
      "Start Downloading (8/138) : 1AwcZk3KRTZcHAOdYoU1g44ceQTxrrfLhEA5ggoYog4w\n",
      "Screenshot_2020-05-11-19-02-00_BINARY_INV_11.txt Download 100%.\n",
      "Start Downloading (9/138) : 1tHzz4wPht6Mmqeh8tdmuOs2Apg7wG_6eUwuevLAbjfY\n",
      "Screenshot_2020-05-11-19-02-00_BINARY_INV_6.txt Download 100%.\n",
      "Start Downloading (10/138) : 1kO6wKg6cQ4Bhp66fsrXqlhIP-o0O1fQSxy-4LQ9KDmY\n",
      "Screenshot_2020-05-11-19-02-00_BINARY_INV_7.txt Download 100%.\n",
      "Start Downloading (11/138) : 1tOqN8UJpLRQFpMKXcnydnsZI0Nsng4BbBu9JXP81cRM\n",
      "Screenshot_2020-05-11-19-02-00_BINARY_INV_8.txt Download 100%.\n",
      "Start Downloading (12/138) : 1qNOSA4KwrEbC0FFspl-lhBxlAzh4R8TKYkEhxTtphb0\n",
      "Screenshot_2020-05-11-19-02-00_BINARY_INV_9.txt Download 100%.\n",
      "Start Downloading (13/138) : 1m-mbooYKZEPh7_H9c4_gnqsRGPsuHXAjsw6Rmpt5nAA\n",
      "Screenshot_2020-05-11-19-02-04_BINARY_INV_12.txt Download 100%.\n",
      "Start Downloading (14/138) : 1Rc-XEIKnylJ4NDjjVzVV6zZH55n-VyowLmmYId_dBDg\n",
      "Screenshot_2020-05-11-19-02-04_BINARY_INV_13.txt Download 100%.\n",
      "Start Downloading (15/138) : 1nUlAIsI76-Xwj6DAsxH6lC2OCzNrXz2o1Vjiyf9dqwE\n",
      "Screenshot_2020-05-11-19-02-04_BINARY_INV_14.txt Download 100%.\n",
      "Start Downloading (16/138) : 1s65hj-85J5QT5tU5csBhMERSeIeH7_yfM5XAAY74E6I\n",
      "Screenshot_2020-05-11-19-02-04_BINARY_INV_15.txt Download 100%.\n",
      "Start Downloading (17/138) : 1U4H-4XH9eEM0_4giPkjf_zcus991XR0RrKWuR1QArSU\n",
      "Screenshot_2020-05-11-19-02-04_BINARY_INV_16.txt Download 100%.\n",
      "Start Downloading (18/138) : 1Fr0RCzyrT919Zn6BdlFkcDsgSREyFWHK_iUDv03HpCo\n",
      "Screenshot_2020-05-11-19-02-04_BINARY_INV_17.txt Download 100%.\n",
      "Start Downloading (19/138) : 1gGzYYcXA8-8yk0Hl95D42yNfxvaVNRI5ZB0j4AShd9s\n",
      "Screenshot_2020-05-11-19-02-07_BINARY_INV_18.txt Download 100%.\n",
      "Start Downloading (20/138) : 1UGYBbhNQajHo8ddNK1IrZiJvn5CICL4ZL8dyKEblqts\n",
      "Screenshot_2020-05-11-19-02-07_BINARY_INV_19.txt Download 100%.\n",
      "Start Downloading (21/138) : 1sZpyE4u3VuuDV3Pobkufh3A4xFcKjSEmGkf5IeEEN6U\n",
      "Screenshot_2020-05-11-19-02-07_BINARY_INV_20.txt Download 100%.\n",
      "Start Downloading (22/138) : 17-9xTTJ2st-P1nNtSHP0kWNR16MJXdxPe02OZkenMQs\n",
      "Screenshot_2020-05-11-19-02-07_BINARY_INV_21.txt Download 100%.\n",
      "Start Downloading (23/138) : 1_XQNJHAir0ZxS_jqsOopnBKs-HjK4WN13p00yj6fTi0\n",
      "Screenshot_2020-05-11-19-02-07_BINARY_INV_22.txt Download 100%.\n",
      "Start Downloading (24/138) : 1hmrre35dWEy7F9t_Im3dnItzGecbyouiRa-TxFBOiGo\n",
      "Screenshot_2020-05-11-19-02-07_BINARY_INV_23.txt Download 100%.\n",
      "Start Downloading (25/138) : 1RSGZNUBCW_PEmzSvg6unWTWRx59N3kvAgAr_18Sm5TQ\n",
      "Screenshot_2020-05-11-19-02-11_BINARY_INV_24.txt Download 100%.\n",
      "Start Downloading (26/138) : 1EsEDjjUegL3LPnhKuOHJgQIDMfj2pHbbarV9Fi4B-Xc\n",
      "Screenshot_2020-05-11-19-02-11_BINARY_INV_25.txt Download 100%.\n",
      "Start Downloading (27/138) : 1VR3sBeSB3UubRo8vo9shvSX-bSYoin_vANCmRn0ttYA\n",
      "Screenshot_2020-05-11-19-02-11_BINARY_INV_26.txt Download 100%.\n",
      "Start Downloading (28/138) : 1wQ9nGeXF3dzj1pbIp4pADww05jdeEmMeVo47OzizCOI\n",
      "Screenshot_2020-05-11-19-02-11_BINARY_INV_27.txt Download 100%.\n",
      "Start Downloading (29/138) : 1oaUltqiZPRvheJ6CSFe4RomW3QA_u8QC8Hvmn8aR9kc\n",
      "Screenshot_2020-05-11-19-02-11_BINARY_INV_28.txt Download 100%.\n",
      "Start Downloading (30/138) : 1PiQSiP-8fFGbnIETpImt5A2KOfXYFz5PiL1Xe2-v0FI\n",
      "Screenshot_2020-05-11-19-02-11_BINARY_INV_29.txt Download 100%.\n",
      "Start Downloading (31/138) : 1Cj78wQDBmqrvW5ADOlTczSi26H2LX6XQZ1S52S_U0Y4\n",
      "Screenshot_2020-05-11-19-02-15_BINARY_INV_30.txt Download 100%.\n",
      "Start Downloading (32/138) : 1_GMleqUh2GMahHsclwhrWuuSK3Xgs_jmbWY4EmB2Ce8\n",
      "Screenshot_2020-05-11-19-02-15_BINARY_INV_31.txt Download 100%.\n",
      "Start Downloading (33/138) : 1_MN8ZyuIu8_idpLGfd7mhIw-sWN9F4BtUOk3Q1q0Mxs\n",
      "Screenshot_2020-05-11-19-02-15_BINARY_INV_32.txt Download 100%.\n",
      "Start Downloading (34/138) : 107v3-u_MFB9BMnDjERoRrkHJ5qYwemeh4cjYqHQaWWU\n",
      "Screenshot_2020-05-11-19-02-15_BINARY_INV_33.txt Download 100%.\n",
      "Start Downloading (35/138) : 1xhUrt8P8PzAgI43Omr2tTBHN3TuRwahuXzP-aZLovYU\n",
      "Screenshot_2020-05-11-19-02-15_BINARY_INV_34.txt Download 100%.\n",
      "Start Downloading (36/138) : 1EDZAlvoCU6BALywvMGQdJw0_la5nZNVEjlJ4XeDfaP8\n",
      "Screenshot_2020-05-11-19-02-15_BINARY_INV_35.txt Download 100%.\n",
      "Start Downloading (37/138) : 1ZQLeO9eSnUhGZofJdZFDQt4SXij7xn927FGTocIa0Jo\n",
      "Screenshot_2020-05-11-19-02-19_BINARY_INV_36.txt Download 100%.\n",
      "Start Downloading (38/138) : 1nhhPC_o1x6nsPlRI1B60EE94Gg8ymEaW-sobIX-KQ1o\n",
      "Screenshot_2020-05-11-19-02-19_BINARY_INV_37.txt Download 100%.\n",
      "Start Downloading (39/138) : 1ZhARWqjb8QJeo5aKQ1Oa7Wihk370WCuVyZROG0x6Lhk\n",
      "Screenshot_2020-05-11-19-02-19_BINARY_INV_38.txt Download 100%.\n",
      "Start Downloading (40/138) : 1A1XcfADoIGYVadScyHRrbSpzBy7BLHe8hzzLJ5CaEK0\n",
      "Screenshot_2020-05-11-19-02-19_BINARY_INV_39.txt Download 100%.\n",
      "Start Downloading (41/138) : 1xXaWTCaHS9YW1ClmFvCXVoR95zxGvuJo6numJMbUlvM\n",
      "Screenshot_2020-05-11-19-02-19_BINARY_INV_40.txt Download 100%.\n",
      "Start Downloading (42/138) : 1T8NLo8kT-8eOVVICk2fEGVIhr6V6UBbwMUiZN5hyQ_w\n",
      "Screenshot_2020-05-11-19-02-19_BINARY_INV_41.txt Download 100%.\n",
      "Start Downloading (43/138) : 1mZIsXGxIVyuVTQZybVlSgcP1Tf_uetJLVRVMHCeJPnc\n",
      "Screenshot_2020-05-11-19-02-22_BINARY_INV_42.txt Download 100%.\n",
      "Start Downloading (44/138) : 1em64WSNtej-jx2nUrfwo6X64s2012MljcGtsyrGZWic\n",
      "Screenshot_2020-05-11-19-02-22_BINARY_INV_43.txt Download 100%.\n",
      "Start Downloading (45/138) : 13uvnMYpf4v6WjFvG9XvrFTDlBWdBJZjvLyttg2O36yw\n",
      "Screenshot_2020-05-11-19-02-22_BINARY_INV_44.txt Download 100%.\n",
      "Start Downloading (46/138) : 1Q8t-8qjHrUnR7kWg6eHwSvMvOP5muq4udXCwDex2FKU\n",
      "Screenshot_2020-05-11-19-02-22_BINARY_INV_45.txt Download 100%.\n",
      "Start Downloading (47/138) : 1QQPKpjVAefAilKG7Zl21Ve9g4DG1i6Aka5niKwEP56c\n",
      "Screenshot_2020-05-11-19-02-22_BINARY_INV_46.txt Download 100%.\n",
      "Start Downloading (48/138) : 1fZalkuKlPejS4eA3Wd1kOIOvRzJDqlVs4cjgByBpJxQ\n",
      "Screenshot_2020-05-11-19-02-22_BINARY_INV_47.txt Download 100%.\n",
      "Start Downloading (49/138) : 1cofhu2UAmuc2YTarysU4b5FrxgOd7eRLvfKPHWY4l7M\n",
      "Screenshot_2020-05-11-19-02-26_BINARY_INV_48.txt Download 100%.\n",
      "Start Downloading (50/138) : 1PthA1kxWtPBePYKHNfgnCdXFlkk_80xhi-mL2VEcNWQ\n",
      "Screenshot_2020-05-11-19-02-26_BINARY_INV_49.txt Download 100%.\n",
      "Start Downloading (51/138) : 1JyojoMRaO_IbbjKB-SGPc9_Q7H14fKbE8hgJxP36MLM\n",
      "Screenshot_2020-05-11-19-02-26_BINARY_INV_50.txt Download 100%.\n",
      "Start Downloading (52/138) : 1WxmOUTB3M_JMnfFxC_8vmAIBW9mFHRvAgnWQO4ubqBk\n",
      "Screenshot_2020-05-11-19-02-26_BINARY_INV_51.txt Download 100%.\n",
      "Start Downloading (53/138) : 1p9O1VsjPxKxeAYGkmcL6cwfqP2s-piHu0JmlbYHPzgg\n",
      "Screenshot_2020-05-11-19-02-26_BINARY_INV_52.txt Download 100%.\n",
      "Start Downloading (54/138) : 1FSsgfYUfhOR5uM9Mr8q9sJGRvxqA6eX72F-oQikY8pg\n",
      "Screenshot_2020-05-11-19-02-26_BINARY_INV_53.txt Download 100%.\n",
      "Start Downloading (55/138) : 1ms-rOHuocT-VN9HiiqYRqdiNk6MLtx2wQpiNkub_Uto\n",
      "Screenshot_2020-05-11-19-02-30_BINARY_INV_54.txt Download 100%.\n",
      "Start Downloading (56/138) : 1A04sLJyVXF9FGWDeAVaB23AjavJHk_cRuEHJhc4DcBM\n",
      "Screenshot_2020-05-11-19-02-30_BINARY_INV_55.txt Download 100%.\n",
      "Start Downloading (57/138) : 13T_AsyA0e-lrDHt9D5yzKhpD4FuKwIe7O4WhXlyTL7M\n",
      "Screenshot_2020-05-11-19-02-30_BINARY_INV_56.txt Download 100%.\n",
      "Start Downloading (58/138) : 1m8tKQnGmJl3R1PEMGs5yBrIBcoU_nt-rTyxDccI7vMw\n",
      "Screenshot_2020-05-11-19-02-30_BINARY_INV_57.txt Download 100%.\n",
      "Start Downloading (59/138) : 1kTpyHXBaD6-jVnOUGF8nRtlEGR0jG8-Jc8pYBru8U_c\n",
      "Screenshot_2020-05-11-19-02-30_BINARY_INV_58.txt Download 100%.\n",
      "Start Downloading (60/138) : 1B4zrfK8xToNM20mCLLR9x7XqwkAjOotvtaJiQfHx8nc\n"
     ]
    },
    {
     "name": "stdout",
     "output_type": "stream",
     "text": [
      "Screenshot_2020-05-11-19-02-30_BINARY_INV_59.txt Download 100%.\n",
      "Start Downloading (61/138) : 11zuXLYbw3PukBpV4pEpnDSIgH8KS33lPSdxfpzTo0ss\n",
      "Screenshot_2020-05-11-19-02-38_BINARY_INV_60.txt Download 100%.\n",
      "Start Downloading (62/138) : 1j4BsNf75SjlDizrBN5qTwJJzJBKOx2yyhLmCa_3Gbs4\n",
      "Screenshot_2020-05-11-19-02-38_BINARY_INV_61.txt Download 100%.\n",
      "Start Downloading (63/138) : 1-Hcm4RS89_3LcTjX4Y-T1HEZCHTAIWutA6AGiYz9W6A\n",
      "Screenshot_2020-05-11-19-02-38_BINARY_INV_62.txt Download 100%.\n",
      "Start Downloading (64/138) : 1xBhAEVMrWywFwqev2phmuyIfNf-2QCU4bb3m4pe-OW0\n",
      "Screenshot_2020-05-11-19-02-38_BINARY_INV_63.txt Download 100%.\n",
      "Start Downloading (65/138) : 18mQWzv-zEVRPSNnfbaBAearuyUhsYkVyl_mC4x5Nvs8\n",
      "Screenshot_2020-05-11-19-02-38_BINARY_INV_64.txt Download 100%.\n",
      "Start Downloading (66/138) : 1RixuUKfv2iiaQW_QYKgd9KCNcPyLSGJjisGbRFcXffs\n",
      "Screenshot_2020-05-11-19-02-38_BINARY_INV_65.txt Download 100%.\n",
      "Start Downloading (67/138) : 1I-XpYYTnkenkVAWQWJRpGorfpkfPV-fZa3TobUWuNQQ\n",
      "Screenshot_2020-05-11-19-02-42_BINARY_INV_66.txt Download 100%.\n",
      "Start Downloading (68/138) : 11YDSLAtWCt2kSMZdEydgGaPwA80ewaioRdlbr7v0_ZQ\n",
      "Screenshot_2020-05-11-19-02-42_BINARY_INV_67.txt Download 100%.\n",
      "Start Downloading (69/138) : 1DdVUzRtYs0ucQFB1_95rgp5HTz7fAHuQlwoAKgNs5m4\n",
      "Screenshot_2020-05-11-19-02-42_BINARY_INV_68.txt Download 100%.\n",
      "Start Downloading (70/138) : 1E42MSCF5HaMBmj_371I_jMls1FZ3vhHujEGnrJfvoh0\n",
      "Screenshot_2020-05-11-19-02-42_BINARY_INV_69.txt Download 100%.\n",
      "Start Downloading (71/138) : 1d1b7u8OJmaGFads8ojF9YCw-GBM_7UcCjEF9kNuvymU\n",
      "Screenshot_2020-05-11-19-02-42_BINARY_INV_70.txt Download 100%.\n",
      "Start Downloading (72/138) : 1AwF-M1aIGMTmD0I3Js7wdvRwOoRa-_HIudDsamtMsSE\n",
      "Screenshot_2020-05-11-19-02-42_BINARY_INV_71.txt Download 100%.\n",
      "Start Downloading (73/138) : 18vYkV9faA0BoZu2nnTmZp9nGSjmgxKO17x2M_Xd2N38\n",
      "Screenshot_2020-05-11-19-02-45_BINARY_INV_72.txt Download 100%.\n",
      "Start Downloading (74/138) : 1_Crx9usROyZYpfRik7Z98VAkSau3cQbERB8Tog1VpFo\n",
      "Screenshot_2020-05-11-19-02-45_BINARY_INV_73.txt Download 100%.\n",
      "Start Downloading (75/138) : 1yHCQ0IQmmWxYVkBER9LwqEm8xGxn6TRKX-2gf0jqczo\n",
      "Screenshot_2020-05-11-19-02-45_BINARY_INV_74.txt Download 100%.\n",
      "Start Downloading (76/138) : 12BsNQEsAVbilbqmGZR86rwAB0q1dTWkZjr9zFVQ6iiA\n",
      "Screenshot_2020-05-11-19-02-45_BINARY_INV_75.txt Download 100%.\n",
      "Start Downloading (77/138) : 1jpjPIrmjl_VUP5QiUcicLEgxvSSR98deZ7awoo5UHAY\n",
      "Screenshot_2020-05-11-19-02-45_BINARY_INV_76.txt Download 100%.\n",
      "Start Downloading (78/138) : 1lGRAw0YSc1zWtw5B-aMMvlMW8NHK3dKCiBcQD3c18l4\n",
      "Screenshot_2020-05-11-19-02-45_BINARY_INV_77.txt Download 100%.\n",
      "Start Downloading (79/138) : 1jUivaRyDWnsBSsIKWxpzNTHJF1umqnVWLOXaiUo_50Y\n",
      "Screenshot_2020-05-11-19-02-48_BINARY_INV_78.txt Download 100%.\n",
      "Start Downloading (80/138) : 1BBUaqNb0O-OeD1CRcTPDF78EOsqRJV-rjZGikiBCoVA\n",
      "Screenshot_2020-05-11-19-02-48_BINARY_INV_79.txt Download 100%.\n",
      "Start Downloading (81/138) : 19ATFqEm3rCY0GZ3FG7DVHdall7l-J0OVRsffW2X2xnQ\n",
      "Screenshot_2020-05-11-19-02-48_BINARY_INV_80.txt Download 100%.\n",
      "Start Downloading (82/138) : 1AgjITNSV1sBhqqGX8DMaMvWaACUvvCDGIzxS8w0aXxk\n",
      "Screenshot_2020-05-11-19-02-48_BINARY_INV_81.txt Download 100%.\n",
      "Start Downloading (83/138) : 1H073iCMXhMoc2OTM9zzfaRn_nAZ3mB7DQGdDtjsDpFA\n",
      "Screenshot_2020-05-11-19-02-48_BINARY_INV_82.txt Download 100%.\n",
      "Start Downloading (84/138) : 1mLEp6HGi6HRRPxstbGJkG1bhIgMYKJGA-cqxr-6BnLo\n",
      "Screenshot_2020-05-11-19-02-48_BINARY_INV_83.txt Download 100%.\n",
      "Start Downloading (85/138) : 1esRd4oSiri9QLHw3LAA0bnNu7p1bG-Y1B9yYmSJ2emI\n",
      "Screenshot_2020-05-11-19-02-52_BINARY_INV_84.txt Download 100%.\n",
      "Start Downloading (86/138) : 1uHo2hRUAjG577PXTCdXyG-rRygBGpDoHQooHCMG06tE\n",
      "Screenshot_2020-05-11-19-02-52_BINARY_INV_85.txt Download 100%.\n",
      "Start Downloading (87/138) : 1OdEm2pdIT15rcNVMnBmtuYeeMNwfSIx3jUCirTsRLVs\n",
      "Screenshot_2020-05-11-19-02-52_BINARY_INV_86.txt Download 100%.\n",
      "Start Downloading (88/138) : 1GGpIZZ1uS0rJNGL7iz3I9Rx7Pkvzn9k8Pg-T-TXRg5M\n",
      "Screenshot_2020-05-11-19-02-52_BINARY_INV_87.txt Download 100%.\n",
      "Start Downloading (89/138) : 1lnMb-thSKFA9TgwcbVtiRTk9d6Mintk_vP6m2qTku0I\n",
      "Screenshot_2020-05-11-19-02-52_BINARY_INV_88.txt Download 100%.\n",
      "Start Downloading (90/138) : 1QxJEkHk7_pCqxuiCNYKNnzOIge0ZM1b6FYqzv-K4n_Q\n",
      "Screenshot_2020-05-11-19-02-52_BINARY_INV_89.txt Download 100%.\n",
      "Start Downloading (91/138) : 1PsX5HqbnjjLUn7F-VYehgf_QuiCUF9HdbTW7aJgHrOE\n",
      "Screenshot_2020-05-11-19-02-57_BINARY_INV_90.txt Download 100%.\n",
      "Start Downloading (92/138) : 1aoXzouCoESAz2j7fsUe6JDtqkTMslG5VAMoNN121lek\n",
      "Screenshot_2020-05-11-19-02-57_BINARY_INV_91.txt Download 100%.\n",
      "Start Downloading (93/138) : 1CMSHMd4q3FDCoEqjZNXrlGr0Hb9pOgYIOOVYFc4Qx_I\n",
      "Screenshot_2020-05-11-19-02-57_BINARY_INV_92.txt Download 100%.\n",
      "Start Downloading (94/138) : 1I-bJu1deg5k_n0ihUPTM-Cd25BT3dd07tO9OKMH3GBk\n",
      "Screenshot_2020-05-11-19-02-57_BINARY_INV_93.txt Download 100%.\n",
      "Start Downloading (95/138) : 11FLMq9i-3aTluNWqvpSG9_StcHR9vFnnTjPw0t-DOFQ\n",
      "Screenshot_2020-05-11-19-02-57_BINARY_INV_94.txt Download 100%.\n",
      "Start Downloading (96/138) : 1PudTwkqrnzCEiPC9dUogjgMjUIee8fMp6-tEzk5PGAg\n",
      "Screenshot_2020-05-11-19-02-57_BINARY_INV_95.txt Download 100%.\n",
      "Start Downloading (97/138) : 1IOxQtFIshC5gfMSs_mybVp8EmLJRWqdYjQCpq6hbTtY\n",
      "Screenshot_2020-05-11-19-03-01_BINARY_INV_100.txt Download 100%.\n",
      "Start Downloading (98/138) : 1j7oe-lDTfg9VZrPYaMNkmSZIqQno39-Cszuq-t39HGY\n",
      "Screenshot_2020-05-11-19-03-01_BINARY_INV_101.txt Download 100%.\n",
      "Start Downloading (99/138) : 1pZ3jTzYrb31HfN9BghoZbwZAm0WYQ99PQuLGN2olaTE\n",
      "Screenshot_2020-05-11-19-03-01_BINARY_INV_96.txt Download 100%.\n",
      "Start Downloading (100/138) : 19_47cbqaBkH9DtKSXM-EZM1cBkKtuD9Ti6pXC7p64Fo\n",
      "Screenshot_2020-05-11-19-03-01_BINARY_INV_97.txt Download 100%.\n",
      "Start Downloading (101/138) : 105c5T7XunN16NTW8CgLtXGkRCWvU46ZhAyJ9srEsz9E\n",
      "Screenshot_2020-05-11-19-03-01_BINARY_INV_98.txt Download 100%.\n",
      "Start Downloading (102/138) : 1-WkurDel7JOmNhMixruU_zSCY6ck2153A8Lptm8D5ek\n",
      "Screenshot_2020-05-11-19-03-01_BINARY_INV_99.txt Download 100%.\n",
      "Start Downloading (103/138) : 1JXlfUROy-ftU5XPcB-805qQLcxRyctlf-Iebri_My7k\n",
      "Screenshot_2020-05-11-19-03-04_BINARY_INV_102.txt Download 100%.\n",
      "Start Downloading (104/138) : 1UGCdCQAIzfxEquiDEoh85xeZZFC3SNSS2GNSmlwW3vE\n",
      "Screenshot_2020-05-11-19-03-04_BINARY_INV_103.txt Download 100%.\n",
      "Start Downloading (105/138) : 1xoqA8uv5p-Zeopfr-_hVMuVHbHAohynL0_mbXu0UpEQ\n",
      "Screenshot_2020-05-11-19-03-04_BINARY_INV_104.txt Download 100%.\n",
      "Start Downloading (106/138) : 1Tm7le2rGH7-xvOFrePdopCEe7fo3I8TliNg0r_Tefz0\n",
      "Screenshot_2020-05-11-19-03-04_BINARY_INV_105.txt Download 100%.\n",
      "Start Downloading (107/138) : 1aa1_W91NcAL9h5Q3nok3dXI3HTaD0pAwaJ6jcr2iXzQ\n",
      "Screenshot_2020-05-11-19-03-04_BINARY_INV_106.txt Download 100%.\n",
      "Start Downloading (108/138) : 1JJZ1m4LcO_HBJCAGcQNvNUKdrgZCDiMuXeAzun10-Xo\n",
      "Screenshot_2020-05-11-19-03-04_BINARY_INV_107.txt Download 100%.\n",
      "Start Downloading (109/138) : 1iAvlkbn7lR9SZjVOGB4mvHi5jDMLgnFP4qjt2uBcjR4\n",
      "Screenshot_2020-05-11-19-03-07_BINARY_INV_108.txt Download 100%.\n",
      "Start Downloading (110/138) : 1Oej7pOLOKyQ359ETTg6nEHvV2ncZo7KbypyUV-BWTBI\n",
      "Screenshot_2020-05-11-19-03-07_BINARY_INV_109.txt Download 100%.\n",
      "Start Downloading (111/138) : 1t9dA8c1tecbD-W8PkBzQcwwWxOX3Bq7mtE9QRM9aUwk\n",
      "Screenshot_2020-05-11-19-03-07_BINARY_INV_110.txt Download 100%.\n",
      "Start Downloading (112/138) : 1IIyhHuyav73DOdVY8lRbwWueyVTI8-AK8a4V4pw3C50\n",
      "Screenshot_2020-05-11-19-03-07_BINARY_INV_111.txt Download 100%.\n",
      "Start Downloading (113/138) : 1522OOLWFbApx0GgqRYizycb2daM7fDT3hye4NeAouCI\n",
      "Screenshot_2020-05-11-19-03-07_BINARY_INV_112.txt Download 100%.\n",
      "Start Downloading (114/138) : 1eHSDk0nh9LarqB-zTaFfylbo98zUdRSEPLnc4pmnMFk\n",
      "Screenshot_2020-05-11-19-03-07_BINARY_INV_113.txt Download 100%.\n",
      "Start Downloading (115/138) : 19ZhFbE1jBmhL5j4rw7TsdXq2Ud0c8q_bzM5ZLNFV1Lc\n",
      "Screenshot_2020-05-11-19-03-11_BINARY_INV_114.txt Download 100%.\n",
      "Start Downloading (116/138) : 1RK5KlhM7VsTKxPvmhW4itpnRmDNX0rZMo85cnJVvlHs\n",
      "Screenshot_2020-05-11-19-03-11_BINARY_INV_115.txt Download 100%.\n",
      "Start Downloading (117/138) : 1BwqSr_pV0Vj2ZxFxFd3-FpPS7uJtmb8QBi0xhfZI7N0\n",
      "Screenshot_2020-05-11-19-03-11_BINARY_INV_116.txt Download 100%.\n",
      "Start Downloading (118/138) : 1rxV_o_AOjlLBRrGR3wO6SeQV_zFQDEzsSo56E2dqpdA\n",
      "Screenshot_2020-05-11-19-03-11_BINARY_INV_117.txt Download 100%.\n",
      "Start Downloading (119/138) : 1fvPNaTvtJJVBirLapHfq-6PxigXf1EK_RoyPxs1enOQ\n",
      "Screenshot_2020-05-11-19-03-11_BINARY_INV_118.txt Download 100%.\n",
      "Start Downloading (120/138) : 1j5148zNL1h9W0j52RK0jRR3PIVqRtKjWyo01McnQ58w\n"
     ]
    },
    {
     "name": "stdout",
     "output_type": "stream",
     "text": [
      "Screenshot_2020-05-11-19-03-11_BINARY_INV_119.txt Download 100%.\n",
      "Start Downloading (121/138) : 1Rv--CyD9hP6OvOJBR-2K8sud0rGqTkyGudLNCngBopM\n",
      "Screenshot_2020-05-11-19-03-16_BINARY_INV_120.txt Download 100%.\n",
      "Start Downloading (122/138) : 1kGEGFShbbwd92WQ_ha3F0qiIijt0Q5Go2IZ_WqU1MWI\n",
      "Screenshot_2020-05-11-19-03-16_BINARY_INV_121.txt Download 100%.\n",
      "Start Downloading (123/138) : 111UDCdGI8nvWmzmbNazkpqSah9SeZZCjWDbiG9-pUkA\n",
      "Screenshot_2020-05-11-19-03-16_BINARY_INV_122.txt Download 100%.\n",
      "Start Downloading (124/138) : 18Yu0NuZd4IrNkbZhV2iaV5AknsYtC7VDeOaKNLOjLWI\n",
      "Screenshot_2020-05-11-19-03-16_BINARY_INV_123.txt Download 100%.\n",
      "Start Downloading (125/138) : 1L-EsGQGvIYXhiWWk6huj5Lf3WeeXnubNBbzATf7kxqk\n",
      "Screenshot_2020-05-11-19-03-16_BINARY_INV_124.txt Download 100%.\n",
      "Start Downloading (126/138) : 1i8_7wHha4Wpc3eZHfhTC_e1di7k5kfyKxoRE8DthX0c\n",
      "Screenshot_2020-05-11-19-03-16_BINARY_INV_125.txt Download 100%.\n",
      "Start Downloading (127/138) : 1_iIKUh_f-Gvsw7-C9DANngK9vHlxqu4aRARSbAuvySQ\n",
      "Screenshot_2020-05-11-19-03-21_BINARY_INV_126.txt Download 100%.\n",
      "Start Downloading (128/138) : 1CFl2ZGZ-Wuemp9WAimqwfq0ZgGv4YCpKgNxRLZKRHdk\n",
      "Screenshot_2020-05-11-19-03-21_BINARY_INV_127.txt Download 100%.\n",
      "Start Downloading (129/138) : 1T1oVFBw1GjsjfewNb48rU_44sw3J1dBpYlADDv1ua14\n",
      "Screenshot_2020-05-11-19-03-21_BINARY_INV_128.txt Download 100%.\n",
      "Start Downloading (130/138) : 1uvsHcjPYA3Es7Xmaoq58-4RYEmqq5EMrp_DVWAI5YLI\n",
      "Screenshot_2020-05-11-19-03-21_BINARY_INV_129.txt Download 100%.\n",
      "Start Downloading (131/138) : 11k87krtqSBmDuNL-Oh5jIH_H20v7ynrnJn6911B8hM8\n",
      "Screenshot_2020-05-11-19-03-21_BINARY_INV_130.txt Download 100%.\n",
      "Start Downloading (132/138) : 1rxzMLpcQd06lRvtbOwqX28YBxvcH-8du8n6BKxeGIYQ\n",
      "Screenshot_2020-05-11-19-03-21_BINARY_INV_131.txt Download 100%.\n",
      "Start Downloading (133/138) : 1Ow4UBVasqYx56khYEPpwTExOXFQq9CVsjl_SxVBebsM\n",
      "Screenshot_2020-05-11-19-03-30_BINARY_INV_132.txt Download 100%.\n",
      "Start Downloading (134/138) : 1Jx9MQqsBDBhadqRrhxwR7FFDmc9PdXCa2v8Iw9RgIQY\n",
      "Screenshot_2020-05-11-19-03-30_BINARY_INV_133.txt Download 100%.\n",
      "Start Downloading (135/138) : 1T27tqTiqesMRRB9guXCyVNqACeH-0XjAp8B4rICZvAQ\n",
      "Screenshot_2020-05-11-19-03-30_BINARY_INV_134.txt Download 100%.\n",
      "Start Downloading (136/138) : 1t5scGQAyS99-bBM-gCr0NgeKly6b1JC58QE8r3LUYww\n",
      "Screenshot_2020-05-11-19-03-30_BINARY_INV_135.txt Download 100%.\n",
      "Start Downloading (137/138) : 1cYxl8a5D6s1Vg-i93lFJ-y06RwMNKLfNMYlGeDzVSFc\n",
      "Screenshot_2020-05-11-19-03-30_BINARY_INV_136.txt Download 100%.\n",
      "Start Downloading (138/138) : 1WnuNAz83JL0IcZI0QG3ZyDlSAqAk0T5oX1mvqI0_hr0\n",
      "Screenshot_2020-05-11-19-03-30_BINARY_INV_137.txt Download 100%.\n"
     ]
    }
   ],
   "source": [
    "download_len = len(file_ids)\n",
    "for i, file_id in enumerate(file_ids):\n",
    "    print(\"Start Downloading ({}/{}) : {}\".format(i+1, download_len, file_id))\n",
    "    gh.download(file_id, save_path, verbose=True)"
   ]
  },
  {
   "cell_type": "markdown",
   "metadata": {},
   "source": [
    "# text 후처리"
   ]
  },
  {
   "cell_type": "code",
   "execution_count": 16,
   "metadata": {},
   "outputs": [
    {
     "data": {
      "text/plain": [
       "'0'"
      ]
     },
     "execution_count": 16,
     "metadata": {},
     "output_type": "execute_result"
    }
   ],
   "source": [
    "os.path.basename(txt_names[0]).split('.')[0].split('_')[-1]"
   ]
  },
  {
   "cell_type": "code",
   "execution_count": 9,
   "metadata": {},
   "outputs": [],
   "source": [
    "txt_path = './download_sample/onexone/'\n",
    "txt_names = glob.glob(txt_path + '*.txt')"
   ]
  },
  {
   "cell_type": "code",
   "execution_count": 25,
   "metadata": {},
   "outputs": [],
   "source": [
    "ocr_results3 = []\n",
    "for txt_name in txt_names:\n",
    "    file_num = os.path.basename(txt_name).split('.')[0].split('_')[-1]\n",
    "    with open(txt_name, 'r', encoding='utf-8-sig') as f:\n",
    "        a = f.readlines()\n",
    "        f.close()\n",
    "        a = list(map(str.strip, a))\n",
    "        for i in reversed(range(len(a))):\n",
    "            a[i] = ''.join(a[i].split(','))\n",
    "            a[i] = ''.join(a[i].split('.'))\n",
    "            if a[i].count('_') > 5:\n",
    "                a.pop(i)\n",
    "        if not a[0]:\n",
    "            a.pop(0)\n",
    "        a.append(file_num)\n",
    "        ocr_results3.append(a)"
   ]
  },
  {
   "cell_type": "code",
   "execution_count": 26,
   "metadata": {
    "scrolled": true
   },
   "outputs": [
    {
     "data": {
      "text/plain": [
       "[['폭풍검 맹주', '92766209', '0'],\n",
       " ['외돌', '64868740', '1'],\n",
       " ['Big Sish', '62022496', '2'],\n",
       " ['三國 알콜홀릭 장비', '57306656', '3'],\n",
       " ['폭풍 돌팸 황충', '54904940', '4'],\n",
       " ['방범은순찰', '54080839', '5'],\n",
       " ['유감토깽이', '44283716', '10'],\n",
       " ['불', '곰', '43482552', '-', '11'],\n",
       " ['행성파괴범', '50473307', '6'],\n",
       " ['北 안감독', '48509544', '7'],\n",
       " ['6072리', '47257891', '8'],\n",
       " ['폭풍JOKER 성인', '45310635', '9'],\n",
       " ['수정', '43332529', '12'],\n",
       " ['유로', '42464132', '13'],\n",
       " ['포유', '40871073', '14'],\n",
       " ['40248685', '15'],\n",
       " ['꽃', '0009', '40025455', '16'],\n",
       " ['찬사 대사', '39847285', '17'],\n",
       " ['북덕북덕', '39518411', '18'],\n",
       " ['北 서태웅', '38886046', '19'],\n",
       " ['혈마', '38096739', '20'],\n",
       " ['꼬따발', '37858456', '명장', '21'],\n",
       " ['폭풍을지 고문', '37381148', '22'],\n",
       " ['폭풍 캠핑', '37166287', '23'],\n",
       " ['폭풍 청산', '36809482', '24'],\n",
       " ['아버', '36443701', '25'],\n",
       " ['36210964', '26'],\n",
       " ['액트', '36038023', '27'],\n",
       " ['미산M', '36033619', '28'],\n",
       " ['약먹', '35703165', '29'],\n",
       " ['조시안서', '35630079', '30'],\n",
       " ['fireworkcorki', '35364942', '31'],\n",
       " ['우강다', '35267342', '32'],\n",
       " ['기범아마', '35199968', '33'],\n",
       " ['준비시작', '34739743', '34'],\n",
       " ['타도철수', '34311006', '35'],\n",
       " ['폭풍저는뉴비라잘몰라요', '34207518', '36'],\n",
       " ['마초상남자', '34169545', '37'],\n",
       " ['RyuNK', '33849499', '38'],\n",
       " ['33774111', '39'],\n",
       " ['어비스', '33692512', '40'],\n",
       " ['828 K9', '33678701', '41'],\n",
       " ['와이핀', '33631465', '42'],\n",
       " ['강씨아저씨', '33599233', '43'],\n",
       " ['폭풍호9와토9와로9', '33157480', '44'],\n",
       " ['DEATH PROOF', '32877741', '45'],\n",
       " ['황소', '32707983', '46'],\n",
       " ['농사꾼메데', '32707351', '47'],\n",
       " ['국제공항', '32663619', '48'],\n",
       " ['teto1', '32425519', '49'],\n",
       " ['코레아헌터', '32367575', '50'],\n",
       " ['철의 아툰', '32313034', '51'],\n",
       " ['루루타쿠', '31860233', '52'],\n",
       " ['빈도', '31416011', '53'],\n",
       " ['아크네피림', '31385887', '54'],\n",
       " ['킨잘', '31219039', '55'],\n",
       " ['을지로삼가', '31070499', '56'],\n",
       " ['Jenny888', '30416221', '57'],\n",
       " ['kensin83', '30414919', '58'],\n",
       " ['30332361', '59'],\n",
       " ['손무', '30270029', '60'],\n",
       " ['은색달', '30180422', '61'],\n",
       " ['God Kimchi', '30065900', '62'],\n",
       " ['나도함', '29674651', '63'],\n",
       " ['카니자', '29312569', '64'],\n",
       " ['폭퐁풍푹', '29186212', '65'],\n",
       " ['에스페란자', '29179134', '66'],\n",
       " ['아바타인간', '29125715', '67'],\n",
       " ['불화수소1', '29077900', '68'],\n",
       " ['페이탈리티', '28979010', '69'],\n",
       " ['성운성운', '28771959', '70'],\n",
       " ['마내가니라이언전무랑밥도먹고', '28597719', '71'],\n",
       " ['양념삼겹살', '28577865', '72'],\n",
       " ['1485삐삑', '28308030', '73'],\n",
       " ['구르마', '28293824', '74'],\n",
       " ['유니파더', '28168988', '75'],\n",
       " ['여왕라니아', '28130634', '76'],\n",
       " ['화중군자', '27862273', '77'],\n",
       " ['말짱도루묵으로만든묵사발', '27844033', '78'],\n",
       " ['거대햄스터', '27798258', '79'],\n",
       " ['테누토', '27612651', '80'],\n",
       " ['칵퉤잇', '27439489', '81'],\n",
       " ['김덕규', '27092994', '82'],\n",
       " ['Damwonshoemaker', '27059238', '83'],\n",
       " ['다꾸다꾸', '26857122', '84'],\n",
       " ['박향단', '26759969', '85'],\n",
       " ['RED가브리엘', '26750632', '86'],\n",
       " ['복돌이90', '26616744', '87'],\n",
       " ['폭풍날먹', '26501015', '88'],\n",
       " ['26160236', 'Dragonyy', '26460236', '89'],\n",
       " ['95 판다곰', '26422156', '90'],\n",
       " ['눈을 감자', '26382681', '91'],\n",
       " ['식량과목재', '26326602', '92'],\n",
       " ['네다바이', '26242118', '93'],\n",
       " ['이차분이', '26210106', '94'],\n",
       " ['우리가돈이없지가오가없어', '26151673', '95'],\n",
       " ['llii0993', '25156354', '100'],\n",
       " ['폭풍 기사', '25084536', '101'],\n",
       " ['이실로브', '26116603', '96'],\n",
       " ['감금물', '25990958', '97'],\n",
       " ['석류나무', '25439389', '98'],\n",
       " ['아속의비아', '25428158', '99'],\n",
       " ['조커', '24926762', '102'],\n",
       " ['김초심', '24859096', '103'],\n",
       " ['하이룽루', '24851747', '104'],\n",
       " ['北 강백호', '24792522', '105'],\n",
       " ['TOP뒷집형', '24563386', '106'],\n",
       " ['옹통령', '24237673', '107'],\n",
       " ['절대성웅이순신', '24206059', '108'],\n",
       " ['GEOEMPIRE', '24173494', '109'],\n",
       " ['린마마', '24108919', '110'],\n",
       " ['아톰행크스', '24092778', '111'],\n",
       " ['좋은아침', '23613728', '112'],\n",
       " ['아스라', '23104407', '113'],\n",
       " ['마마장군', '22993908', '114'],\n",
       " ['얼음전쟁', '22801393', '115'],\n",
       " ['펭러브', '22262986', '116'],\n",
       " ['정훈이', '21880621', '117'],\n",
       " ['DB 베지터', '21830208', '118'],\n",
       " ['고카스', '21688635', '119'],\n",
       " ['이기고싶다', '21660331', '120'],\n",
       " ['와이 2 제이', '21329542', '121'],\n",
       " ['태랑노군', '21071652', '122'],\n",
       " ['명세지재', '20586175', '123'],\n",
       " ['인수성', '20386506', '124'],\n",
       " ['Robin Since87', '20308580', '125'],\n",
       " ['후라이', '19975007', '126'],\n",
       " ['Beomky', '19965857', '127'],\n",
       " ['|전차', '19230398', '128'],\n",
       " ['최강장수', '18416855', '129'],\n",
       " ['지라리풍풍', '17535716', '130'],\n",
       " ['FTTSFlyHigh', '13598441', '131'],\n",
       " ['전차', '19230398', '132'],\n",
       " ['최강장수', '18416855', '133'],\n",
       " ['지라리풍풍', '17535716', '134'],\n",
       " ['FTTSFlyHigh', '13598441', '135'],\n",
       " ['알콩마을', '12553021', '136'],\n",
       " ['욱그리거', '11223569', '137']]"
      ]
     },
     "execution_count": 26,
     "metadata": {},
     "output_type": "execute_result"
    }
   ],
   "source": [
    "ocr_results3"
   ]
  },
  {
   "cell_type": "code",
   "execution_count": 27,
   "metadata": {},
   "outputs": [
    {
     "name": "stdout",
     "output_type": "stream",
     "text": [
      "7 5 ['불', '곰', '43482552', '-', '11']\n",
      "15 2 ['40248685', '15']\n",
      "16 4 ['꽃', '0009', '40025455', '16']\n",
      "21 4 ['꼬따발', '37858456', '명장', '21']\n",
      "26 2 ['36210964', '26']\n",
      "39 2 ['33774111', '39']\n",
      "59 2 ['30332361', '59']\n",
      "89 4 ['26160236', 'Dragonyy', '26460236', '89']\n"
     ]
    }
   ],
   "source": [
    "for i, elem in enumerate(ocr_results3):\n",
    "    if len(elem) != 3:\n",
    "        print(i, len(elem), elem)"
   ]
  },
  {
   "cell_type": "code",
   "execution_count": null,
   "metadata": {},
   "outputs": [],
   "source": []
  }
 ],
 "metadata": {
  "kernelspec": {
   "display_name": "Python 3",
   "language": "python",
   "name": "python3"
  },
  "language_info": {
   "codemirror_mode": {
    "name": "ipython",
    "version": 3
   },
   "file_extension": ".py",
   "mimetype": "text/x-python",
   "name": "python",
   "nbconvert_exporter": "python",
   "pygments_lexer": "ipython3",
   "version": "3.5.6"
  }
 },
 "nbformat": 4,
 "nbformat_minor": 4
}
