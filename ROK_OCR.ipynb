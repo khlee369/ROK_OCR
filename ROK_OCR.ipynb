{
 "cells": [
  {
   "cell_type": "markdown",
   "metadata": {},
   "source": [
    "# ROK_OCR"
   ]
  },
  {
   "cell_type": "code",
   "execution_count": 1,
   "metadata": {},
   "outputs": [],
   "source": [
    "import numpy as np\n",
    "import matplotlib.pyplot as plt\n",
    "import glob\n",
    "import os\n",
    "import cv2"
   ]
  },
  {
   "cell_type": "markdown",
   "metadata": {},
   "source": [
    "## 1. 이미지 -> BINARY_INV로"
   ]
  },
  {
   "cell_type": "code",
   "execution_count": 2,
   "metadata": {},
   "outputs": [],
   "source": [
    "def preprocess_pngs(data_path, save_path, verbose=False):\n",
    "    png_list = glob.glob(data_path + '*.png')\n",
    "    thr = 200\n",
    "    try:\n",
    "        os.mkdir(save_path)\n",
    "    except FileExistsError:\n",
    "        pass\n",
    "    for file_path in png_list:\n",
    "        img = cv2.imread(file_path,0)\n",
    "        img = img[230:850,335:1400]\n",
    "        ret,thresh2 = cv2.threshold(img,thr,255,cv2.THRESH_BINARY_INV)\n",
    "        png_name = file_path.split('\\\\')[-1]\n",
    "        save_name = save_path + png_name[:-4] + \"_BINARY_INV.png\"\n",
    "        if verbose:\n",
    "            print(\"FROM : {}\".format(file_path))\n",
    "            print(\"TO : {}\".format(save_name))\n",
    "        cv2.imwrite(save_name, thresh2)"
   ]
  },
  {
   "cell_type": "code",
   "execution_count": 3,
   "metadata": {
    "scrolled": false
   },
   "outputs": [
    {
     "name": "stdout",
     "output_type": "stream",
     "text": [
      "FROM : ./upload_samples\\Screenshot_2020-05-11-19-01-45.png\n",
      "TO : ./upload_samples/BIN_INV/Screenshot_2020-05-11-19-01-45_BINARY_INV.png\n",
      "FROM : ./upload_samples\\Screenshot_2020-05-11-19-02-00.png\n",
      "TO : ./upload_samples/BIN_INV/Screenshot_2020-05-11-19-02-00_BINARY_INV.png\n",
      "FROM : ./upload_samples\\Screenshot_2020-05-11-19-02-04.png\n",
      "TO : ./upload_samples/BIN_INV/Screenshot_2020-05-11-19-02-04_BINARY_INV.png\n",
      "FROM : ./upload_samples\\Screenshot_2020-05-11-19-02-07.png\n",
      "TO : ./upload_samples/BIN_INV/Screenshot_2020-05-11-19-02-07_BINARY_INV.png\n",
      "FROM : ./upload_samples\\Screenshot_2020-05-11-19-02-11.png\n",
      "TO : ./upload_samples/BIN_INV/Screenshot_2020-05-11-19-02-11_BINARY_INV.png\n",
      "FROM : ./upload_samples\\Screenshot_2020-05-11-19-02-15.png\n",
      "TO : ./upload_samples/BIN_INV/Screenshot_2020-05-11-19-02-15_BINARY_INV.png\n",
      "FROM : ./upload_samples\\Screenshot_2020-05-11-19-02-19.png\n",
      "TO : ./upload_samples/BIN_INV/Screenshot_2020-05-11-19-02-19_BINARY_INV.png\n",
      "FROM : ./upload_samples\\Screenshot_2020-05-11-19-02-22.png\n",
      "TO : ./upload_samples/BIN_INV/Screenshot_2020-05-11-19-02-22_BINARY_INV.png\n",
      "FROM : ./upload_samples\\Screenshot_2020-05-11-19-02-26.png\n",
      "TO : ./upload_samples/BIN_INV/Screenshot_2020-05-11-19-02-26_BINARY_INV.png\n",
      "FROM : ./upload_samples\\Screenshot_2020-05-11-19-02-30.png\n",
      "TO : ./upload_samples/BIN_INV/Screenshot_2020-05-11-19-02-30_BINARY_INV.png\n",
      "FROM : ./upload_samples\\Screenshot_2020-05-11-19-02-38.png\n",
      "TO : ./upload_samples/BIN_INV/Screenshot_2020-05-11-19-02-38_BINARY_INV.png\n",
      "FROM : ./upload_samples\\Screenshot_2020-05-11-19-02-42.png\n",
      "TO : ./upload_samples/BIN_INV/Screenshot_2020-05-11-19-02-42_BINARY_INV.png\n",
      "FROM : ./upload_samples\\Screenshot_2020-05-11-19-02-45.png\n",
      "TO : ./upload_samples/BIN_INV/Screenshot_2020-05-11-19-02-45_BINARY_INV.png\n",
      "FROM : ./upload_samples\\Screenshot_2020-05-11-19-02-48.png\n",
      "TO : ./upload_samples/BIN_INV/Screenshot_2020-05-11-19-02-48_BINARY_INV.png\n",
      "FROM : ./upload_samples\\Screenshot_2020-05-11-19-02-52.png\n",
      "TO : ./upload_samples/BIN_INV/Screenshot_2020-05-11-19-02-52_BINARY_INV.png\n",
      "FROM : ./upload_samples\\Screenshot_2020-05-11-19-02-57.png\n",
      "TO : ./upload_samples/BIN_INV/Screenshot_2020-05-11-19-02-57_BINARY_INV.png\n",
      "FROM : ./upload_samples\\Screenshot_2020-05-11-19-03-01.png\n",
      "TO : ./upload_samples/BIN_INV/Screenshot_2020-05-11-19-03-01_BINARY_INV.png\n",
      "FROM : ./upload_samples\\Screenshot_2020-05-11-19-03-04.png\n",
      "TO : ./upload_samples/BIN_INV/Screenshot_2020-05-11-19-03-04_BINARY_INV.png\n",
      "FROM : ./upload_samples\\Screenshot_2020-05-11-19-03-07.png\n",
      "TO : ./upload_samples/BIN_INV/Screenshot_2020-05-11-19-03-07_BINARY_INV.png\n",
      "FROM : ./upload_samples\\Screenshot_2020-05-11-19-03-11.png\n",
      "TO : ./upload_samples/BIN_INV/Screenshot_2020-05-11-19-03-11_BINARY_INV.png\n",
      "FROM : ./upload_samples\\Screenshot_2020-05-11-19-03-16.png\n",
      "TO : ./upload_samples/BIN_INV/Screenshot_2020-05-11-19-03-16_BINARY_INV.png\n",
      "FROM : ./upload_samples\\Screenshot_2020-05-11-19-03-21.png\n",
      "TO : ./upload_samples/BIN_INV/Screenshot_2020-05-11-19-03-21_BINARY_INV.png\n",
      "FROM : ./upload_samples\\Screenshot_2020-05-11-19-03-30.png\n",
      "TO : ./upload_samples/BIN_INV/Screenshot_2020-05-11-19-03-30_BINARY_INV.png\n"
     ]
    }
   ],
   "source": [
    "data_path = './upload_samples/'\n",
    "save_path = './upload_samples/BIN_INV/'\n",
    "preprocess_pngs(data_path, save_path, True)"
   ]
  },
  {
   "cell_type": "markdown",
   "metadata": {},
   "source": [
    "## 2. 구글 드라이브를 통한 OCR"
   ]
  },
  {
   "cell_type": "code",
   "execution_count": 4,
   "metadata": {},
   "outputs": [],
   "source": [
    "from driveHelper import GHelper\n",
    "gh = GHelper()"
   ]
  },
  {
   "cell_type": "markdown",
   "metadata": {},
   "source": [
    "### 2.1 upload"
   ]
  },
  {
   "cell_type": "code",
   "execution_count": 5,
   "metadata": {},
   "outputs": [],
   "source": [
    "folder_id = '1LREb_uoCXV6ELURQW25fbfzEP01puwHt'\n",
    "file_names = glob.glob(save_path + '*.png')\n",
    "file_ids = []"
   ]
  },
  {
   "cell_type": "code",
   "execution_count": 6,
   "metadata": {
    "scrolled": false
   },
   "outputs": [
    {
     "name": "stdout",
     "output_type": "stream",
     "text": [
      "Start Uploading (1/23) : ./upload_samples/BIN_INV/Screenshot_2020-05-11-19-01-45_BINARY_INV.png\n",
      "File ID: 19VfVlk8ZlFgn9LapoYCjKusxppgGOMfTPYV9nH_KaBs\n",
      "Start Uploading (2/23) : ./upload_samples/BIN_INV/Screenshot_2020-05-11-19-02-00_BINARY_INV.png\n",
      "File ID: 1ylWDKWth6tfG-SrK4FUjEtKPPCILFoty7BOl2RA5yEI\n",
      "Start Uploading (3/23) : ./upload_samples/BIN_INV/Screenshot_2020-05-11-19-02-04_BINARY_INV.png\n",
      "File ID: 1Ytvyjyq2FOt2EFtGowbqAsRxpF8rFcmnykK9pvQsfbY\n",
      "Start Uploading (4/23) : ./upload_samples/BIN_INV/Screenshot_2020-05-11-19-02-07_BINARY_INV.png\n",
      "File ID: 1lKeph0Tb9EDijHkhZg6NuWuSi0nzP9z7T7fpSUoQyZ0\n",
      "Start Uploading (5/23) : ./upload_samples/BIN_INV/Screenshot_2020-05-11-19-02-11_BINARY_INV.png\n",
      "File ID: 1FskxrOAj1GXg819GXidXlAnbiWVmGMpS-waB3ej_qcA\n",
      "Start Uploading (6/23) : ./upload_samples/BIN_INV/Screenshot_2020-05-11-19-02-15_BINARY_INV.png\n",
      "File ID: 1ca_b8zyU6Mn6xYyPROoQmtq3Tw1vk2Lbs4CKoo-p8F8\n",
      "Start Uploading (7/23) : ./upload_samples/BIN_INV/Screenshot_2020-05-11-19-02-19_BINARY_INV.png\n",
      "File ID: 18dUGjnoS1Qi1BHADExlu9BivdrfsON2gb8WfaLO2sbA\n",
      "Start Uploading (8/23) : ./upload_samples/BIN_INV/Screenshot_2020-05-11-19-02-22_BINARY_INV.png\n",
      "File ID: 1jKCkTeSrsa2dSeuQRrWr2aUX_zNUoDHccJ-HOW-octQ\n",
      "Start Uploading (9/23) : ./upload_samples/BIN_INV/Screenshot_2020-05-11-19-02-26_BINARY_INV.png\n",
      "File ID: 1b1gvrGZ4aATMOjuXnxPD14oRgBxYyzaNJW1SO9o-SiE\n",
      "Start Uploading (10/23) : ./upload_samples/BIN_INV/Screenshot_2020-05-11-19-02-30_BINARY_INV.png\n",
      "File ID: 1xMS8uIRqoxT6wao-R7WOW7jj7-VYq7ZV-gSSYqeqNq0\n",
      "Start Uploading (11/23) : ./upload_samples/BIN_INV/Screenshot_2020-05-11-19-02-38_BINARY_INV.png\n",
      "File ID: 1oKeWMrJCaoaOAR2tZZZfQqGo8TBmooBMT3loajghEds\n",
      "Start Uploading (12/23) : ./upload_samples/BIN_INV/Screenshot_2020-05-11-19-02-42_BINARY_INV.png\n",
      "File ID: 1YwObIHgbLKIBGjgpaPi6HysEsCP8EDPmLtE5g99kv6A\n",
      "Start Uploading (13/23) : ./upload_samples/BIN_INV/Screenshot_2020-05-11-19-02-45_BINARY_INV.png\n",
      "File ID: 14YPY5YFSToWau4MYf3INREYJtZ_2_XlP_7u50brASTw\n",
      "Start Uploading (14/23) : ./upload_samples/BIN_INV/Screenshot_2020-05-11-19-02-48_BINARY_INV.png\n",
      "File ID: 1FMXo9duCzO55EUsdoJOPsMDxpU54j7TRO4fev0gXLBM\n",
      "Start Uploading (15/23) : ./upload_samples/BIN_INV/Screenshot_2020-05-11-19-02-52_BINARY_INV.png\n",
      "File ID: 15AvNSKZhXQEroUJTsWQefP6H0DnjpQkvoebeIROzQms\n",
      "Start Uploading (16/23) : ./upload_samples/BIN_INV/Screenshot_2020-05-11-19-02-57_BINARY_INV.png\n",
      "File ID: 1_HHdDilqbJoCH1QQQI3PxWe-nV_gp-n_KwDvqvKJ-NE\n",
      "Start Uploading (17/23) : ./upload_samples/BIN_INV/Screenshot_2020-05-11-19-03-01_BINARY_INV.png\n",
      "File ID: 1Wo-HknDgBcJ7woCMfXjZpyvCJFCiGw2hzKZ0hRkwsxM\n",
      "Start Uploading (18/23) : ./upload_samples/BIN_INV/Screenshot_2020-05-11-19-03-04_BINARY_INV.png\n",
      "File ID: 1cmUhTo50Kp1AwuTmthptglGUjcrQwJQPcBrI9u8k0fk\n",
      "Start Uploading (19/23) : ./upload_samples/BIN_INV/Screenshot_2020-05-11-19-03-07_BINARY_INV.png\n",
      "File ID: 1K5NfxUyT-V3SSLUmQXx_TCfRZuTNOrqGy9uDwmVB9zQ\n",
      "Start Uploading (20/23) : ./upload_samples/BIN_INV/Screenshot_2020-05-11-19-03-11_BINARY_INV.png\n",
      "File ID: 1tMswN1JJHrS9EKKUoQTusdp8V0vOfgZ06RpxVE9flpE\n",
      "Start Uploading (21/23) : ./upload_samples/BIN_INV/Screenshot_2020-05-11-19-03-16_BINARY_INV.png\n",
      "File ID: 1GO55-VuUdlEAE100PQRvjwJVgZA_LywbFdPD6VmXfeU\n",
      "Start Uploading (22/23) : ./upload_samples/BIN_INV/Screenshot_2020-05-11-19-03-21_BINARY_INV.png\n",
      "File ID: 1UKFBG7ld0eQtaYbtBrvd1NkkcpmS2E2YxQsZM4KHekQ\n",
      "Start Uploading (23/23) : ./upload_samples/BIN_INV/Screenshot_2020-05-11-19-03-30_BINARY_INV.png\n",
      "File ID: 1sk84EoeoUnZjEoS7Uv-W1PKXAp0RzUIL_mhdwRUl-r4\n"
     ]
    }
   ],
   "source": [
    "upload_len = len(file_names)\n",
    "for i, file_name in enumerate(file_names):\n",
    "    fn = os.path.basename(file_name)\n",
    "    fp = os.path.dirname(file_name) + '/'\n",
    "    print(\"Start Uploading ({}/{}) : {}\".format(i+1, upload_len, fp+fn))\n",
    "    file_id = gh.upload(fn, fp, folder_id=folder_id, as_docs=True, verbose=True)\n",
    "    file_ids.append(file_id)"
   ]
  },
  {
   "cell_type": "markdown",
   "metadata": {},
   "source": [
    "### 2.1 download"
   ]
  },
  {
   "cell_type": "code",
   "execution_count": 9,
   "metadata": {},
   "outputs": [],
   "source": [
    "save_path= './download_sample/'"
   ]
  },
  {
   "cell_type": "code",
   "execution_count": 10,
   "metadata": {},
   "outputs": [
    {
     "name": "stdout",
     "output_type": "stream",
     "text": [
      "Start Downloading (1/23) : 19VfVlk8ZlFgn9LapoYCjKusxppgGOMfTPYV9nH_KaBs\n",
      "Screenshot_2020-05-11-19-01-45_BINARY_INV.txt Download 100%.\n",
      "Start Downloading (2/23) : 1ylWDKWth6tfG-SrK4FUjEtKPPCILFoty7BOl2RA5yEI\n",
      "Screenshot_2020-05-11-19-02-00_BINARY_INV.txt Download 100%.\n",
      "Start Downloading (3/23) : 1Ytvyjyq2FOt2EFtGowbqAsRxpF8rFcmnykK9pvQsfbY\n",
      "Screenshot_2020-05-11-19-02-04_BINARY_INV.txt Download 100%.\n",
      "Start Downloading (4/23) : 1lKeph0Tb9EDijHkhZg6NuWuSi0nzP9z7T7fpSUoQyZ0\n",
      "Screenshot_2020-05-11-19-02-07_BINARY_INV.txt Download 100%.\n",
      "Start Downloading (5/23) : 1FskxrOAj1GXg819GXidXlAnbiWVmGMpS-waB3ej_qcA\n",
      "Screenshot_2020-05-11-19-02-11_BINARY_INV.txt Download 100%.\n",
      "Start Downloading (6/23) : 1ca_b8zyU6Mn6xYyPROoQmtq3Tw1vk2Lbs4CKoo-p8F8\n",
      "Screenshot_2020-05-11-19-02-15_BINARY_INV.txt Download 100%.\n",
      "Start Downloading (7/23) : 18dUGjnoS1Qi1BHADExlu9BivdrfsON2gb8WfaLO2sbA\n",
      "Screenshot_2020-05-11-19-02-19_BINARY_INV.txt Download 100%.\n",
      "Start Downloading (8/23) : 1jKCkTeSrsa2dSeuQRrWr2aUX_zNUoDHccJ-HOW-octQ\n",
      "Screenshot_2020-05-11-19-02-22_BINARY_INV.txt Download 100%.\n",
      "Start Downloading (9/23) : 1b1gvrGZ4aATMOjuXnxPD14oRgBxYyzaNJW1SO9o-SiE\n",
      "Screenshot_2020-05-11-19-02-26_BINARY_INV.txt Download 100%.\n",
      "Start Downloading (10/23) : 1xMS8uIRqoxT6wao-R7WOW7jj7-VYq7ZV-gSSYqeqNq0\n",
      "Screenshot_2020-05-11-19-02-30_BINARY_INV.txt Download 100%.\n",
      "Start Downloading (11/23) : 1oKeWMrJCaoaOAR2tZZZfQqGo8TBmooBMT3loajghEds\n",
      "Screenshot_2020-05-11-19-02-38_BINARY_INV.txt Download 100%.\n",
      "Start Downloading (12/23) : 1YwObIHgbLKIBGjgpaPi6HysEsCP8EDPmLtE5g99kv6A\n",
      "Screenshot_2020-05-11-19-02-42_BINARY_INV.txt Download 100%.\n",
      "Start Downloading (13/23) : 14YPY5YFSToWau4MYf3INREYJtZ_2_XlP_7u50brASTw\n",
      "Screenshot_2020-05-11-19-02-45_BINARY_INV.txt Download 100%.\n",
      "Start Downloading (14/23) : 1FMXo9duCzO55EUsdoJOPsMDxpU54j7TRO4fev0gXLBM\n",
      "Screenshot_2020-05-11-19-02-48_BINARY_INV.txt Download 100%.\n",
      "Start Downloading (15/23) : 15AvNSKZhXQEroUJTsWQefP6H0DnjpQkvoebeIROzQms\n",
      "Screenshot_2020-05-11-19-02-52_BINARY_INV.txt Download 100%.\n",
      "Start Downloading (16/23) : 1_HHdDilqbJoCH1QQQI3PxWe-nV_gp-n_KwDvqvKJ-NE\n",
      "Screenshot_2020-05-11-19-02-57_BINARY_INV.txt Download 100%.\n",
      "Start Downloading (17/23) : 1Wo-HknDgBcJ7woCMfXjZpyvCJFCiGw2hzKZ0hRkwsxM\n",
      "Screenshot_2020-05-11-19-03-01_BINARY_INV.txt Download 100%.\n",
      "Start Downloading (18/23) : 1cmUhTo50Kp1AwuTmthptglGUjcrQwJQPcBrI9u8k0fk\n",
      "Screenshot_2020-05-11-19-03-04_BINARY_INV.txt Download 100%.\n",
      "Start Downloading (19/23) : 1K5NfxUyT-V3SSLUmQXx_TCfRZuTNOrqGy9uDwmVB9zQ\n",
      "Screenshot_2020-05-11-19-03-07_BINARY_INV.txt Download 100%.\n",
      "Start Downloading (20/23) : 1tMswN1JJHrS9EKKUoQTusdp8V0vOfgZ06RpxVE9flpE\n",
      "Screenshot_2020-05-11-19-03-11_BINARY_INV.txt Download 100%.\n",
      "Start Downloading (21/23) : 1GO55-VuUdlEAE100PQRvjwJVgZA_LywbFdPD6VmXfeU\n",
      "Screenshot_2020-05-11-19-03-16_BINARY_INV.txt Download 100%.\n",
      "Start Downloading (22/23) : 1UKFBG7ld0eQtaYbtBrvd1NkkcpmS2E2YxQsZM4KHekQ\n",
      "Screenshot_2020-05-11-19-03-21_BINARY_INV.txt Download 100%.\n",
      "Start Downloading (23/23) : 1sk84EoeoUnZjEoS7Uv-W1PKXAp0RzUIL_mhdwRUl-r4\n",
      "Screenshot_2020-05-11-19-03-30_BINARY_INV.txt Download 100%.\n"
     ]
    }
   ],
   "source": [
    "download_len = len(file_ids)\n",
    "for i, file_id in enumerate(file_ids):\n",
    "    print(\"Start Downloading ({}/{}) : {}\".format(i+1, download_len, file_id))\n",
    "    gh.download(file_id, save_path, verbose=True)"
   ]
  },
  {
   "cell_type": "code",
   "execution_count": null,
   "metadata": {},
   "outputs": [],
   "source": []
  }
 ],
 "metadata": {
  "kernelspec": {
   "display_name": "Python 3",
   "language": "python",
   "name": "python3"
  },
  "language_info": {
   "codemirror_mode": {
    "name": "ipython",
    "version": 3
   },
   "file_extension": ".py",
   "mimetype": "text/x-python",
   "name": "python",
   "nbconvert_exporter": "python",
   "pygments_lexer": "ipython3",
   "version": "3.5.6"
  }
 },
 "nbformat": 4,
 "nbformat_minor": 4
}
